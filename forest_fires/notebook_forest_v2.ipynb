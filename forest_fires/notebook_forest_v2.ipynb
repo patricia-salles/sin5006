{
 "cells": [
  {
   "cell_type": "markdown",
   "metadata": {},
   "source": [
    "***\n",
    "\n",
    "# Análise de incêndios no Brasil de 2008 a 2017\n",
    "\n",
    "***\n",
    "\n",
    "![fires](https://media1.tenor.com/images/9d82f04f3b28893bb2a51eb32c28d96f/tenor.gif?itemid=9016777)\n",
    "\n",
    "***\n",
    "Artigo referência: Nonpooling Convolutional Neural Network Forecasting for Seasonal Time Series with Trends"
   ]
  },
  {
   "cell_type": "code",
   "execution_count": 55,
   "metadata": {
    "scrolled": true
   },
   "outputs": [
    {
     "data": {
      "text/html": [
       "\n",
       "        <iframe\n",
       "            width=\"800\"\n",
       "            height=\"300\"\n",
       "            src=\"Nonpooling Convolutional Neural Network Forecasting for Seasonal Time Series with Trends.pdf\"\n",
       "            frameborder=\"0\"\n",
       "            allowfullscreen\n",
       "        ></iframe>\n",
       "        "
      ],
      "text/plain": [
       "<IPython.lib.display.IFrame at 0x26d2d672508>"
      ]
     },
     "execution_count": 55,
     "metadata": {},
     "output_type": "execute_result"
    }
   ],
   "source": [
    "from IPython.display import IFrame\n",
    "IFrame(\"Nonpooling Convolutional Neural Network Forecasting for Seasonal Time Series with Trends.pdf\", width=800, height=300)"
   ]
  },
  {
   "cell_type": "markdown",
   "metadata": {},
   "source": [
    "# Sumário"
   ]
  },
  {
   "cell_type": "markdown",
   "metadata": {},
   "source": [
    "1. Entendimento  do  Negócio\n",
    "2. Entendimento  dos  Dados\n",
    "3. Preparação  dos  Dados\n",
    "4. Modelagem\n",
    "5. Avaliação\n",
    "***"
   ]
  },
  {
   "cell_type": "markdown",
   "metadata": {},
   "source": [
    " "
   ]
  },
  {
   "cell_type": "code",
   "execution_count": 1,
   "metadata": {},
   "outputs": [],
   "source": [
    "import pandas as pd\n",
    "from datetime import date\n",
    "import matplotlib.pyplot as plt\n",
    "import seaborn as sns\n",
    "import plotly.express as px\n",
    "import plotly.graph_objects as go"
   ]
  },
  {
   "cell_type": "code",
   "execution_count": 2,
   "metadata": {},
   "outputs": [],
   "source": [
    "forest = pd.read_csv(\"amazon.csv\", sep=',', encoding='latin-1')"
   ]
  },
  {
   "cell_type": "code",
   "execution_count": 3,
   "metadata": {},
   "outputs": [
    {
     "data": {
      "text/html": [
       "<div>\n",
       "<style scoped>\n",
       "    .dataframe tbody tr th:only-of-type {\n",
       "        vertical-align: middle;\n",
       "    }\n",
       "\n",
       "    .dataframe tbody tr th {\n",
       "        vertical-align: top;\n",
       "    }\n",
       "\n",
       "    .dataframe thead th {\n",
       "        text-align: right;\n",
       "    }\n",
       "</style>\n",
       "<table border=\"1\" class=\"dataframe\">\n",
       "  <thead>\n",
       "    <tr style=\"text-align: right;\">\n",
       "      <th></th>\n",
       "      <th>year</th>\n",
       "      <th>state</th>\n",
       "      <th>month</th>\n",
       "      <th>number</th>\n",
       "      <th>date</th>\n",
       "    </tr>\n",
       "  </thead>\n",
       "  <tbody>\n",
       "    <tr>\n",
       "      <th>0</th>\n",
       "      <td>1998</td>\n",
       "      <td>Acre</td>\n",
       "      <td>Janeiro</td>\n",
       "      <td>0.0</td>\n",
       "      <td>1998-01-01</td>\n",
       "    </tr>\n",
       "    <tr>\n",
       "      <th>1</th>\n",
       "      <td>1999</td>\n",
       "      <td>Acre</td>\n",
       "      <td>Janeiro</td>\n",
       "      <td>0.0</td>\n",
       "      <td>1999-01-01</td>\n",
       "    </tr>\n",
       "    <tr>\n",
       "      <th>2</th>\n",
       "      <td>2000</td>\n",
       "      <td>Acre</td>\n",
       "      <td>Janeiro</td>\n",
       "      <td>0.0</td>\n",
       "      <td>2000-01-01</td>\n",
       "    </tr>\n",
       "    <tr>\n",
       "      <th>3</th>\n",
       "      <td>2001</td>\n",
       "      <td>Acre</td>\n",
       "      <td>Janeiro</td>\n",
       "      <td>0.0</td>\n",
       "      <td>2001-01-01</td>\n",
       "    </tr>\n",
       "    <tr>\n",
       "      <th>4</th>\n",
       "      <td>2002</td>\n",
       "      <td>Acre</td>\n",
       "      <td>Janeiro</td>\n",
       "      <td>0.0</td>\n",
       "      <td>2002-01-01</td>\n",
       "    </tr>\n",
       "  </tbody>\n",
       "</table>\n",
       "</div>"
      ],
      "text/plain": [
       "   year state    month  number        date\n",
       "0  1998  Acre  Janeiro     0.0  1998-01-01\n",
       "1  1999  Acre  Janeiro     0.0  1999-01-01\n",
       "2  2000  Acre  Janeiro     0.0  2000-01-01\n",
       "3  2001  Acre  Janeiro     0.0  2001-01-01\n",
       "4  2002  Acre  Janeiro     0.0  2002-01-01"
      ]
     },
     "execution_count": 3,
     "metadata": {},
     "output_type": "execute_result"
    }
   ],
   "source": [
    "forest.head()"
   ]
  },
  {
   "cell_type": "code",
   "execution_count": 4,
   "metadata": {
    "scrolled": true
   },
   "outputs": [],
   "source": [
    "forest=forest.drop('date', axis=1)"
   ]
  },
  {
   "cell_type": "code",
   "execution_count": 5,
   "metadata": {},
   "outputs": [],
   "source": [
    "forest[\"month\"] = forest[\"month\"].map({\"Janeiro\": \"1\",\n",
    "                         \"Fevereiro\": \"2\",\n",
    "                         \"Março\": \"3\",\n",
    "                         \"Abril\": \"4\",\n",
    "                         \"Maio\": \"5\",\n",
    "                         \"Junho\": \"6\",\n",
    "                         \"Julho\": \"7\",\n",
    "                         \"Agosto\": \"8\",\n",
    "                         \"Setembro\": \"9\",\n",
    "                         \"Outubro\": \"10\",\n",
    "                         \"Novembro\": \"11\",\n",
    "                         \"Dezembro\": \"12\",}).astype(int)"
   ]
  },
  {
   "cell_type": "code",
   "execution_count": 6,
   "metadata": {},
   "outputs": [
    {
     "data": {
      "text/plain": [
       "year        int64\n",
       "state      object\n",
       "month       int32\n",
       "number    float64\n",
       "dtype: object"
      ]
     },
     "execution_count": 6,
     "metadata": {},
     "output_type": "execute_result"
    }
   ],
   "source": [
    "forest.dtypes"
   ]
  },
  {
   "cell_type": "code",
   "execution_count": 7,
   "metadata": {},
   "outputs": [],
   "source": [
    "data = []\n",
    "for y, m in zip(forest.year, forest.month):\n",
    "    data.append(date(y, m, 1))\n",
    "\n",
    "\n",
    "forest['data'] = data"
   ]
  },
  {
   "cell_type": "code",
   "execution_count": 8,
   "metadata": {},
   "outputs": [
    {
     "data": {
      "text/html": [
       "<div>\n",
       "<style scoped>\n",
       "    .dataframe tbody tr th:only-of-type {\n",
       "        vertical-align: middle;\n",
       "    }\n",
       "\n",
       "    .dataframe tbody tr th {\n",
       "        vertical-align: top;\n",
       "    }\n",
       "\n",
       "    .dataframe thead th {\n",
       "        text-align: right;\n",
       "    }\n",
       "</style>\n",
       "<table border=\"1\" class=\"dataframe\">\n",
       "  <thead>\n",
       "    <tr style=\"text-align: right;\">\n",
       "      <th></th>\n",
       "      <th>year</th>\n",
       "      <th>state</th>\n",
       "      <th>month</th>\n",
       "      <th>number</th>\n",
       "      <th>data</th>\n",
       "    </tr>\n",
       "  </thead>\n",
       "  <tbody>\n",
       "    <tr>\n",
       "      <th>0</th>\n",
       "      <td>1998</td>\n",
       "      <td>Acre</td>\n",
       "      <td>1</td>\n",
       "      <td>0.0</td>\n",
       "      <td>1998-01-01</td>\n",
       "    </tr>\n",
       "    <tr>\n",
       "      <th>1</th>\n",
       "      <td>1999</td>\n",
       "      <td>Acre</td>\n",
       "      <td>1</td>\n",
       "      <td>0.0</td>\n",
       "      <td>1999-01-01</td>\n",
       "    </tr>\n",
       "    <tr>\n",
       "      <th>2</th>\n",
       "      <td>2000</td>\n",
       "      <td>Acre</td>\n",
       "      <td>1</td>\n",
       "      <td>0.0</td>\n",
       "      <td>2000-01-01</td>\n",
       "    </tr>\n",
       "    <tr>\n",
       "      <th>3</th>\n",
       "      <td>2001</td>\n",
       "      <td>Acre</td>\n",
       "      <td>1</td>\n",
       "      <td>0.0</td>\n",
       "      <td>2001-01-01</td>\n",
       "    </tr>\n",
       "    <tr>\n",
       "      <th>4</th>\n",
       "      <td>2002</td>\n",
       "      <td>Acre</td>\n",
       "      <td>1</td>\n",
       "      <td>0.0</td>\n",
       "      <td>2002-01-01</td>\n",
       "    </tr>\n",
       "  </tbody>\n",
       "</table>\n",
       "</div>"
      ],
      "text/plain": [
       "   year state  month  number        data\n",
       "0  1998  Acre      1     0.0  1998-01-01\n",
       "1  1999  Acre      1     0.0  1999-01-01\n",
       "2  2000  Acre      1     0.0  2000-01-01\n",
       "3  2001  Acre      1     0.0  2001-01-01\n",
       "4  2002  Acre      1     0.0  2002-01-01"
      ]
     },
     "execution_count": 8,
     "metadata": {},
     "output_type": "execute_result"
    }
   ],
   "source": [
    "forest.head()"
   ]
  },
  {
   "cell_type": "code",
   "execution_count": 9,
   "metadata": {},
   "outputs": [],
   "source": [
    "aux = forest.groupby(['year'])['number'].agg('sum').reset_index()"
   ]
  },
  {
   "cell_type": "code",
   "execution_count": 10,
   "metadata": {},
   "outputs": [
    {
     "data": {
      "image/png": "[encoded data removed]",
      "text/plain": [
       "<Figure size 1152x648 with 1 Axes>"
      ]
     },
     "metadata": {},
     "output_type": "display_data"
    }
   ],
   "source": [
    "# Set up the defaults\n",
    "sns.set_style('whitegrid')\n",
    "from matplotlib.pyplot import MaxNLocator, FuncFormatter\n",
    "\n",
    "plt.figure(figsize=(16,9))\n",
    "\n",
    "# Make the plot\n",
    "ax = sns.lineplot(x = 'year', y = 'number', data = aux, estimator = 'sum', color = '#FF5555', \n",
    "                  lw = 3.5, err_style = None , alpha = 0.85)\n",
    "# Create a line\n",
    "#import pylab as p\n",
    "#p.arrow( 1998, 25000, 19, 15000, facecolor=\"#FFB27A\", edgecolor=\"#FFB27A\", head_width=0, head_length=0, length_includes_head = False,\n",
    "#       width = 0.15, alpha = 0.7, shape = \"full\")\n",
    "\n",
    "# Make pretty\n",
    "plt.title('Total Incendios no Brasil: 1998 - 2017', fontsize = 25)\n",
    "plt.xlabel('Ano', fontsize = 20)\n",
    "plt.ylabel('Número de incêndios', fontsize = 20)\n",
    "plt.xticks(fontsize = 15)\n",
    "plt.yticks(fontsize = 15)\n",
    "\n",
    "ax.xaxis.set_major_locator(plt.MaxNLocator(19))\n",
    "ax.set_xlim(1998, 2017)\n",
    "\n",
    "ax.get_yaxis().set_major_formatter(plt.FuncFormatter(lambda x, p: format(int(x), ',')))"
   ]
  },
  {
   "cell_type": "code",
   "execution_count": 11,
   "metadata": {},
   "outputs": [
    {
     "data": {
      "text/html": [
       "<div>\n",
       "<style scoped>\n",
       "    .dataframe tbody tr th:only-of-type {\n",
       "        vertical-align: middle;\n",
       "    }\n",
       "\n",
       "    .dataframe tbody tr th {\n",
       "        vertical-align: top;\n",
       "    }\n",
       "\n",
       "    .dataframe thead th {\n",
       "        text-align: right;\n",
       "    }\n",
       "</style>\n",
       "<table border=\"1\" class=\"dataframe\">\n",
       "  <thead>\n",
       "    <tr style=\"text-align: right;\">\n",
       "      <th></th>\n",
       "      <th>year</th>\n",
       "      <th>Total_Fires</th>\n",
       "    </tr>\n",
       "  </thead>\n",
       "  <tbody>\n",
       "    <tr>\n",
       "      <th>0</th>\n",
       "      <td>1998</td>\n",
       "      <td>20014.0</td>\n",
       "    </tr>\n",
       "    <tr>\n",
       "      <th>1</th>\n",
       "      <td>1999</td>\n",
       "      <td>26883.0</td>\n",
       "    </tr>\n",
       "    <tr>\n",
       "      <th>2</th>\n",
       "      <td>2000</td>\n",
       "      <td>27351.0</td>\n",
       "    </tr>\n",
       "    <tr>\n",
       "      <th>3</th>\n",
       "      <td>2001</td>\n",
       "      <td>29072.0</td>\n",
       "    </tr>\n",
       "    <tr>\n",
       "      <th>4</th>\n",
       "      <td>2002</td>\n",
       "      <td>37391.0</td>\n",
       "    </tr>\n",
       "  </tbody>\n",
       "</table>\n",
       "</div>"
      ],
      "text/plain": [
       "   year  Total_Fires\n",
       "0  1998      20014.0\n",
       "1  1999      26883.0\n",
       "2  2000      27351.0\n",
       "3  2001      29072.0\n",
       "4  2002      37391.0"
      ]
     },
     "execution_count": 11,
     "metadata": {},
     "output_type": "execute_result"
    }
   ],
   "source": [
    "#creating a list of years we have \n",
    "years=list(forest.year.unique())\n",
    "#creating an empty list, which will be populated later with amount of fires reported\n",
    "sub_fires_per_year=[]\n",
    "#using for loop to extract sum of fires reported for each year and append list above\n",
    "for i in years:\n",
    "    y=forest.loc[forest['year']==i].number.sum().round(0)\n",
    "    sub_fires_per_year.append(y)\n",
    "#creating a dictionary with results     \n",
    "fire_year_dic={'year':years,'Total_Fires':sub_fires_per_year}\n",
    "#creating a new sub dataframe for later plot \n",
    "time_plot_1_df=pd.DataFrame(fire_year_dic)\n",
    "#checking the dataframe\n",
    "time_plot_1_df.head(5)"
   ]
  },
  {
   "cell_type": "code",
   "execution_count": 12,
   "metadata": {},
   "outputs": [],
   "source": [
    "#With idea to look deeper, it will require a bit more prep-work \n",
    "\n",
    "#putting all available states in the list\n",
    "states=list(forest.state.unique())\n",
    "#creating empty list for each state that will be later appended\n",
    "acre_list=[]\n",
    "alagoas_list=[] \n",
    "amapa_list=[] \n",
    "amazonas_list=[] \n",
    "bahia_list=[] \n",
    "ceara_list=[]\n",
    "distrito_list=[] \n",
    "espirito_list=[] \n",
    "goias_list=[] \n",
    "maranhao_list=[] \n",
    "mato_list=[] \n",
    "minas_list=[]\n",
    "para_list=[] \n",
    "paraiba_list=[] \n",
    "perna_list=[]\n",
    "piau_list=[]\n",
    "rio_list=[]\n",
    "rondonia_list=[]\n",
    "roraima_list=[]\n",
    "santa_list=[]\n",
    "sao_list=[]\n",
    "sergipe_list=[]\n",
    "tocantins_list=[]"
   ]
  },
  {
   "cell_type": "code",
   "execution_count": 13,
   "metadata": {},
   "outputs": [],
   "source": [
    "#It get's interesting here\n",
    "\n",
    "#breaking down fires reported for each state throughtout 20 years and appending empty lists\n",
    "for x in states:\n",
    "    st=x\n",
    "    for i in years:\n",
    "        ye=i\n",
    "        if st=='Acre':\n",
    "            y= forest.loc[( forest[ 'state']== st) & ( forest[ 'year']== ye)].number.sum().round(0)\n",
    "            acre_list.append(y)\n",
    "        elif st=='Alagoas':\n",
    "            y= forest.loc[( forest[ 'state']== st) & ( forest[ 'year']== ye)].number.sum().round(0)\n",
    "            alagoas_list.append(y)\n",
    "        elif st=='Amazonas':\n",
    "            y= forest.loc[( forest[ 'state']== st) & ( forest[ 'year']== ye)].number.sum().round(0)\n",
    "            amazonas_list.append(y)\n",
    "        elif st=='Amapa':\n",
    "            y= forest.loc[( forest[ 'state']== st) & ( forest[ 'year']== ye)].number.sum().round(0)\n",
    "            amapa_list.append(y)\n",
    "        elif st=='Bahia':\n",
    "            y= forest.loc[( forest[ 'state']== st) & ( forest[ 'year']== ye)].number.sum().round(0)\n",
    "            bahia_list.append(y)\n",
    "        elif st=='Ceara':\n",
    "            y= forest.loc[( forest[ 'state']== st) & ( forest[ 'year']== ye)].number.sum().round(0)\n",
    "            ceara_list.append(y)\n",
    "        elif st=='Distrito Federal':\n",
    "            y= forest.loc[( forest[ 'state']== st) & ( forest[ 'year']== ye)].number.sum().round(0)\n",
    "            distrito_list.append(y)\n",
    "        elif st=='Espirito Santo':\n",
    "            y= forest.loc[( forest[ 'state']== st) & ( forest[ 'year']== ye)].number.sum().round(0)\n",
    "            espirito_list.append(y)\n",
    "        elif st=='Goias':\n",
    "            y= forest.loc[( forest[ 'state']== st) & ( forest[ 'year']== ye)].number.sum().round(0)\n",
    "            goias_list.append(y)\n",
    "        elif st=='Maranhao':\n",
    "            y= forest.loc[( forest[ 'state']== st) & ( forest[ 'year']== ye)].number.sum().round(0)\n",
    "            maranhao_list.append(y)\n",
    "        elif st=='Mato Grosso':\n",
    "            y= forest.loc[( forest[ 'state']== st) & ( forest[ 'year']== ye)].number.sum().round(0)\n",
    "            mato_list.append(y)\n",
    "        elif st=='Minas Gerais':\n",
    "            y= forest.loc[( forest[ 'state']== st) & ( forest[ 'year']== ye)].number.sum().round(0)\n",
    "            minas_list.append(y)\n",
    "        elif st=='Pará':\n",
    "            y= forest.loc[( forest[ 'state']== st) & ( forest[ 'year']== ye)].number.sum().round(0)\n",
    "            para_list.append(y)\n",
    "        elif st=='Paraiba':\n",
    "            y= forest.loc[( forest[ 'state']== st) & ( forest[ 'year']== ye)].number.sum().round(0)\n",
    "            paraiba_list.append(y)\n",
    "        elif st=='Pernambuco':\n",
    "            y= forest.loc[( forest[ 'state']== st) & ( forest[ 'year']== ye)].number.sum().round(0)\n",
    "            perna_list.append(y)\n",
    "        elif st=='Piau':\n",
    "            y= forest.loc[( forest[ 'state']== st) & ( forest[ 'year']== ye)].number.sum().round(0)\n",
    "            piau_list.append(y)\n",
    "        elif st=='Rio':\n",
    "            y= forest.loc[( forest[ 'state']== st) & ( forest[ 'year']== ye)].number.sum().round(0)\n",
    "            rio_list.append(y)\n",
    "        elif st=='Rondonia':\n",
    "            y= forest.loc[( forest[ 'state']== st) & ( forest[ 'year']== ye)].number.sum().round(0)\n",
    "            rondonia_list.append(y)\n",
    "        elif st=='Roraima':\n",
    "            y= forest.loc[( forest[ 'state']== st) & ( forest[ 'year']== ye)].number.sum().round(0)\n",
    "            roraima_list.append(y)\n",
    "        elif st=='Santa Catarina':\n",
    "            y= forest.loc[( forest[ 'state']== st) & ( forest[ 'year']== ye)].number.sum().round(0)\n",
    "            santa_list.append(y)\n",
    "        elif st=='Sao Paulo':\n",
    "            y= forest.loc[( forest[ 'state']== st) & ( forest[ 'year']== ye)].number.sum().round(0)\n",
    "            sao_list.append(y)\n",
    "        elif st=='Sergipe':\n",
    "            y= forest.loc[( forest[ 'state']== st) & ( forest[ 'year']== ye)].number.sum().round(0)\n",
    "            sergipe_list.append(y)\n",
    "        elif st=='Tocantins':\n",
    "            y= forest.loc[( forest[ 'state']== st) & ( forest[ 'year']== ye)].number.sum().round(0)\n",
    "            tocantins_list.append(y)"
   ]
  },
  {
   "cell_type": "code",
   "execution_count": 14,
   "metadata": {},
   "outputs": [
    {
     "data": {
      "text/html": [
       "<div>\n",
       "<style scoped>\n",
       "    .dataframe tbody tr th:only-of-type {\n",
       "        vertical-align: middle;\n",
       "    }\n",
       "\n",
       "    .dataframe tbody tr th {\n",
       "        vertical-align: top;\n",
       "    }\n",
       "\n",
       "    .dataframe thead th {\n",
       "        text-align: right;\n",
       "    }\n",
       "</style>\n",
       "<table border=\"1\" class=\"dataframe\">\n",
       "  <thead>\n",
       "    <tr style=\"text-align: right;\">\n",
       "      <th></th>\n",
       "      <th>Year</th>\n",
       "      <th>Acre</th>\n",
       "      <th>Alagoas</th>\n",
       "      <th>Amapa</th>\n",
       "      <th>Amazonas</th>\n",
       "      <th>Bahia</th>\n",
       "      <th>Ceara</th>\n",
       "      <th>Distrito Federal</th>\n",
       "      <th>Espirito Santo</th>\n",
       "      <th>Goias</th>\n",
       "      <th>...</th>\n",
       "      <th>Paraiba</th>\n",
       "      <th>Pernambuco</th>\n",
       "      <th>Piau</th>\n",
       "      <th>Rio</th>\n",
       "      <th>Rondonia</th>\n",
       "      <th>Roraima</th>\n",
       "      <th>Santa Catarina</th>\n",
       "      <th>Sao Paulo</th>\n",
       "      <th>Sergipe</th>\n",
       "      <th>Tocantins</th>\n",
       "    </tr>\n",
       "  </thead>\n",
       "  <tbody>\n",
       "    <tr>\n",
       "      <th>0</th>\n",
       "      <td>1998</td>\n",
       "      <td>730.0</td>\n",
       "      <td>86.0</td>\n",
       "      <td>278.0</td>\n",
       "      <td>946.0</td>\n",
       "      <td>1225.0</td>\n",
       "      <td>1612.0</td>\n",
       "      <td>103.0</td>\n",
       "      <td>218.0</td>\n",
       "      <td>750.0</td>\n",
       "      <td>...</td>\n",
       "      <td>816.0</td>\n",
       "      <td>767.0</td>\n",
       "      <td>1494.0</td>\n",
       "      <td>1149.0</td>\n",
       "      <td>916.0</td>\n",
       "      <td>21.0</td>\n",
       "      <td>59.0</td>\n",
       "      <td>3196.0</td>\n",
       "      <td>20.0</td>\n",
       "      <td>913.0</td>\n",
       "    </tr>\n",
       "    <tr>\n",
       "      <th>1</th>\n",
       "      <td>1999</td>\n",
       "      <td>333.0</td>\n",
       "      <td>172.0</td>\n",
       "      <td>101.0</td>\n",
       "      <td>1061.0</td>\n",
       "      <td>1198.0</td>\n",
       "      <td>1688.0</td>\n",
       "      <td>46.0</td>\n",
       "      <td>240.0</td>\n",
       "      <td>1910.0</td>\n",
       "      <td>...</td>\n",
       "      <td>3437.0</td>\n",
       "      <td>463.0</td>\n",
       "      <td>2015.0</td>\n",
       "      <td>1030.0</td>\n",
       "      <td>209.0</td>\n",
       "      <td>220.0</td>\n",
       "      <td>364.0</td>\n",
       "      <td>4249.0</td>\n",
       "      <td>93.0</td>\n",
       "      <td>608.0</td>\n",
       "    </tr>\n",
       "    <tr>\n",
       "      <th>2</th>\n",
       "      <td>2000</td>\n",
       "      <td>434.0</td>\n",
       "      <td>123.0</td>\n",
       "      <td>253.0</td>\n",
       "      <td>853.0</td>\n",
       "      <td>1379.0</td>\n",
       "      <td>2211.0</td>\n",
       "      <td>48.0</td>\n",
       "      <td>175.0</td>\n",
       "      <td>2516.0</td>\n",
       "      <td>...</td>\n",
       "      <td>2804.0</td>\n",
       "      <td>691.0</td>\n",
       "      <td>1112.0</td>\n",
       "      <td>650.0</td>\n",
       "      <td>868.0</td>\n",
       "      <td>362.0</td>\n",
       "      <td>306.0</td>\n",
       "      <td>4128.0</td>\n",
       "      <td>17.0</td>\n",
       "      <td>994.0</td>\n",
       "    </tr>\n",
       "    <tr>\n",
       "      <th>3</th>\n",
       "      <td>2001</td>\n",
       "      <td>828.0</td>\n",
       "      <td>86.0</td>\n",
       "      <td>1301.0</td>\n",
       "      <td>1297.0</td>\n",
       "      <td>2428.0</td>\n",
       "      <td>1848.0</td>\n",
       "      <td>64.0</td>\n",
       "      <td>130.0</td>\n",
       "      <td>2066.0</td>\n",
       "      <td>...</td>\n",
       "      <td>2073.0</td>\n",
       "      <td>1080.0</td>\n",
       "      <td>731.0</td>\n",
       "      <td>857.0</td>\n",
       "      <td>1004.0</td>\n",
       "      <td>1309.0</td>\n",
       "      <td>200.0</td>\n",
       "      <td>2926.0</td>\n",
       "      <td>24.0</td>\n",
       "      <td>2039.0</td>\n",
       "    </tr>\n",
       "    <tr>\n",
       "      <th>4</th>\n",
       "      <td>2002</td>\n",
       "      <td>1544.0</td>\n",
       "      <td>258.0</td>\n",
       "      <td>862.0</td>\n",
       "      <td>2852.0</td>\n",
       "      <td>2281.0</td>\n",
       "      <td>454.0</td>\n",
       "      <td>149.0</td>\n",
       "      <td>297.0</td>\n",
       "      <td>1619.0</td>\n",
       "      <td>...</td>\n",
       "      <td>2249.0</td>\n",
       "      <td>1909.0</td>\n",
       "      <td>1504.0</td>\n",
       "      <td>2945.0</td>\n",
       "      <td>1452.0</td>\n",
       "      <td>2224.0</td>\n",
       "      <td>1715.0</td>\n",
       "      <td>3539.0</td>\n",
       "      <td>208.0</td>\n",
       "      <td>1919.0</td>\n",
       "    </tr>\n",
       "    <tr>\n",
       "      <th>5</th>\n",
       "      <td>2003</td>\n",
       "      <td>947.0</td>\n",
       "      <td>299.0</td>\n",
       "      <td>1652.0</td>\n",
       "      <td>1524.0</td>\n",
       "      <td>3076.0</td>\n",
       "      <td>796.0</td>\n",
       "      <td>96.0</td>\n",
       "      <td>708.0</td>\n",
       "      <td>2079.0</td>\n",
       "      <td>...</td>\n",
       "      <td>2797.0</td>\n",
       "      <td>2431.0</td>\n",
       "      <td>1964.0</td>\n",
       "      <td>3438.0</td>\n",
       "      <td>1465.0</td>\n",
       "      <td>1789.0</td>\n",
       "      <td>1609.0</td>\n",
       "      <td>3306.0</td>\n",
       "      <td>403.0</td>\n",
       "      <td>1582.0</td>\n",
       "    </tr>\n",
       "    <tr>\n",
       "      <th>6</th>\n",
       "      <td>2004</td>\n",
       "      <td>1184.0</td>\n",
       "      <td>159.0</td>\n",
       "      <td>2261.0</td>\n",
       "      <td>2298.0</td>\n",
       "      <td>1644.0</td>\n",
       "      <td>383.0</td>\n",
       "      <td>279.0</td>\n",
       "      <td>174.0</td>\n",
       "      <td>1799.0</td>\n",
       "      <td>...</td>\n",
       "      <td>2761.0</td>\n",
       "      <td>1683.0</td>\n",
       "      <td>1778.0</td>\n",
       "      <td>3437.0</td>\n",
       "      <td>920.0</td>\n",
       "      <td>1457.0</td>\n",
       "      <td>2955.0</td>\n",
       "      <td>2864.0</td>\n",
       "      <td>190.0</td>\n",
       "      <td>1003.0</td>\n",
       "    </tr>\n",
       "    <tr>\n",
       "      <th>7</th>\n",
       "      <td>2005</td>\n",
       "      <td>984.0</td>\n",
       "      <td>217.0</td>\n",
       "      <td>1271.0</td>\n",
       "      <td>1657.0</td>\n",
       "      <td>2358.0</td>\n",
       "      <td>680.0</td>\n",
       "      <td>92.0</td>\n",
       "      <td>121.0</td>\n",
       "      <td>1709.0</td>\n",
       "      <td>...</td>\n",
       "      <td>3427.0</td>\n",
       "      <td>1520.0</td>\n",
       "      <td>2211.0</td>\n",
       "      <td>2297.0</td>\n",
       "      <td>1678.0</td>\n",
       "      <td>860.0</td>\n",
       "      <td>1483.0</td>\n",
       "      <td>2123.0</td>\n",
       "      <td>200.0</td>\n",
       "      <td>1398.0</td>\n",
       "    </tr>\n",
       "    <tr>\n",
       "      <th>8</th>\n",
       "      <td>2006</td>\n",
       "      <td>1221.0</td>\n",
       "      <td>161.0</td>\n",
       "      <td>817.0</td>\n",
       "      <td>998.0</td>\n",
       "      <td>2509.0</td>\n",
       "      <td>1109.0</td>\n",
       "      <td>76.0</td>\n",
       "      <td>215.0</td>\n",
       "      <td>1294.0</td>\n",
       "      <td>...</td>\n",
       "      <td>3308.0</td>\n",
       "      <td>1268.0</td>\n",
       "      <td>2358.0</td>\n",
       "      <td>2501.0</td>\n",
       "      <td>680.0</td>\n",
       "      <td>1245.0</td>\n",
       "      <td>1855.0</td>\n",
       "      <td>2209.0</td>\n",
       "      <td>147.0</td>\n",
       "      <td>1002.0</td>\n",
       "    </tr>\n",
       "    <tr>\n",
       "      <th>9</th>\n",
       "      <td>2007</td>\n",
       "      <td>1213.0</td>\n",
       "      <td>128.0</td>\n",
       "      <td>440.0</td>\n",
       "      <td>590.0</td>\n",
       "      <td>2210.0</td>\n",
       "      <td>1712.0</td>\n",
       "      <td>274.0</td>\n",
       "      <td>382.0</td>\n",
       "      <td>888.0</td>\n",
       "      <td>...</td>\n",
       "      <td>2665.0</td>\n",
       "      <td>1631.0</td>\n",
       "      <td>2714.0</td>\n",
       "      <td>2067.0</td>\n",
       "      <td>396.0</td>\n",
       "      <td>1863.0</td>\n",
       "      <td>1230.0</td>\n",
       "      <td>1877.0</td>\n",
       "      <td>124.0</td>\n",
       "      <td>2160.0</td>\n",
       "    </tr>\n",
       "  </tbody>\n",
       "</table>\n",
       "<p>10 rows × 24 columns</p>\n",
       "</div>"
      ],
      "text/plain": [
       "   Year    Acre  Alagoas   Amapa  Amazonas   Bahia   Ceara  Distrito Federal  \\\n",
       "0  1998   730.0     86.0   278.0     946.0  1225.0  1612.0             103.0   \n",
       "1  1999   333.0    172.0   101.0    1061.0  1198.0  1688.0              46.0   \n",
       "2  2000   434.0    123.0   253.0     853.0  1379.0  2211.0              48.0   \n",
       "3  2001   828.0     86.0  1301.0    1297.0  2428.0  1848.0              64.0   \n",
       "4  2002  1544.0    258.0   862.0    2852.0  2281.0   454.0             149.0   \n",
       "5  2003   947.0    299.0  1652.0    1524.0  3076.0   796.0              96.0   \n",
       "6  2004  1184.0    159.0  2261.0    2298.0  1644.0   383.0             279.0   \n",
       "7  2005   984.0    217.0  1271.0    1657.0  2358.0   680.0              92.0   \n",
       "8  2006  1221.0    161.0   817.0     998.0  2509.0  1109.0              76.0   \n",
       "9  2007  1213.0    128.0   440.0     590.0  2210.0  1712.0             274.0   \n",
       "\n",
       "   Espirito Santo   Goias  ...  Paraiba  Pernambuco    Piau     Rio  Rondonia  \\\n",
       "0           218.0   750.0  ...    816.0       767.0  1494.0  1149.0     916.0   \n",
       "1           240.0  1910.0  ...   3437.0       463.0  2015.0  1030.0     209.0   \n",
       "2           175.0  2516.0  ...   2804.0       691.0  1112.0   650.0     868.0   \n",
       "3           130.0  2066.0  ...   2073.0      1080.0   731.0   857.0    1004.0   \n",
       "4           297.0  1619.0  ...   2249.0      1909.0  1504.0  2945.0    1452.0   \n",
       "5           708.0  2079.0  ...   2797.0      2431.0  1964.0  3438.0    1465.0   \n",
       "6           174.0  1799.0  ...   2761.0      1683.0  1778.0  3437.0     920.0   \n",
       "7           121.0  1709.0  ...   3427.0      1520.0  2211.0  2297.0    1678.0   \n",
       "8           215.0  1294.0  ...   3308.0      1268.0  2358.0  2501.0     680.0   \n",
       "9           382.0   888.0  ...   2665.0      1631.0  2714.0  2067.0     396.0   \n",
       "\n",
       "   Roraima  Santa Catarina  Sao Paulo  Sergipe  Tocantins  \n",
       "0     21.0            59.0     3196.0     20.0      913.0  \n",
       "1    220.0           364.0     4249.0     93.0      608.0  \n",
       "2    362.0           306.0     4128.0     17.0      994.0  \n",
       "3   1309.0           200.0     2926.0     24.0     2039.0  \n",
       "4   2224.0          1715.0     3539.0    208.0     1919.0  \n",
       "5   1789.0          1609.0     3306.0    403.0     1582.0  \n",
       "6   1457.0          2955.0     2864.0    190.0     1003.0  \n",
       "7    860.0          1483.0     2123.0    200.0     1398.0  \n",
       "8   1245.0          1855.0     2209.0    147.0     1002.0  \n",
       "9   1863.0          1230.0     1877.0    124.0     2160.0  \n",
       "\n",
       "[10 rows x 24 columns]"
      ]
     },
     "execution_count": 14,
     "metadata": {},
     "output_type": "execute_result"
    }
   ],
   "source": [
    "#with those lists populated, now creating a powerful dataframe\n",
    "time_plot_2_df=pd.DataFrame(list(zip(years, acre_list, alagoas_list, amapa_list, amazonas_list,\n",
    "                                     bahia_list, ceara_list, distrito_list, espirito_list,\n",
    "                                     goias_list, maranhao_list, mato_list, minas_list, para_list,\n",
    "                                     paraiba_list, perna_list, piau_list, rio_list, rondonia_list,\n",
    "                                     roraima_list, santa_list, sao_list, sergipe_list, tocantins_list)),\n",
    "                            columns =['Year', 'Acre', 'Alagoas', 'Amapa', 'Amazonas', 'Bahia', 'Ceara',\n",
    "                                      'Distrito Federal', 'Espirito Santo', 'Goias', 'Maranhao',\n",
    "                                      'Mato Grosso', 'Minas Gerais', 'Pará', 'Paraiba', 'Pernambuco',\n",
    "                                      'Piau', 'Rio', 'Rondonia', 'Roraima', 'Santa Catarina',\n",
    "                                      'Sao Paulo', 'Sergipe', 'Tocantins'])\n",
    "#checking the dataframe\n",
    "time_plot_2_df.head(10)"
   ]
  },
  {
   "cell_type": "code",
   "execution_count": 18,
   "metadata": {},
   "outputs": [
    {
     "data": {
      "application/vnd.plotly.v1+json": {
       "config": {
        "plotlyServerURL": "https://plot.ly"
       },
       "data": [
        {
         "line": {
          "color": "red"
         },
         "mode": "lines+markers",
         "name": "Mato Grosso",
         "type": "scatter",
         "x": [
          1998,
          1999,
          2000,
          2001,
          2002,
          2003,
          2004,
          2005,
          2006,
          2007,
          2008,
          2009,
          2010,
          2011,
          2012,
          2013,
          2014,
          2015,
          2016,
          2017
         ],
         "y": [
          2401,
          2979,
          3897,
          3088,
          3666,
          6940,
          4811,
          5387,
          4286,
          3516,
          3400,
          8189,
          6252,
          5388,
          5341,
          5238,
          5891,
          6261,
          3653,
          5661
         ]
        },
        {
         "line": {
          "color": "yellow"
         },
         "mode": "lines+markers",
         "name": "Paraiba",
         "type": "scatter",
         "x": [
          1998,
          1999,
          2000,
          2001,
          2002,
          2003,
          2004,
          2005,
          2006,
          2007,
          2008,
          2009,
          2010,
          2011,
          2012,
          2013,
          2014,
          2015,
          2016,
          2017
         ],
         "y": [
          816,
          3437,
          2804,
          2073,
          2249,
          2797,
          2761,
          3427,
          3308,
          2665,
          1689,
          2963,
          2711,
          3280,
          2285,
          2225,
          2742,
          2773,
          2379,
          3053
         ]
        },
        {
         "line": {
          "color": "green"
         },
         "mode": "lines+markers",
         "name": "Sao Paulo",
         "type": "scatter",
         "x": [
          1998,
          1999,
          2000,
          2001,
          2002,
          2003,
          2004,
          2005,
          2006,
          2007,
          2008,
          2009,
          2010,
          2011,
          2012,
          2013,
          2014,
          2015,
          2016,
          2017
         ],
         "y": [
          3196,
          4249,
          4128,
          2926,
          3539,
          3306,
          2864,
          2123,
          2209,
          1877,
          1193,
          1165,
          1711,
          1400,
          2159,
          2055,
          3260,
          1984,
          3235,
          2541
         ]
        },
        {
         "line": {
          "color": "blue"
         },
         "mode": "lines+markers",
         "name": "Rio",
         "type": "scatter",
         "x": [
          1998,
          1999,
          2000,
          2001,
          2002,
          2003,
          2004,
          2005,
          2006,
          2007,
          2008,
          2009,
          2010,
          2011,
          2012,
          2013,
          2014,
          2015,
          2016,
          2017
         ],
         "y": [
          1149,
          1030,
          650,
          857,
          2945,
          3438,
          3437,
          2297,
          2501,
          2067,
          1217,
          1722,
          2437,
          2567,
          2219,
          1617,
          2757,
          2553,
          3429,
          4271
         ]
        },
        {
         "line": {
          "color": "pink"
         },
         "mode": "lines+markers",
         "name": "Bahia",
         "type": "scatter",
         "x": [
          1998,
          1999,
          2000,
          2001,
          2002,
          2003,
          2004,
          2005,
          2006,
          2007,
          2008,
          2009,
          2010,
          2011,
          2012,
          2013,
          2014,
          2015,
          2016,
          2017
         ],
         "y": [
          1225,
          1198,
          1379,
          2428,
          2281,
          3076,
          1644,
          2358,
          2509,
          2210,
          1913,
          2185,
          2515,
          2025,
          3455,
          2572,
          2457,
          2355,
          3520,
          1442
         ]
        },
        {
         "line": {
          "color": "brown"
         },
         "mode": "lines+markers",
         "name": "Piau",
         "type": "scatter",
         "x": [
          1998,
          1999,
          2000,
          2001,
          2002,
          2003,
          2004,
          2005,
          2006,
          2007,
          2008,
          2009,
          2010,
          2011,
          2012,
          2013,
          2014,
          2015,
          2016,
          2017
         ],
         "y": [
          1494,
          2015,
          1112,
          731,
          1504,
          1964,
          1778,
          2211,
          2358,
          2714,
          1451,
          2769,
          1068,
          2679,
          2262,
          1965,
          1826,
          2789,
          1627,
          1488
         ]
        },
        {
         "line": {
          "color": "grey"
         },
         "mode": "lines+markers",
         "name": "Goias",
         "type": "scatter",
         "x": [
          1998,
          1999,
          2000,
          2001,
          2002,
          2003,
          2004,
          2005,
          2006,
          2007,
          2008,
          2009,
          2010,
          2011,
          2012,
          2013,
          2014,
          2015,
          2016,
          2017
         ],
         "y": [
          750,
          1910,
          2516,
          2066,
          1619,
          2079,
          1799,
          1709,
          1294,
          888,
          1059,
          2682,
          1897,
          1809,
          2182,
          2979,
          1570,
          2762,
          2543,
          1581
         ]
        },
        {
         "line": {
          "color": "purple"
         },
         "mode": "lines+markers",
         "name": "Minas Gerais",
         "type": "scatter",
         "x": [
          1998,
          1999,
          2000,
          2001,
          2002,
          2003,
          2004,
          2005,
          2006,
          2007,
          2008,
          2009,
          2010,
          2011,
          2012,
          2013,
          2014,
          2015,
          2016,
          2017
         ],
         "y": [
          1233,
          997,
          1493,
          2139,
          1950,
          1824,
          2141,
          1647,
          2464,
          1214,
          2138,
          2099,
          1716,
          1767,
          2879,
          2434,
          2250,
          1326,
          2182,
          1582
         ]
        },
        {
         "line": {
          "color": "orange"
         },
         "mode": "lines+markers",
         "name": "Tocantins",
         "type": "scatter",
         "x": [
          1998,
          1999,
          2000,
          2001,
          2002,
          2003,
          2004,
          2005,
          2006,
          2007,
          2008,
          2009,
          2010,
          2011,
          2012,
          2013,
          2014,
          2015,
          2016,
          2017
         ],
         "y": [
          913,
          608,
          994,
          2039,
          1919,
          1582,
          1003,
          1398,
          1002,
          2160,
          1849,
          2611,
          2375,
          1478,
          2076,
          1961,
          1712,
          2157,
          2491,
          1379
         ]
        },
        {
         "line": {
          "color": "gold"
         },
         "mode": "lines+markers",
         "name": "Amazonas",
         "type": "scatter",
         "x": [
          1998,
          1999,
          2000,
          2001,
          2002,
          2003,
          2004,
          2005,
          2006,
          2007,
          2008,
          2009,
          2010,
          2011,
          2012,
          2013,
          2014,
          2015,
          2016,
          2017
         ],
         "y": [
          946,
          1061,
          853,
          1297,
          2852,
          1524,
          2298,
          1657,
          998,
          590,
          2717,
          1321,
          2325,
          1653,
          1111,
          905,
          2386,
          1190,
          2061,
          907
         ]
        }
       ],
       "layout": {
        "template": {
         "data": {
          "bar": [
           {
            "error_x": {
             "color": "#2a3f5f"
            },
            "error_y": {
             "color": "#2a3f5f"
            },
            "marker": {
             "line": {
              "color": "#E5ECF6",
              "width": 0.5
             }
            },
            "type": "bar"
           }
          ],
          "barpolar": [
           {
            "marker": {
             "line": {
              "color": "#E5ECF6",
              "width": 0.5
             }
            },
            "type": "barpolar"
           }
          ],
          "carpet": [
           {
            "aaxis": {
             "endlinecolor": "#2a3f5f",
             "gridcolor": "white",
             "linecolor": "white",
             "minorgridcolor": "white",
             "startlinecolor": "#2a3f5f"
            },
            "baxis": {
             "endlinecolor": "#2a3f5f",
             "gridcolor": "white",
             "linecolor": "white",
             "minorgridcolor": "white",
             "startlinecolor": "#2a3f5f"
            },
            "type": "carpet"
           }
          ],
          "choropleth": [
           {
            "colorbar": {
             "outlinewidth": 0,
             "ticks": ""
            },
            "type": "choropleth"
           }
          ],
          "contour": [
           {
            "colorbar": {
             "outlinewidth": 0,
             "ticks": ""
            },
            "colorscale": [
             [
              0,
              "#0d0887"
             ],
             [
              0.1111111111111111,
              "#46039f"
             ],
             [
              0.2222222222222222,
              "#7201a8"
             ],
             [
              0.3333333333333333,
              "#9c179e"
             ],
             [
              0.4444444444444444,
              "#bd3786"
             ],
             [
              0.5555555555555556,
              "#d8576b"
             ],
             [
              0.6666666666666666,
              "#ed7953"
             ],
             [
              0.7777777777777778,
              "#fb9f3a"
             ],
             [
              0.8888888888888888,
              "#fdca26"
             ],
             [
              1,
              "#f0f921"
             ]
            ],
            "type": "contour"
           }
          ],
          "contourcarpet": [
           {
            "colorbar": {
             "outlinewidth": 0,
             "ticks": ""
            },
            "type": "contourcarpet"
           }
          ],
          "heatmap": [
           {
            "colorbar": {
             "outlinewidth": 0,
             "ticks": ""
            },
            "colorscale": [
             [
              0,
              "#0d0887"
             ],
             [
              0.1111111111111111,
              "#46039f"
             ],
             [
              0.2222222222222222,
              "#7201a8"
             ],
             [
              0.3333333333333333,
              "#9c179e"
             ],
             [
              0.4444444444444444,
              "#bd3786"
             ],
             [
              0.5555555555555556,
              "#d8576b"
             ],
             [
              0.6666666666666666,
              "#ed7953"
             ],
             [
              0.7777777777777778,
              "#fb9f3a"
             ],
             [
              0.8888888888888888,
              "#fdca26"
             ],
             [
              1,
              "#f0f921"
             ]
            ],
            "type": "heatmap"
           }
          ],
          "heatmapgl": [
           {
            "colorbar": {
             "outlinewidth": 0,
             "ticks": ""
            },
            "colorscale": [
             [
              0,
              "#0d0887"
             ],
             [
              0.1111111111111111,
              "#46039f"
             ],
             [
              0.2222222222222222,
              "#7201a8"
             ],
             [
              0.3333333333333333,
              "#9c179e"
             ],
             [
              0.4444444444444444,
              "#bd3786"
             ],
             [
              0.5555555555555556,
              "#d8576b"
             ],
             [
              0.6666666666666666,
              "#ed7953"
             ],
             [
              0.7777777777777778,
              "#fb9f3a"
             ],
             [
              0.8888888888888888,
              "#fdca26"
             ],
             [
              1,
              "#f0f921"
             ]
            ],
            "type": "heatmapgl"
           }
          ],
          "histogram": [
           {
            "marker": {
             "colorbar": {
              "outlinewidth": 0,
              "ticks": ""
             }
            },
            "type": "histogram"
           }
          ],
          "histogram2d": [
           {
            "colorbar": {
             "outlinewidth": 0,
             "ticks": ""
            },
            "colorscale": [
             [
              0,
              "#0d0887"
             ],
             [
              0.1111111111111111,
              "#46039f"
             ],
             [
              0.2222222222222222,
              "#7201a8"
             ],
             [
              0.3333333333333333,
              "#9c179e"
             ],
             [
              0.4444444444444444,
              "#bd3786"
             ],
             [
              0.5555555555555556,
              "#d8576b"
             ],
             [
              0.6666666666666666,
              "#ed7953"
             ],
             [
              0.7777777777777778,
              "#fb9f3a"
             ],
             [
              0.8888888888888888,
              "#fdca26"
             ],
             [
              1,
              "#f0f921"
             ]
            ],
            "type": "histogram2d"
           }
          ],
          "histogram2dcontour": [
           {
            "colorbar": {
             "outlinewidth": 0,
             "ticks": ""
            },
            "colorscale": [
             [
              0,
              "#0d0887"
             ],
             [
              0.1111111111111111,
              "#46039f"
             ],
             [
              0.2222222222222222,
              "#7201a8"
             ],
             [
              0.3333333333333333,
              "#9c179e"
             ],
             [
              0.4444444444444444,
              "#bd3786"
             ],
             [
              0.5555555555555556,
              "#d8576b"
             ],
             [
              0.6666666666666666,
              "#ed7953"
             ],
             [
              0.7777777777777778,
              "#fb9f3a"
             ],
             [
              0.8888888888888888,
              "#fdca26"
             ],
             [
              1,
              "#f0f921"
             ]
            ],
            "type": "histogram2dcontour"
           }
          ],
          "mesh3d": [
           {
            "colorbar": {
             "outlinewidth": 0,
             "ticks": ""
            },
            "type": "mesh3d"
           }
          ],
          "parcoords": [
           {
            "line": {
             "colorbar": {
              "outlinewidth": 0,
              "ticks": ""
             }
            },
            "type": "parcoords"
           }
          ],
          "pie": [
           {
            "automargin": true,
            "type": "pie"
           }
          ],
          "scatter": [
           {
            "marker": {
             "colorbar": {
              "outlinewidth": 0,
              "ticks": ""
             }
            },
            "type": "scatter"
           }
          ],
          "scatter3d": [
           {
            "line": {
             "colorbar": {
              "outlinewidth": 0,
              "ticks": ""
             }
            },
            "marker": {
             "colorbar": {
              "outlinewidth": 0,
              "ticks": ""
             }
            },
            "type": "scatter3d"
           }
          ],
          "scattercarpet": [
           {
            "marker": {
             "colorbar": {
              "outlinewidth": 0,
              "ticks": ""
             }
            },
            "type": "scattercarpet"
           }
          ],
          "scattergeo": [
           {
            "marker": {
             "colorbar": {
              "outlinewidth": 0,
              "ticks": ""
             }
            },
            "type": "scattergeo"
           }
          ],
          "scattergl": [
           {
            "marker": {
             "colorbar": {
              "outlinewidth": 0,
              "ticks": ""
             }
            },
            "type": "scattergl"
           }
          ],
          "scattermapbox": [
           {
            "marker": {
             "colorbar": {
              "outlinewidth": 0,
              "ticks": ""
             }
            },
            "type": "scattermapbox"
           }
          ],
          "scatterpolar": [
           {
            "marker": {
             "colorbar": {
              "outlinewidth": 0,
              "ticks": ""
             }
            },
            "type": "scatterpolar"
           }
          ],
          "scatterpolargl": [
           {
            "marker": {
             "colorbar": {
              "outlinewidth": 0,
              "ticks": ""
             }
            },
            "type": "scatterpolargl"
           }
          ],
          "scatterternary": [
           {
            "marker": {
             "colorbar": {
              "outlinewidth": 0,
              "ticks": ""
             }
            },
            "type": "scatterternary"
           }
          ],
          "surface": [
           {
            "colorbar": {
             "outlinewidth": 0,
             "ticks": ""
            },
            "colorscale": [
             [
              0,
              "#0d0887"
             ],
             [
              0.1111111111111111,
              "#46039f"
             ],
             [
              0.2222222222222222,
              "#7201a8"
             ],
             [
              0.3333333333333333,
              "#9c179e"
             ],
             [
              0.4444444444444444,
              "#bd3786"
             ],
             [
              0.5555555555555556,
              "#d8576b"
             ],
             [
              0.6666666666666666,
              "#ed7953"
             ],
             [
              0.7777777777777778,
              "#fb9f3a"
             ],
             [
              0.8888888888888888,
              "#fdca26"
             ],
             [
              1,
              "#f0f921"
             ]
            ],
            "type": "surface"
           }
          ],
          "table": [
           {
            "cells": {
             "fill": {
              "color": "#EBF0F8"
             },
             "line": {
              "color": "white"
             }
            },
            "header": {
             "fill": {
              "color": "#C8D4E3"
             },
             "line": {
              "color": "white"
             }
            },
            "type": "table"
           }
          ]
         },
         "layout": {
          "annotationdefaults": {
           "arrowcolor": "#2a3f5f",
           "arrowhead": 0,
           "arrowwidth": 1
          },
          "coloraxis": {
           "colorbar": {
            "outlinewidth": 0,
            "ticks": ""
           }
          },
          "colorscale": {
           "diverging": [
            [
             0,
             "#8e0152"
            ],
            [
             0.1,
             "#c51b7d"
            ],
            [
             0.2,
             "#de77ae"
            ],
            [
             0.3,
             "#f1b6da"
            ],
            [
             0.4,
             "#fde0ef"
            ],
            [
             0.5,
             "#f7f7f7"
            ],
            [
             0.6,
             "#e6f5d0"
            ],
            [
             0.7,
             "#b8e186"
            ],
            [
             0.8,
             "#7fbc41"
            ],
            [
             0.9,
             "#4d9221"
            ],
            [
             1,
             "#276419"
            ]
           ],
           "sequential": [
            [
             0,
             "#0d0887"
            ],
            [
             0.1111111111111111,
             "#46039f"
            ],
            [
             0.2222222222222222,
             "#7201a8"
            ],
            [
             0.3333333333333333,
             "#9c179e"
            ],
            [
             0.4444444444444444,
             "#bd3786"
            ],
            [
             0.5555555555555556,
             "#d8576b"
            ],
            [
             0.6666666666666666,
             "#ed7953"
            ],
            [
             0.7777777777777778,
             "#fb9f3a"
            ],
            [
             0.8888888888888888,
             "#fdca26"
            ],
            [
             1,
             "#f0f921"
            ]
           ],
           "sequentialminus": [
            [
             0,
             "#0d0887"
            ],
            [
             0.1111111111111111,
             "#46039f"
            ],
            [
             0.2222222222222222,
             "#7201a8"
            ],
            [
             0.3333333333333333,
             "#9c179e"
            ],
            [
             0.4444444444444444,
             "#bd3786"
            ],
            [
             0.5555555555555556,
             "#d8576b"
            ],
            [
             0.6666666666666666,
             "#ed7953"
            ],
            [
             0.7777777777777778,
             "#fb9f3a"
            ],
            [
             0.8888888888888888,
             "#fdca26"
            ],
            [
             1,
             "#f0f921"
            ]
           ]
          },
          "colorway": [
           "#636efa",
           "#EF553B",
           "#00cc96",
           "#ab63fa",
           "#FFA15A",
           "#19d3f3",
           "#FF6692",
           "#B6E880",
           "#FF97FF",
           "#FECB52"
          ],
          "font": {
           "color": "#2a3f5f"
          },
          "geo": {
           "bgcolor": "white",
           "lakecolor": "white",
           "landcolor": "#E5ECF6",
           "showlakes": true,
           "showland": true,
           "subunitcolor": "white"
          },
          "hoverlabel": {
           "align": "left"
          },
          "hovermode": "closest",
          "mapbox": {
           "style": "light"
          },
          "paper_bgcolor": "white",
          "plot_bgcolor": "#E5ECF6",
          "polar": {
           "angularaxis": {
            "gridcolor": "white",
            "linecolor": "white",
            "ticks": ""
           },
           "bgcolor": "#E5ECF6",
           "radialaxis": {
            "gridcolor": "white",
            "linecolor": "white",
            "ticks": ""
           }
          },
          "scene": {
           "xaxis": {
            "backgroundcolor": "#E5ECF6",
            "gridcolor": "white",
            "gridwidth": 2,
            "linecolor": "white",
            "showbackground": true,
            "ticks": "",
            "zerolinecolor": "white"
           },
           "yaxis": {
            "backgroundcolor": "#E5ECF6",
            "gridcolor": "white",
            "gridwidth": 2,
            "linecolor": "white",
            "showbackground": true,
            "ticks": "",
            "zerolinecolor": "white"
           },
           "zaxis": {
            "backgroundcolor": "#E5ECF6",
            "gridcolor": "white",
            "gridwidth": 2,
            "linecolor": "white",
            "showbackground": true,
            "ticks": "",
            "zerolinecolor": "white"
           }
          },
          "shapedefaults": {
           "line": {
            "color": "#2a3f5f"
           }
          },
          "ternary": {
           "aaxis": {
            "gridcolor": "white",
            "linecolor": "white",
            "ticks": ""
           },
           "baxis": {
            "gridcolor": "white",
            "linecolor": "white",
            "ticks": ""
           },
           "bgcolor": "#E5ECF6",
           "caxis": {
            "gridcolor": "white",
            "linecolor": "white",
            "ticks": ""
           }
          },
          "title": {
           "x": 0.05
          },
          "xaxis": {
           "automargin": true,
           "gridcolor": "white",
           "linecolor": "white",
           "ticks": "",
           "title": {
            "standoff": 15
           },
           "zerolinecolor": "white",
           "zerolinewidth": 2
          },
          "yaxis": {
           "automargin": true,
           "gridcolor": "white",
           "linecolor": "white",
           "ticks": "",
           "title": {
            "standoff": 15
           },
           "zerolinecolor": "white",
           "zerolinewidth": 2
          }
         }
        },
        "title": {
         "text": "Estados mais afetados de 1998 a 2017"
        },
        "xaxis": {
         "title": {
          "text": "Year"
         }
        },
        "yaxis": {
         "title": {
          "text": "Fires"
         }
        }
       }
      },
      "text/html": [
       "<div>                            <div id=\"780dac54-11d7-4e53-a4b8-019172b2cabb\" class=\"plotly-graph-div\" style=\"height:525px; width:100%;\"></div>            <script type=\"text/javascript\">                require([\"plotly\"], function(Plotly) {                    window.PLOTLYENV=window.PLOTLYENV || {};                                    if (document.getElementById(\"780dac54-11d7-4e53-a4b8-019172b2cabb\")) {                    Plotly.newPlot(                        \"780dac54-11d7-4e53-a4b8-019172b2cabb\",                        [{\"line\": {\"color\": \"red\"}, \"mode\": \"lines+markers\", \"name\": \"Mato Grosso\", \"type\": \"scatter\", \"x\": [1998, 1999, 2000, 2001, 2002, 2003, 2004, 2005, 2006, 2007, 2008, 2009, 2010, 2011, 2012, 2013, 2014, 2015, 2016, 2017], \"y\": [2401.0, 2979.0, 3897.0, 3088.0, 3666.0, 6940.0, 4811.0, 5387.0, 4286.0, 3516.0, 3400.0, 8189.0, 6252.0, 5388.0, 5341.0, 5238.0, 5891.0, 6261.0, 3653.0, 5661.0]}, {\"line\": {\"color\": \"yellow\"}, \"mode\": \"lines+markers\", \"name\": \"Paraiba\", \"type\": \"scatter\", \"x\": [1998, 1999, 2000, 2001, 2002, 2003, 2004, 2005, 2006, 2007, 2008, 2009, 2010, 2011, 2012, 2013, 2014, 2015, 2016, 2017], \"y\": [816.0, 3437.0, 2804.0, 2073.0, 2249.0, 2797.0, 2761.0, 3427.0, 3308.0, 2665.0, 1689.0, 2963.0, 2711.0, 3280.0, 2285.0, 2225.0, 2742.0, 2773.0, 2379.0, 3053.0]}, {\"line\": {\"color\": \"green\"}, \"mode\": \"lines+markers\", \"name\": \"Sao Paulo\", \"type\": \"scatter\", \"x\": [1998, 1999, 2000, 2001, 2002, 2003, 2004, 2005, 2006, 2007, 2008, 2009, 2010, 2011, 2012, 2013, 2014, 2015, 2016, 2017], \"y\": [3196.0, 4249.0, 4128.0, 2926.0, 3539.0, 3306.0, 2864.0, 2123.0, 2209.0, 1877.0, 1193.0, 1165.0, 1711.0, 1400.0, 2159.0, 2055.0, 3260.0, 1984.0, 3235.0, 2541.0]}, {\"line\": {\"color\": \"blue\"}, \"mode\": \"lines+markers\", \"name\": \"Rio\", \"type\": \"scatter\", \"x\": [1998, 1999, 2000, 2001, 2002, 2003, 2004, 2005, 2006, 2007, 2008, 2009, 2010, 2011, 2012, 2013, 2014, 2015, 2016, 2017], \"y\": [1149.0, 1030.0, 650.0, 857.0, 2945.0, 3438.0, 3437.0, 2297.0, 2501.0, 2067.0, 1217.0, 1722.0, 2437.0, 2567.0, 2219.0, 1617.0, 2757.0, 2553.0, 3429.0, 4271.0]}, {\"line\": {\"color\": \"pink\"}, \"mode\": \"lines+markers\", \"name\": \"Bahia\", \"type\": \"scatter\", \"x\": [1998, 1999, 2000, 2001, 2002, 2003, 2004, 2005, 2006, 2007, 2008, 2009, 2010, 2011, 2012, 2013, 2014, 2015, 2016, 2017], \"y\": [1225.0, 1198.0, 1379.0, 2428.0, 2281.0, 3076.0, 1644.0, 2358.0, 2509.0, 2210.0, 1913.0, 2185.0, 2515.0, 2025.0, 3455.0, 2572.0, 2457.0, 2355.0, 3520.0, 1442.0]}, {\"line\": {\"color\": \"brown\"}, \"mode\": \"lines+markers\", \"name\": \"Piau\", \"type\": \"scatter\", \"x\": [1998, 1999, 2000, 2001, 2002, 2003, 2004, 2005, 2006, 2007, 2008, 2009, 2010, 2011, 2012, 2013, 2014, 2015, 2016, 2017], \"y\": [1494.0, 2015.0, 1112.0, 731.0, 1504.0, 1964.0, 1778.0, 2211.0, 2358.0, 2714.0, 1451.0, 2769.0, 1068.0, 2679.0, 2262.0, 1965.0, 1826.0, 2789.0, 1627.0, 1488.0]}, {\"line\": {\"color\": \"grey\"}, \"mode\": \"lines+markers\", \"name\": \"Goias\", \"type\": \"scatter\", \"x\": [1998, 1999, 2000, 2001, 2002, 2003, 2004, 2005, 2006, 2007, 2008, 2009, 2010, 2011, 2012, 2013, 2014, 2015, 2016, 2017], \"y\": [750.0, 1910.0, 2516.0, 2066.0, 1619.0, 2079.0, 1799.0, 1709.0, 1294.0, 888.0, 1059.0, 2682.0, 1897.0, 1809.0, 2182.0, 2979.0, 1570.0, 2762.0, 2543.0, 1581.0]}, {\"line\": {\"color\": \"purple\"}, \"mode\": \"lines+markers\", \"name\": \"Minas Gerais\", \"type\": \"scatter\", \"x\": [1998, 1999, 2000, 2001, 2002, 2003, 2004, 2005, 2006, 2007, 2008, 2009, 2010, 2011, 2012, 2013, 2014, 2015, 2016, 2017], \"y\": [1233.0, 997.0, 1493.0, 2139.0, 1950.0, 1824.0, 2141.0, 1647.0, 2464.0, 1214.0, 2138.0, 2099.0, 1716.0, 1767.0, 2879.0, 2434.0, 2250.0, 1326.0, 2182.0, 1582.0]}, {\"line\": {\"color\": \"orange\"}, \"mode\": \"lines+markers\", \"name\": \"Tocantins\", \"type\": \"scatter\", \"x\": [1998, 1999, 2000, 2001, 2002, 2003, 2004, 2005, 2006, 2007, 2008, 2009, 2010, 2011, 2012, 2013, 2014, 2015, 2016, 2017], \"y\": [913.0, 608.0, 994.0, 2039.0, 1919.0, 1582.0, 1003.0, 1398.0, 1002.0, 2160.0, 1849.0, 2611.0, 2375.0, 1478.0, 2076.0, 1961.0, 1712.0, 2157.0, 2491.0, 1379.0]}, {\"line\": {\"color\": \"gold\"}, \"mode\": \"lines+markers\", \"name\": \"Amazonas\", \"type\": \"scatter\", \"x\": [1998, 1999, 2000, 2001, 2002, 2003, 2004, 2005, 2006, 2007, 2008, 2009, 2010, 2011, 2012, 2013, 2014, 2015, 2016, 2017], \"y\": [946.0, 1061.0, 853.0, 1297.0, 2852.0, 1524.0, 2298.0, 1657.0, 998.0, 590.0, 2717.0, 1321.0, 2325.0, 1653.0, 1111.0, 905.0, 2386.0, 1190.0, 2061.0, 907.0]}],                        {\"template\": {\"data\": {\"bar\": [{\"error_x\": {\"color\": \"#2a3f5f\"}, \"error_y\": {\"color\": \"#2a3f5f\"}, \"marker\": {\"line\": {\"color\": \"#E5ECF6\", \"width\": 0.5}}, \"type\": \"bar\"}], \"barpolar\": [{\"marker\": {\"line\": {\"color\": \"#E5ECF6\", \"width\": 0.5}}, \"type\": \"barpolar\"}], \"carpet\": [{\"aaxis\": {\"endlinecolor\": \"#2a3f5f\", \"gridcolor\": \"white\", \"linecolor\": \"white\", \"minorgridcolor\": \"white\", \"startlinecolor\": \"#2a3f5f\"}, \"baxis\": {\"endlinecolor\": \"#2a3f5f\", \"gridcolor\": \"white\", \"linecolor\": \"white\", \"minorgridcolor\": \"white\", \"startlinecolor\": \"#2a3f5f\"}, \"type\": \"carpet\"}], \"choropleth\": [{\"colorbar\": {\"outlinewidth\": 0, \"ticks\": \"\"}, \"type\": \"choropleth\"}], \"contour\": [{\"colorbar\": {\"outlinewidth\": 0, \"ticks\": \"\"}, \"colorscale\": [[0.0, \"#0d0887\"], [0.1111111111111111, \"#46039f\"], [0.2222222222222222, \"#7201a8\"], [0.3333333333333333, \"#9c179e\"], [0.4444444444444444, \"#bd3786\"], [0.5555555555555556, \"#d8576b\"], [0.6666666666666666, \"#ed7953\"], [0.7777777777777778, \"#fb9f3a\"], [0.8888888888888888, \"#fdca26\"], [1.0, \"#f0f921\"]], \"type\": \"contour\"}], \"contourcarpet\": [{\"colorbar\": {\"outlinewidth\": 0, \"ticks\": \"\"}, \"type\": \"contourcarpet\"}], \"heatmap\": [{\"colorbar\": {\"outlinewidth\": 0, \"ticks\": \"\"}, \"colorscale\": [[0.0, \"#0d0887\"], [0.1111111111111111, \"#46039f\"], [0.2222222222222222, \"#7201a8\"], [0.3333333333333333, \"#9c179e\"], [0.4444444444444444, \"#bd3786\"], [0.5555555555555556, \"#d8576b\"], [0.6666666666666666, \"#ed7953\"], [0.7777777777777778, \"#fb9f3a\"], [0.8888888888888888, \"#fdca26\"], [1.0, \"#f0f921\"]], \"type\": \"heatmap\"}], \"heatmapgl\": [{\"colorbar\": {\"outlinewidth\": 0, \"ticks\": \"\"}, \"colorscale\": [[0.0, \"#0d0887\"], [0.1111111111111111, \"#46039f\"], [0.2222222222222222, \"#7201a8\"], [0.3333333333333333, \"#9c179e\"], [0.4444444444444444, \"#bd3786\"], [0.5555555555555556, \"#d8576b\"], [0.6666666666666666, \"#ed7953\"], [0.7777777777777778, \"#fb9f3a\"], [0.8888888888888888, \"#fdca26\"], [1.0, \"#f0f921\"]], \"type\": \"heatmapgl\"}], \"histogram\": [{\"marker\": {\"colorbar\": {\"outlinewidth\": 0, \"ticks\": \"\"}}, \"type\": \"histogram\"}], \"histogram2d\": [{\"colorbar\": {\"outlinewidth\": 0, \"ticks\": \"\"}, \"colorscale\": [[0.0, \"#0d0887\"], [0.1111111111111111, \"#46039f\"], [0.2222222222222222, \"#7201a8\"], [0.3333333333333333, \"#9c179e\"], [0.4444444444444444, \"#bd3786\"], [0.5555555555555556, \"#d8576b\"], [0.6666666666666666, \"#ed7953\"], [0.7777777777777778, \"#fb9f3a\"], [0.8888888888888888, \"#fdca26\"], [1.0, \"#f0f921\"]], \"type\": \"histogram2d\"}], \"histogram2dcontour\": [{\"colorbar\": {\"outlinewidth\": 0, \"ticks\": \"\"}, \"colorscale\": [[0.0, \"#0d0887\"], [0.1111111111111111, \"#46039f\"], [0.2222222222222222, \"#7201a8\"], [0.3333333333333333, \"#9c179e\"], [0.4444444444444444, \"#bd3786\"], [0.5555555555555556, \"#d8576b\"], [0.6666666666666666, \"#ed7953\"], [0.7777777777777778, \"#fb9f3a\"], [0.8888888888888888, \"#fdca26\"], [1.0, \"#f0f921\"]], \"type\": \"histogram2dcontour\"}], \"mesh3d\": [{\"colorbar\": {\"outlinewidth\": 0, \"ticks\": \"\"}, \"type\": \"mesh3d\"}], \"parcoords\": [{\"line\": {\"colorbar\": {\"outlinewidth\": 0, \"ticks\": \"\"}}, \"type\": \"parcoords\"}], \"pie\": [{\"automargin\": true, \"type\": \"pie\"}], \"scatter\": [{\"marker\": {\"colorbar\": {\"outlinewidth\": 0, \"ticks\": \"\"}}, \"type\": \"scatter\"}], \"scatter3d\": [{\"line\": {\"colorbar\": {\"outlinewidth\": 0, \"ticks\": \"\"}}, \"marker\": {\"colorbar\": {\"outlinewidth\": 0, \"ticks\": \"\"}}, \"type\": \"scatter3d\"}], \"scattercarpet\": [{\"marker\": {\"colorbar\": {\"outlinewidth\": 0, \"ticks\": \"\"}}, \"type\": \"scattercarpet\"}], \"scattergeo\": [{\"marker\": {\"colorbar\": {\"outlinewidth\": 0, \"ticks\": \"\"}}, \"type\": \"scattergeo\"}], \"scattergl\": [{\"marker\": {\"colorbar\": {\"outlinewidth\": 0, \"ticks\": \"\"}}, \"type\": \"scattergl\"}], \"scattermapbox\": [{\"marker\": {\"colorbar\": {\"outlinewidth\": 0, \"ticks\": \"\"}}, \"type\": \"scattermapbox\"}], \"scatterpolar\": [{\"marker\": {\"colorbar\": {\"outlinewidth\": 0, \"ticks\": \"\"}}, \"type\": \"scatterpolar\"}], \"scatterpolargl\": [{\"marker\": {\"colorbar\": {\"outlinewidth\": 0, \"ticks\": \"\"}}, \"type\": \"scatterpolargl\"}], \"scatterternary\": [{\"marker\": {\"colorbar\": {\"outlinewidth\": 0, \"ticks\": \"\"}}, \"type\": \"scatterternary\"}], \"surface\": [{\"colorbar\": {\"outlinewidth\": 0, \"ticks\": \"\"}, \"colorscale\": [[0.0, \"#0d0887\"], [0.1111111111111111, \"#46039f\"], [0.2222222222222222, \"#7201a8\"], [0.3333333333333333, \"#9c179e\"], [0.4444444444444444, \"#bd3786\"], [0.5555555555555556, \"#d8576b\"], [0.6666666666666666, \"#ed7953\"], [0.7777777777777778, \"#fb9f3a\"], [0.8888888888888888, \"#fdca26\"], [1.0, \"#f0f921\"]], \"type\": \"surface\"}], \"table\": [{\"cells\": {\"fill\": {\"color\": \"#EBF0F8\"}, \"line\": {\"color\": \"white\"}}, \"header\": {\"fill\": {\"color\": \"#C8D4E3\"}, \"line\": {\"color\": \"white\"}}, \"type\": \"table\"}]}, \"layout\": {\"annotationdefaults\": {\"arrowcolor\": \"#2a3f5f\", \"arrowhead\": 0, \"arrowwidth\": 1}, \"coloraxis\": {\"colorbar\": {\"outlinewidth\": 0, \"ticks\": \"\"}}, \"colorscale\": {\"diverging\": [[0, \"#8e0152\"], [0.1, \"#c51b7d\"], [0.2, \"#de77ae\"], [0.3, \"#f1b6da\"], [0.4, \"#fde0ef\"], [0.5, \"#f7f7f7\"], [0.6, \"#e6f5d0\"], [0.7, \"#b8e186\"], [0.8, \"#7fbc41\"], [0.9, \"#4d9221\"], [1, \"#276419\"]], \"sequential\": [[0.0, \"#0d0887\"], [0.1111111111111111, \"#46039f\"], [0.2222222222222222, \"#7201a8\"], [0.3333333333333333, \"#9c179e\"], [0.4444444444444444, \"#bd3786\"], [0.5555555555555556, \"#d8576b\"], [0.6666666666666666, \"#ed7953\"], [0.7777777777777778, \"#fb9f3a\"], [0.8888888888888888, \"#fdca26\"], [1.0, \"#f0f921\"]], \"sequentialminus\": [[0.0, \"#0d0887\"], [0.1111111111111111, \"#46039f\"], [0.2222222222222222, \"#7201a8\"], [0.3333333333333333, \"#9c179e\"], [0.4444444444444444, \"#bd3786\"], [0.5555555555555556, \"#d8576b\"], [0.6666666666666666, \"#ed7953\"], [0.7777777777777778, \"#fb9f3a\"], [0.8888888888888888, \"#fdca26\"], [1.0, \"#f0f921\"]]}, \"colorway\": [\"#636efa\", \"#EF553B\", \"#00cc96\", \"#ab63fa\", \"#FFA15A\", \"#19d3f3\", \"#FF6692\", \"#B6E880\", \"#FF97FF\", \"#FECB52\"], \"font\": {\"color\": \"#2a3f5f\"}, \"geo\": {\"bgcolor\": \"white\", \"lakecolor\": \"white\", \"landcolor\": \"#E5ECF6\", \"showlakes\": true, \"showland\": true, \"subunitcolor\": \"white\"}, \"hoverlabel\": {\"align\": \"left\"}, \"hovermode\": \"closest\", \"mapbox\": {\"style\": \"light\"}, \"paper_bgcolor\": \"white\", \"plot_bgcolor\": \"#E5ECF6\", \"polar\": {\"angularaxis\": {\"gridcolor\": \"white\", \"linecolor\": \"white\", \"ticks\": \"\"}, \"bgcolor\": \"#E5ECF6\", \"radialaxis\": {\"gridcolor\": \"white\", \"linecolor\": \"white\", \"ticks\": \"\"}}, \"scene\": {\"xaxis\": {\"backgroundcolor\": \"#E5ECF6\", \"gridcolor\": \"white\", \"gridwidth\": 2, \"linecolor\": \"white\", \"showbackground\": true, \"ticks\": \"\", \"zerolinecolor\": \"white\"}, \"yaxis\": {\"backgroundcolor\": \"#E5ECF6\", \"gridcolor\": \"white\", \"gridwidth\": 2, \"linecolor\": \"white\", \"showbackground\": true, \"ticks\": \"\", \"zerolinecolor\": \"white\"}, \"zaxis\": {\"backgroundcolor\": \"#E5ECF6\", \"gridcolor\": \"white\", \"gridwidth\": 2, \"linecolor\": \"white\", \"showbackground\": true, \"ticks\": \"\", \"zerolinecolor\": \"white\"}}, \"shapedefaults\": {\"line\": {\"color\": \"#2a3f5f\"}}, \"ternary\": {\"aaxis\": {\"gridcolor\": \"white\", \"linecolor\": \"white\", \"ticks\": \"\"}, \"baxis\": {\"gridcolor\": \"white\", \"linecolor\": \"white\", \"ticks\": \"\"}, \"bgcolor\": \"#E5ECF6\", \"caxis\": {\"gridcolor\": \"white\", \"linecolor\": \"white\", \"ticks\": \"\"}}, \"title\": {\"x\": 0.05}, \"xaxis\": {\"automargin\": true, \"gridcolor\": \"white\", \"linecolor\": \"white\", \"ticks\": \"\", \"title\": {\"standoff\": 15}, \"zerolinecolor\": \"white\", \"zerolinewidth\": 2}, \"yaxis\": {\"automargin\": true, \"gridcolor\": \"white\", \"linecolor\": \"white\", \"ticks\": \"\", \"title\": {\"standoff\": 15}, \"zerolinecolor\": \"white\", \"zerolinewidth\": 2}}}, \"title\": {\"text\": \"Estados mais afetados de 1998 a 2017\"}, \"xaxis\": {\"title\": {\"text\": \"Year\"}}, \"yaxis\": {\"title\": {\"text\": \"Fires\"}}},                        {\"responsive\": true}                    ).then(function(){\n",
       "                            \n",
       "var gd = document.getElementById('780dac54-11d7-4e53-a4b8-019172b2cabb');\n",
       "var x = new MutationObserver(function (mutations, observer) {{\n",
       "        var display = window.getComputedStyle(gd).display;\n",
       "        if (!display || display === 'none') {{\n",
       "            console.log([gd, 'removed!']);\n",
       "            Plotly.purge(gd);\n",
       "            observer.disconnect();\n",
       "        }}\n",
       "}});\n",
       "\n",
       "// Listen for the removal of the full notebook cells\n",
       "var notebookContainer = gd.closest('#notebook-container');\n",
       "if (notebookContainer) {{\n",
       "    x.observe(notebookContainer, {childList: true});\n",
       "}}\n",
       "\n",
       "// Listen for the clearing of the current output cell\n",
       "var outputEl = gd.closest('.output');\n",
       "if (outputEl) {{\n",
       "    x.observe(outputEl, {childList: true});\n",
       "}}\n",
       "\n",
       "                        })                };                });            </script>        </div>"
      ]
     },
     "metadata": {},
     "output_type": "display_data"
    }
   ],
   "source": [
    "#preparing a figure that will be populated \n",
    "time_plot_2 = go.Figure()\n",
    "#adding individual graphs to the figure\n",
    "time_plot_2.add_trace(go.Scatter(x=time_plot_2_df.Year, y=time_plot_2_df['Mato Grosso'],\n",
    "                                 mode='lines+markers', name='Mato Grosso', line={'color': 'red'}))\n",
    "time_plot_2.add_trace(go.Scatter(x=time_plot_2_df.Year, y=time_plot_2_df['Paraiba'],\n",
    "                                 mode='lines+markers', name='Paraiba', line={'color': 'yellow'}))\n",
    "time_plot_2.add_trace(go.Scatter(x=time_plot_2_df.Year, y=time_plot_2_df['Sao Paulo'],\n",
    "                                 mode='lines+markers', name='Sao Paulo', line={'color': 'green'}))\n",
    "time_plot_2.add_trace(go.Scatter(x=time_plot_2_df.Year, y=time_plot_2_df['Rio'],\n",
    "                                 mode='lines+markers', name='Rio', line={'color': 'blue'}))\n",
    "time_plot_2.add_trace(go.Scatter(x=time_plot_2_df.Year, y=time_plot_2_df['Bahia'],\n",
    "                                 mode='lines+markers', name='Bahia', line={'color': 'pink'}))\n",
    "time_plot_2.add_trace(go.Scatter(x=time_plot_2_df.Year, y=time_plot_2_df['Piau'],\n",
    "                                 mode='lines+markers', name='Piau', line={'color': 'brown'}))\n",
    "time_plot_2.add_trace(go.Scatter(x=time_plot_2_df.Year, y=time_plot_2_df['Goias'],\n",
    "                                 mode='lines+markers', name='Goias', line={'color': 'grey'}))\n",
    "time_plot_2.add_trace(go.Scatter(x=time_plot_2_df.Year, y=time_plot_2_df['Minas Gerais'],\n",
    "                                 mode='lines+markers', name='Minas Gerais', line={'color': 'purple'}))\n",
    "time_plot_2.add_trace(go.Scatter(x=time_plot_2_df.Year, y=time_plot_2_df['Tocantins'],\n",
    "                                 mode='lines+markers', name='Tocantins', line={'color': 'orange'}))\n",
    "time_plot_2.add_trace(go.Scatter(x=time_plot_2_df.Year, y=time_plot_2_df['Amazonas'],\n",
    "                                 mode='lines+markers', name='Amazonas', line={'color': 'gold'}))\n",
    "#making changes to layout\n",
    "time_plot_2.update_layout(title='Estados mais afetados de 1998 a 2017',\n",
    "                   xaxis_title='Year',\n",
    "                   yaxis_title='Fires')\n",
    "#outputing plot\n",
    "time_plot_2.show()"
   ]
  },
  {
   "cell_type": "code",
   "execution_count": 16,
   "metadata": {},
   "outputs": [],
   "source": [
    "aux_mes = forest.groupby(['data'])['number'].agg('sum')\n",
    "indexs = []\n",
    "for data in list(aux_mes.index):\n",
    "    indexs.append(str(data))"
   ]
  },
  {
   "cell_type": "code",
   "execution_count": 22,
   "metadata": {},
   "outputs": [
    {
     "data": {
      "application/vnd.plotly.v1+json": {
       "config": {
        "plotlyServerURL": "https://plot.ly"
       },
       "data": [
        {
         "hovertemplate": "x=%{x}<br>y=%{y}<extra></extra>",
         "legendgroup": "",
         "line": {
          "color": "#636efa",
          "dash": "solid"
         },
         "mode": "lines",
         "name": "",
         "orientation": "v",
         "showlegend": false,
         "type": "scatter",
         "x": [
          "1998-01-01",
          "1998-02-01",
          "1998-03-01",
          "1998-04-01",
          "1998-05-01",
          "1998-06-01",
          "1998-07-01",
          "1998-08-01",
          "1998-09-01",
          "1998-10-01",
          "1998-11-01",
          "1998-12-01",
          "1999-01-01",
          "1999-02-01",
          "1999-03-01",
          "1999-04-01",
          "1999-05-01",
          "1999-06-01",
          "1999-07-01",
          "1999-08-01",
          "1999-09-01",
          "1999-10-01",
          "1999-11-01",
          "1999-12-01",
          "2000-01-01",
          "2000-02-01",
          "2000-03-01",
          "2000-04-01",
          "2000-05-01",
          "2000-06-01",
          "2000-07-01",
          "2000-08-01",
          "2000-09-01",
          "2000-10-01",
          "2000-11-01",
          "2000-12-01",
          "2001-01-01",
          "2001-02-01",
          "2001-03-01",
          "2001-04-01",
          "2001-05-01",
          "2001-06-01",
          "2001-07-01",
          "2001-08-01",
          "2001-09-01",
          "2001-10-01",
          "2001-11-01",
          "2001-12-01",
          "2002-01-01",
          "2002-02-01",
          "2002-03-01",
          "2002-04-01",
          "2002-05-01",
          "2002-06-01",
          "2002-07-01",
          "2002-08-01",
          "2002-09-01",
          "2002-10-01",
          "2002-11-01",
          "2002-12-01",
          "2003-01-01",
          "2003-02-01",
          "2003-03-01",
          "2003-04-01",
          "2003-05-01",
          "2003-06-01",
          "2003-07-01",
          "2003-08-01",
          "2003-09-01",
          "2003-10-01",
          "2003-11-01",
          "2003-12-01",
          "2004-01-01",
          "2004-02-01",
          "2004-03-01",
          "2004-04-01",
          "2004-05-01",
          "2004-06-01",
          "2004-07-01",
          "2004-08-01",
          "2004-09-01",
          "2004-10-01",
          "2004-11-01",
          "2004-12-01",
          "2005-01-01",
          "2005-02-01",
          "2005-03-01",
          "2005-04-01",
          "2005-05-01",
          "2005-06-01",
          "2005-07-01",
          "2005-08-01",
          "2005-09-01",
          "2005-10-01",
          "2005-11-01",
          "2005-12-01",
          "2006-01-01",
          "2006-02-01",
          "2006-03-01",
          "2006-04-01",
          "2006-05-01",
          "2006-06-01",
          "2006-07-01",
          "2006-08-01",
          "2006-09-01",
          "2006-10-01",
          "2006-11-01",
          "2006-12-01",
          "2007-01-01",
          "2007-02-01",
          "2007-03-01",
          "2007-04-01",
          "2007-05-01",
          "2007-06-01",
          "2007-07-01",
          "2007-08-01",
          "2007-09-01",
          "2007-10-01",
          "2007-11-01",
          "2007-12-01",
          "2008-01-01",
          "2008-02-01",
          "2008-03-01",
          "2008-04-01",
          "2008-05-01",
          "2008-06-01",
          "2008-07-01",
          "2008-08-01",
          "2008-09-01",
          "2008-10-01",
          "2008-11-01",
          "2008-12-01",
          "2009-01-01",
          "2009-02-01",
          "2009-03-01",
          "2009-04-01",
          "2009-05-01",
          "2009-06-01",
          "2009-07-01",
          "2009-08-01",
          "2009-09-01",
          "2009-10-01",
          "2009-11-01",
          "2009-12-01",
          "2010-01-01",
          "2010-02-01",
          "2010-03-01",
          "2010-04-01",
          "2010-05-01",
          "2010-06-01",
          "2010-07-01",
          "2010-08-01",
          "2010-09-01",
          "2010-10-01",
          "2010-11-01",
          "2010-12-01",
          "2011-01-01",
          "2011-02-01",
          "2011-03-01",
          "2011-04-01",
          "2011-05-01",
          "2011-06-01",
          "2011-07-01",
          "2011-08-01",
          "2011-09-01",
          "2011-10-01",
          "2011-11-01",
          "2011-12-01",
          "2012-01-01",
          "2012-02-01",
          "2012-03-01",
          "2012-04-01",
          "2012-05-01",
          "2012-06-01",
          "2012-07-01",
          "2012-08-01",
          "2012-09-01",
          "2012-10-01",
          "2012-11-01",
          "2012-12-01",
          "2013-01-01",
          "2013-02-01",
          "2013-03-01",
          "2013-04-01",
          "2013-05-01",
          "2013-06-01",
          "2013-07-01",
          "2013-08-01",
          "2013-09-01",
          "2013-10-01",
          "2013-11-01",
          "2013-12-01",
          "2014-01-01",
          "2014-02-01",
          "2014-03-01",
          "2014-04-01",
          "2014-05-01",
          "2014-06-01",
          "2014-07-01",
          "2014-08-01",
          "2014-09-01",
          "2014-10-01",
          "2014-11-01",
          "2014-12-01",
          "2015-01-01",
          "2015-02-01",
          "2015-03-01",
          "2015-04-01",
          "2015-05-01",
          "2015-06-01",
          "2015-07-01",
          "2015-08-01",
          "2015-09-01",
          "2015-10-01",
          "2015-11-01",
          "2015-12-01",
          "2016-01-01",
          "2016-02-01",
          "2016-03-01",
          "2016-04-01",
          "2016-05-01",
          "2016-06-01",
          "2016-07-01",
          "2016-08-01",
          "2016-09-01",
          "2016-10-01",
          "2016-11-01",
          "2016-12-01",
          "2017-01-01",
          "2017-02-01",
          "2017-03-01",
          "2017-04-01",
          "2017-05-01",
          "2017-06-01",
          "2017-07-01",
          "2017-08-01",
          "2017-09-01",
          "2017-10-01",
          "2017-11-01"
         ],
         "xaxis": "x",
         "y": [
          0,
          0,
          0,
          0,
          0,
          1352.201,
          4357.7119999999995,
          3964.616,
          3012.9939999999997,
          2572.9429999999998,
          2710.098,
          2043.4070000000002,
          1081,
          1284,
          667,
          717,
          1812,
          1433.201,
          3538.223,
          3563.958,
          3754.192,
          3269.7660000000005,
          3495.37,
          2267.1110000000003,
          778,
          561,
          848,
          537,
          904.194,
          1921.358,
          3402.3379999999997,
          6524.693,
          2379.9320000000002,
          5413.9439999999995,
          2771.633,
          1309.159,
          547,
          1059,
          161.108,
          1081,
          898.193,
          1774.665,
          4936.555,
          5080.833,
          2650.221,
          5289.773999999999,
          3248.403,
          2344.86,
          1654,
          1570,
          1679,
          1682,
          1292.528,
          2968.878,
          6825.932,
          4327.876,
          2845.0109999999995,
          4822.942,
          3997.206,
          3725.227,
          5091,
          2398,
          1619.131,
          2677,
          1747,
          2197.313,
          3703.109,
          4301.474,
          3504.893,
          5643.689,
          5793.796,
          4084.2690000000002,
          2705,
          1255,
          2040,
          1335,
          1124.413,
          3380.8920000000003,
          3887.9410000000003,
          2974.397,
          3835.7439999999997,
          5806.559,
          5709.079,
          4399.138,
          3223.768,
          2153,
          1706,
          1011,
          1570.641,
          3519.294,
          4903.77,
          4625.403,
          1640.6909999999998,
          3821.101,
          4986.782,
          1843.5149999999999,
          3255,
          1666,
          1774,
          792,
          808,
          1968,
          3782.941,
          7338.1269999999995,
          3506.372,
          4710.161,
          2830.93,
          1400.63,
          3055,
          1751,
          2136,
          415,
          1286,
          2618.339,
          4815.995,
          3447.453,
          3643.973,
          3925.415,
          3044.0609999999997,
          2899.177,
          2125,
          1275,
          1239,
          1253,
          553,
          1287,
          3391.117,
          5975.561000000001,
          2943.5379999999996,
          3969.3299999999995,
          3125.6620000000003,
          2241.756,
          2848,
          1140,
          1392,
          1078,
          2593,
          2962,
          4987.612999999999,
          6193.3769999999995,
          1856.6009999999997,
          6239.9800000000005,
          4913.02,
          2913.5870000000004,
          2851,
          2386,
          2417,
          2200,
          2185.313,
          2618.025,
          5356.301,
          2367.008,
          2112.379,
          3995.5169999999994,
          5104.491,
          3444.415,
          1416,
          973,
          937,
          1152,
          1985,
          4578,
          5441.086,
          2289.208,
          3354.993,
          4700.002,
          4260.968,
          3546.2880000000005,
          2491,
          1436,
          2058,
          2193,
          3240,
          4240.651,
          4512.004,
          4861.453999999999,
          3071.068,
          2835.408999999999,
          5428.166,
          3718.108,
          2045,
          1587,
          1969,
          1372,
          2165,
          2686.2129999999997,
          3180.134,
          5855.928000000001,
          2979.6339999999996,
          3701.6409999999996,
          3796.362,
          3808.206,
          2633,
          1547,
          2224,
          2358,
          3189,
          3319.167,
          3903.9040000000005,
          2738.3190000000004,
          3131.074,
          5512.8369999999995,
          5347.654,
          3717.228,
          4635,
          2309,
          2202,
          2573,
          2384,
          3260.552,
          4364.392,
          4363.125,
          2494.658,
          4499.525000000001,
          4034.518,
          4088.522,
          2906.076,
          3098.05,
          1632.166,
          2203.77,
          2488.081,
          3776.565,
          7105.048,
          3137.215,
          3081.02,
          4350.885,
          4692.476000000001,
          3740.8770000000004,
          2408,
          1400,
          2017,
          1559,
          2506,
          4148.361,
          5929.998,
          4120.41,
          2779.3170000000005,
          3600.159,
          6217.379000000001
         ],
         "yaxis": "y"
        }
       ],
       "layout": {
        "legend": {
         "tracegroupgap": 0
        },
        "paper_bgcolor": "rgba(0, 0, 0, 0)",
        "plot_bgcolor": "rgba(0, 0, 0, 0)",
        "template": {
         "data": {
          "bar": [
           {
            "error_x": {
             "color": "#2a3f5f"
            },
            "error_y": {
             "color": "#2a3f5f"
            },
            "marker": {
             "line": {
              "color": "#E5ECF6",
              "width": 0.5
             }
            },
            "type": "bar"
           }
          ],
          "barpolar": [
           {
            "marker": {
             "line": {
              "color": "#E5ECF6",
              "width": 0.5
             }
            },
            "type": "barpolar"
           }
          ],
          "carpet": [
           {
            "aaxis": {
             "endlinecolor": "#2a3f5f",
             "gridcolor": "white",
             "linecolor": "white",
             "minorgridcolor": "white",
             "startlinecolor": "#2a3f5f"
            },
            "baxis": {
             "endlinecolor": "#2a3f5f",
             "gridcolor": "white",
             "linecolor": "white",
             "minorgridcolor": "white",
             "startlinecolor": "#2a3f5f"
            },
            "type": "carpet"
           }
          ],
          "choropleth": [
           {
            "colorbar": {
             "outlinewidth": 0,
             "ticks": ""
            },
            "type": "choropleth"
           }
          ],
          "contour": [
           {
            "colorbar": {
             "outlinewidth": 0,
             "ticks": ""
            },
            "colorscale": [
             [
              0,
              "#0d0887"
             ],
             [
              0.1111111111111111,
              "#46039f"
             ],
             [
              0.2222222222222222,
              "#7201a8"
             ],
             [
              0.3333333333333333,
              "#9c179e"
             ],
             [
              0.4444444444444444,
              "#bd3786"
             ],
             [
              0.5555555555555556,
              "#d8576b"
             ],
             [
              0.6666666666666666,
              "#ed7953"
             ],
             [
              0.7777777777777778,
              "#fb9f3a"
             ],
             [
              0.8888888888888888,
              "#fdca26"
             ],
             [
              1,
              "#f0f921"
             ]
            ],
            "type": "contour"
           }
          ],
          "contourcarpet": [
           {
            "colorbar": {
             "outlinewidth": 0,
             "ticks": ""
            },
            "type": "contourcarpet"
           }
          ],
          "heatmap": [
           {
            "colorbar": {
             "outlinewidth": 0,
             "ticks": ""
            },
            "colorscale": [
             [
              0,
              "#0d0887"
             ],
             [
              0.1111111111111111,
              "#46039f"
             ],
             [
              0.2222222222222222,
              "#7201a8"
             ],
             [
              0.3333333333333333,
              "#9c179e"
             ],
             [
              0.4444444444444444,
              "#bd3786"
             ],
             [
              0.5555555555555556,
              "#d8576b"
             ],
             [
              0.6666666666666666,
              "#ed7953"
             ],
             [
              0.7777777777777778,
              "#fb9f3a"
             ],
             [
              0.8888888888888888,
              "#fdca26"
             ],
             [
              1,
              "#f0f921"
             ]
            ],
            "type": "heatmap"
           }
          ],
          "heatmapgl": [
           {
            "colorbar": {
             "outlinewidth": 0,
             "ticks": ""
            },
            "colorscale": [
             [
              0,
              "#0d0887"
             ],
             [
              0.1111111111111111,
              "#46039f"
             ],
             [
              0.2222222222222222,
              "#7201a8"
             ],
             [
              0.3333333333333333,
              "#9c179e"
             ],
             [
              0.4444444444444444,
              "#bd3786"
             ],
             [
              0.5555555555555556,
              "#d8576b"
             ],
             [
              0.6666666666666666,
              "#ed7953"
             ],
             [
              0.7777777777777778,
              "#fb9f3a"
             ],
             [
              0.8888888888888888,
              "#fdca26"
             ],
             [
              1,
              "#f0f921"
             ]
            ],
            "type": "heatmapgl"
           }
          ],
          "histogram": [
           {
            "marker": {
             "colorbar": {
              "outlinewidth": 0,
              "ticks": ""
             }
            },
            "type": "histogram"
           }
          ],
          "histogram2d": [
           {
            "colorbar": {
             "outlinewidth": 0,
             "ticks": ""
            },
            "colorscale": [
             [
              0,
              "#0d0887"
             ],
             [
              0.1111111111111111,
              "#46039f"
             ],
             [
              0.2222222222222222,
              "#7201a8"
             ],
             [
              0.3333333333333333,
              "#9c179e"
             ],
             [
              0.4444444444444444,
              "#bd3786"
             ],
             [
              0.5555555555555556,
              "#d8576b"
             ],
             [
              0.6666666666666666,
              "#ed7953"
             ],
             [
              0.7777777777777778,
              "#fb9f3a"
             ],
             [
              0.8888888888888888,
              "#fdca26"
             ],
             [
              1,
              "#f0f921"
             ]
            ],
            "type": "histogram2d"
           }
          ],
          "histogram2dcontour": [
           {
            "colorbar": {
             "outlinewidth": 0,
             "ticks": ""
            },
            "colorscale": [
             [
              0,
              "#0d0887"
             ],
             [
              0.1111111111111111,
              "#46039f"
             ],
             [
              0.2222222222222222,
              "#7201a8"
             ],
             [
              0.3333333333333333,
              "#9c179e"
             ],
             [
              0.4444444444444444,
              "#bd3786"
             ],
             [
              0.5555555555555556,
              "#d8576b"
             ],
             [
              0.6666666666666666,
              "#ed7953"
             ],
             [
              0.7777777777777778,
              "#fb9f3a"
             ],
             [
              0.8888888888888888,
              "#fdca26"
             ],
             [
              1,
              "#f0f921"
             ]
            ],
            "type": "histogram2dcontour"
           }
          ],
          "mesh3d": [
           {
            "colorbar": {
             "outlinewidth": 0,
             "ticks": ""
            },
            "type": "mesh3d"
           }
          ],
          "parcoords": [
           {
            "line": {
             "colorbar": {
              "outlinewidth": 0,
              "ticks": ""
             }
            },
            "type": "parcoords"
           }
          ],
          "pie": [
           {
            "automargin": true,
            "type": "pie"
           }
          ],
          "scatter": [
           {
            "marker": {
             "colorbar": {
              "outlinewidth": 0,
              "ticks": ""
             }
            },
            "type": "scatter"
           }
          ],
          "scatter3d": [
           {
            "line": {
             "colorbar": {
              "outlinewidth": 0,
              "ticks": ""
             }
            },
            "marker": {
             "colorbar": {
              "outlinewidth": 0,
              "ticks": ""
             }
            },
            "type": "scatter3d"
           }
          ],
          "scattercarpet": [
           {
            "marker": {
             "colorbar": {
              "outlinewidth": 0,
              "ticks": ""
             }
            },
            "type": "scattercarpet"
           }
          ],
          "scattergeo": [
           {
            "marker": {
             "colorbar": {
              "outlinewidth": 0,
              "ticks": ""
             }
            },
            "type": "scattergeo"
           }
          ],
          "scattergl": [
           {
            "marker": {
             "colorbar": {
              "outlinewidth": 0,
              "ticks": ""
             }
            },
            "type": "scattergl"
           }
          ],
          "scattermapbox": [
           {
            "marker": {
             "colorbar": {
              "outlinewidth": 0,
              "ticks": ""
             }
            },
            "type": "scattermapbox"
           }
          ],
          "scatterpolar": [
           {
            "marker": {
             "colorbar": {
              "outlinewidth": 0,
              "ticks": ""
             }
            },
            "type": "scatterpolar"
           }
          ],
          "scatterpolargl": [
           {
            "marker": {
             "colorbar": {
              "outlinewidth": 0,
              "ticks": ""
             }
            },
            "type": "scatterpolargl"
           }
          ],
          "scatterternary": [
           {
            "marker": {
             "colorbar": {
              "outlinewidth": 0,
              "ticks": ""
             }
            },
            "type": "scatterternary"
           }
          ],
          "surface": [
           {
            "colorbar": {
             "outlinewidth": 0,
             "ticks": ""
            },
            "colorscale": [
             [
              0,
              "#0d0887"
             ],
             [
              0.1111111111111111,
              "#46039f"
             ],
             [
              0.2222222222222222,
              "#7201a8"
             ],
             [
              0.3333333333333333,
              "#9c179e"
             ],
             [
              0.4444444444444444,
              "#bd3786"
             ],
             [
              0.5555555555555556,
              "#d8576b"
             ],
             [
              0.6666666666666666,
              "#ed7953"
             ],
             [
              0.7777777777777778,
              "#fb9f3a"
             ],
             [
              0.8888888888888888,
              "#fdca26"
             ],
             [
              1,
              "#f0f921"
             ]
            ],
            "type": "surface"
           }
          ],
          "table": [
           {
            "cells": {
             "fill": {
              "color": "#EBF0F8"
             },
             "line": {
              "color": "white"
             }
            },
            "header": {
             "fill": {
              "color": "#C8D4E3"
             },
             "line": {
              "color": "white"
             }
            },
            "type": "table"
           }
          ]
         },
         "layout": {
          "annotationdefaults": {
           "arrowcolor": "#2a3f5f",
           "arrowhead": 0,
           "arrowwidth": 1
          },
          "coloraxis": {
           "colorbar": {
            "outlinewidth": 0,
            "ticks": ""
           }
          },
          "colorscale": {
           "diverging": [
            [
             0,
             "#8e0152"
            ],
            [
             0.1,
             "#c51b7d"
            ],
            [
             0.2,
             "#de77ae"
            ],
            [
             0.3,
             "#f1b6da"
            ],
            [
             0.4,
             "#fde0ef"
            ],
            [
             0.5,
             "#f7f7f7"
            ],
            [
             0.6,
             "#e6f5d0"
            ],
            [
             0.7,
             "#b8e186"
            ],
            [
             0.8,
             "#7fbc41"
            ],
            [
             0.9,
             "#4d9221"
            ],
            [
             1,
             "#276419"
            ]
           ],
           "sequential": [
            [
             0,
             "#0d0887"
            ],
            [
             0.1111111111111111,
             "#46039f"
            ],
            [
             0.2222222222222222,
             "#7201a8"
            ],
            [
             0.3333333333333333,
             "#9c179e"
            ],
            [
             0.4444444444444444,
             "#bd3786"
            ],
            [
             0.5555555555555556,
             "#d8576b"
            ],
            [
             0.6666666666666666,
             "#ed7953"
            ],
            [
             0.7777777777777778,
             "#fb9f3a"
            ],
            [
             0.8888888888888888,
             "#fdca26"
            ],
            [
             1,
             "#f0f921"
            ]
           ],
           "sequentialminus": [
            [
             0,
             "#0d0887"
            ],
            [
             0.1111111111111111,
             "#46039f"
            ],
            [
             0.2222222222222222,
             "#7201a8"
            ],
            [
             0.3333333333333333,
             "#9c179e"
            ],
            [
             0.4444444444444444,
             "#bd3786"
            ],
            [
             0.5555555555555556,
             "#d8576b"
            ],
            [
             0.6666666666666666,
             "#ed7953"
            ],
            [
             0.7777777777777778,
             "#fb9f3a"
            ],
            [
             0.8888888888888888,
             "#fdca26"
            ],
            [
             1,
             "#f0f921"
            ]
           ]
          },
          "colorway": [
           "#636efa",
           "#EF553B",
           "#00cc96",
           "#ab63fa",
           "#FFA15A",
           "#19d3f3",
           "#FF6692",
           "#B6E880",
           "#FF97FF",
           "#FECB52"
          ],
          "font": {
           "color": "#2a3f5f"
          },
          "geo": {
           "bgcolor": "white",
           "lakecolor": "white",
           "landcolor": "#E5ECF6",
           "showlakes": true,
           "showland": true,
           "subunitcolor": "white"
          },
          "hoverlabel": {
           "align": "left"
          },
          "hovermode": "closest",
          "mapbox": {
           "style": "light"
          },
          "paper_bgcolor": "white",
          "plot_bgcolor": "#E5ECF6",
          "polar": {
           "angularaxis": {
            "gridcolor": "white",
            "linecolor": "white",
            "ticks": ""
           },
           "bgcolor": "#E5ECF6",
           "radialaxis": {
            "gridcolor": "white",
            "linecolor": "white",
            "ticks": ""
           }
          },
          "scene": {
           "xaxis": {
            "backgroundcolor": "#E5ECF6",
            "gridcolor": "white",
            "gridwidth": 2,
            "linecolor": "white",
            "showbackground": true,
            "ticks": "",
            "zerolinecolor": "white"
           },
           "yaxis": {
            "backgroundcolor": "#E5ECF6",
            "gridcolor": "white",
            "gridwidth": 2,
            "linecolor": "white",
            "showbackground": true,
            "ticks": "",
            "zerolinecolor": "white"
           },
           "zaxis": {
            "backgroundcolor": "#E5ECF6",
            "gridcolor": "white",
            "gridwidth": 2,
            "linecolor": "white",
            "showbackground": true,
            "ticks": "",
            "zerolinecolor": "white"
           }
          },
          "shapedefaults": {
           "line": {
            "color": "#2a3f5f"
           }
          },
          "ternary": {
           "aaxis": {
            "gridcolor": "white",
            "linecolor": "white",
            "ticks": ""
           },
           "baxis": {
            "gridcolor": "white",
            "linecolor": "white",
            "ticks": ""
           },
           "bgcolor": "#E5ECF6",
           "caxis": {
            "gridcolor": "white",
            "linecolor": "white",
            "ticks": ""
           }
          },
          "title": {
           "x": 0.05
          },
          "xaxis": {
           "automargin": true,
           "gridcolor": "white",
           "linecolor": "white",
           "ticks": "",
           "title": {
            "standoff": 15
           },
           "zerolinecolor": "white",
           "zerolinewidth": 2
          },
          "yaxis": {
           "automargin": true,
           "gridcolor": "white",
           "linecolor": "white",
           "ticks": "",
           "title": {
            "standoff": 15
           },
           "zerolinecolor": "white",
           "zerolinewidth": 2
          }
         }
        },
        "title": {
         "text": "Variação mensal de incêndios de 1998 a 2017"
        },
        "xaxis": {
         "anchor": "y",
         "domain": [
          0,
          1
         ],
         "title": {
          "text": "x"
         }
        },
        "yaxis": {
         "anchor": "x",
         "domain": [
          0,
          1
         ],
         "title": {
          "text": "y"
         }
        }
       }
      },
      "text/html": [
       "<div>                            <div id=\"18fd2f12-4313-4cdb-9afb-519e4a1ac144\" class=\"plotly-graph-div\" style=\"height:525px; width:100%;\"></div>            <script type=\"text/javascript\">                require([\"plotly\"], function(Plotly) {                    window.PLOTLYENV=window.PLOTLYENV || {};                                    if (document.getElementById(\"18fd2f12-4313-4cdb-9afb-519e4a1ac144\")) {                    Plotly.newPlot(                        \"18fd2f12-4313-4cdb-9afb-519e4a1ac144\",                        [{\"hovertemplate\": \"x=%{x}<br>y=%{y}<extra></extra>\", \"legendgroup\": \"\", \"line\": {\"color\": \"#636efa\", \"dash\": \"solid\"}, \"mode\": \"lines\", \"name\": \"\", \"orientation\": \"v\", \"showlegend\": false, \"type\": \"scatter\", \"x\": [\"1998-01-01\", \"1998-02-01\", \"1998-03-01\", \"1998-04-01\", \"1998-05-01\", \"1998-06-01\", \"1998-07-01\", \"1998-08-01\", \"1998-09-01\", \"1998-10-01\", \"1998-11-01\", \"1998-12-01\", \"1999-01-01\", \"1999-02-01\", \"1999-03-01\", \"1999-04-01\", \"1999-05-01\", \"1999-06-01\", \"1999-07-01\", \"1999-08-01\", \"1999-09-01\", \"1999-10-01\", \"1999-11-01\", \"1999-12-01\", \"2000-01-01\", \"2000-02-01\", \"2000-03-01\", \"2000-04-01\", \"2000-05-01\", \"2000-06-01\", \"2000-07-01\", \"2000-08-01\", \"2000-09-01\", \"2000-10-01\", \"2000-11-01\", \"2000-12-01\", \"2001-01-01\", \"2001-02-01\", \"2001-03-01\", \"2001-04-01\", \"2001-05-01\", \"2001-06-01\", \"2001-07-01\", \"2001-08-01\", \"2001-09-01\", \"2001-10-01\", \"2001-11-01\", \"2001-12-01\", \"2002-01-01\", \"2002-02-01\", \"2002-03-01\", \"2002-04-01\", \"2002-05-01\", \"2002-06-01\", \"2002-07-01\", \"2002-08-01\", \"2002-09-01\", \"2002-10-01\", \"2002-11-01\", \"2002-12-01\", \"2003-01-01\", \"2003-02-01\", \"2003-03-01\", \"2003-04-01\", \"2003-05-01\", \"2003-06-01\", \"2003-07-01\", \"2003-08-01\", \"2003-09-01\", \"2003-10-01\", \"2003-11-01\", \"2003-12-01\", \"2004-01-01\", \"2004-02-01\", \"2004-03-01\", \"2004-04-01\", \"2004-05-01\", \"2004-06-01\", \"2004-07-01\", \"2004-08-01\", \"2004-09-01\", \"2004-10-01\", \"2004-11-01\", \"2004-12-01\", \"2005-01-01\", \"2005-02-01\", \"2005-03-01\", \"2005-04-01\", \"2005-05-01\", \"2005-06-01\", \"2005-07-01\", \"2005-08-01\", \"2005-09-01\", \"2005-10-01\", \"2005-11-01\", \"2005-12-01\", \"2006-01-01\", \"2006-02-01\", \"2006-03-01\", \"2006-04-01\", \"2006-05-01\", \"2006-06-01\", \"2006-07-01\", \"2006-08-01\", \"2006-09-01\", \"2006-10-01\", \"2006-11-01\", \"2006-12-01\", \"2007-01-01\", \"2007-02-01\", \"2007-03-01\", \"2007-04-01\", \"2007-05-01\", \"2007-06-01\", \"2007-07-01\", \"2007-08-01\", \"2007-09-01\", \"2007-10-01\", \"2007-11-01\", \"2007-12-01\", \"2008-01-01\", \"2008-02-01\", \"2008-03-01\", \"2008-04-01\", \"2008-05-01\", \"2008-06-01\", \"2008-07-01\", \"2008-08-01\", \"2008-09-01\", \"2008-10-01\", \"2008-11-01\", \"2008-12-01\", \"2009-01-01\", \"2009-02-01\", \"2009-03-01\", \"2009-04-01\", \"2009-05-01\", \"2009-06-01\", \"2009-07-01\", \"2009-08-01\", \"2009-09-01\", \"2009-10-01\", \"2009-11-01\", \"2009-12-01\", \"2010-01-01\", \"2010-02-01\", \"2010-03-01\", \"2010-04-01\", \"2010-05-01\", \"2010-06-01\", \"2010-07-01\", \"2010-08-01\", \"2010-09-01\", \"2010-10-01\", \"2010-11-01\", \"2010-12-01\", \"2011-01-01\", \"2011-02-01\", \"2011-03-01\", \"2011-04-01\", \"2011-05-01\", \"2011-06-01\", \"2011-07-01\", \"2011-08-01\", \"2011-09-01\", \"2011-10-01\", \"2011-11-01\", \"2011-12-01\", \"2012-01-01\", \"2012-02-01\", \"2012-03-01\", \"2012-04-01\", \"2012-05-01\", \"2012-06-01\", \"2012-07-01\", \"2012-08-01\", \"2012-09-01\", \"2012-10-01\", \"2012-11-01\", \"2012-12-01\", \"2013-01-01\", \"2013-02-01\", \"2013-03-01\", \"2013-04-01\", \"2013-05-01\", \"2013-06-01\", \"2013-07-01\", \"2013-08-01\", \"2013-09-01\", \"2013-10-01\", \"2013-11-01\", \"2013-12-01\", \"2014-01-01\", \"2014-02-01\", \"2014-03-01\", \"2014-04-01\", \"2014-05-01\", \"2014-06-01\", \"2014-07-01\", \"2014-08-01\", \"2014-09-01\", \"2014-10-01\", \"2014-11-01\", \"2014-12-01\", \"2015-01-01\", \"2015-02-01\", \"2015-03-01\", \"2015-04-01\", \"2015-05-01\", \"2015-06-01\", \"2015-07-01\", \"2015-08-01\", \"2015-09-01\", \"2015-10-01\", \"2015-11-01\", \"2015-12-01\", \"2016-01-01\", \"2016-02-01\", \"2016-03-01\", \"2016-04-01\", \"2016-05-01\", \"2016-06-01\", \"2016-07-01\", \"2016-08-01\", \"2016-09-01\", \"2016-10-01\", \"2016-11-01\", \"2016-12-01\", \"2017-01-01\", \"2017-02-01\", \"2017-03-01\", \"2017-04-01\", \"2017-05-01\", \"2017-06-01\", \"2017-07-01\", \"2017-08-01\", \"2017-09-01\", \"2017-10-01\", \"2017-11-01\"], \"xaxis\": \"x\", \"y\": [0.0, 0.0, 0.0, 0.0, 0.0, 1352.201, 4357.7119999999995, 3964.616, 3012.9939999999997, 2572.9429999999998, 2710.098, 2043.4070000000002, 1081.0, 1284.0, 667.0, 717.0, 1812.0, 1433.201, 3538.223, 3563.958, 3754.192, 3269.7660000000005, 3495.37, 2267.1110000000003, 778.0, 561.0, 848.0, 537.0, 904.194, 1921.358, 3402.3379999999997, 6524.693, 2379.9320000000002, 5413.9439999999995, 2771.633, 1309.159, 547.0, 1059.0, 161.108, 1081.0, 898.193, 1774.665, 4936.555, 5080.833, 2650.221, 5289.773999999999, 3248.403, 2344.86, 1654.0, 1570.0, 1679.0, 1682.0, 1292.528, 2968.878, 6825.932, 4327.876, 2845.0109999999995, 4822.942, 3997.206, 3725.227, 5091.0, 2398.0, 1619.131, 2677.0, 1747.0, 2197.313, 3703.109, 4301.474, 3504.893, 5643.689, 5793.796, 4084.2690000000002, 2705.0, 1255.0, 2040.0, 1335.0, 1124.413, 3380.8920000000003, 3887.9410000000003, 2974.397, 3835.7439999999997, 5806.559, 5709.079, 4399.138, 3223.768, 2153.0, 1706.0, 1011.0, 1570.641, 3519.294, 4903.77, 4625.403, 1640.6909999999998, 3821.101, 4986.782, 1843.5149999999999, 3255.0, 1666.0, 1774.0, 792.0, 808.0, 1968.0, 3782.941, 7338.1269999999995, 3506.372, 4710.161, 2830.93, 1400.63, 3055.0, 1751.0, 2136.0, 415.0, 1286.0, 2618.339, 4815.995, 3447.453, 3643.973, 3925.415, 3044.0609999999997, 2899.177, 2125.0, 1275.0, 1239.0, 1253.0, 553.0, 1287.0, 3391.117, 5975.561000000001, 2943.5379999999996, 3969.3299999999995, 3125.6620000000003, 2241.756, 2848.0, 1140.0, 1392.0, 1078.0, 2593.0, 2962.0, 4987.612999999999, 6193.3769999999995, 1856.6009999999997, 6239.9800000000005, 4913.02, 2913.5870000000004, 2851.0, 2386.0, 2417.0, 2200.0, 2185.313, 2618.025, 5356.301, 2367.008, 2112.379, 3995.5169999999994, 5104.491, 3444.415, 1416.0, 973.0, 937.0, 1152.0, 1985.0, 4578.0, 5441.086, 2289.208, 3354.993, 4700.002, 4260.968, 3546.2880000000005, 2491.0, 1436.0, 2058.0, 2193.0, 3240.0, 4240.651, 4512.004, 4861.453999999999, 3071.068, 2835.408999999999, 5428.166, 3718.108, 2045.0, 1587.0, 1969.0, 1372.0, 2165.0, 2686.2129999999997, 3180.134, 5855.928000000001, 2979.6339999999996, 3701.6409999999996, 3796.362, 3808.206, 2633.0, 1547.0, 2224.0, 2358.0, 3189.0, 3319.167, 3903.9040000000005, 2738.3190000000004, 3131.074, 5512.8369999999995, 5347.654, 3717.228, 4635.0, 2309.0, 2202.0, 2573.0, 2384.0, 3260.552, 4364.392, 4363.125, 2494.658, 4499.525000000001, 4034.518, 4088.522, 2906.076, 3098.05, 1632.166, 2203.77, 2488.081, 3776.565, 7105.048, 3137.215, 3081.02, 4350.885, 4692.476000000001, 3740.8770000000004, 2408.0, 1400.0, 2017.0, 1559.0, 2506.0, 4148.361, 5929.998, 4120.41, 2779.3170000000005, 3600.159, 6217.379000000001], \"yaxis\": \"y\"}],                        {\"legend\": {\"tracegroupgap\": 0}, \"paper_bgcolor\": \"rgba(0, 0, 0, 0)\", \"plot_bgcolor\": \"rgba(0, 0, 0, 0)\", \"template\": {\"data\": {\"bar\": [{\"error_x\": {\"color\": \"#2a3f5f\"}, \"error_y\": {\"color\": \"#2a3f5f\"}, \"marker\": {\"line\": {\"color\": \"#E5ECF6\", \"width\": 0.5}}, \"type\": \"bar\"}], \"barpolar\": [{\"marker\": {\"line\": {\"color\": \"#E5ECF6\", \"width\": 0.5}}, \"type\": \"barpolar\"}], \"carpet\": [{\"aaxis\": {\"endlinecolor\": \"#2a3f5f\", \"gridcolor\": \"white\", \"linecolor\": \"white\", \"minorgridcolor\": \"white\", \"startlinecolor\": \"#2a3f5f\"}, \"baxis\": {\"endlinecolor\": \"#2a3f5f\", \"gridcolor\": \"white\", \"linecolor\": \"white\", \"minorgridcolor\": \"white\", \"startlinecolor\": \"#2a3f5f\"}, \"type\": \"carpet\"}], \"choropleth\": [{\"colorbar\": {\"outlinewidth\": 0, \"ticks\": \"\"}, \"type\": \"choropleth\"}], \"contour\": [{\"colorbar\": {\"outlinewidth\": 0, \"ticks\": \"\"}, \"colorscale\": [[0.0, \"#0d0887\"], [0.1111111111111111, \"#46039f\"], [0.2222222222222222, \"#7201a8\"], [0.3333333333333333, \"#9c179e\"], [0.4444444444444444, \"#bd3786\"], [0.5555555555555556, \"#d8576b\"], [0.6666666666666666, \"#ed7953\"], [0.7777777777777778, \"#fb9f3a\"], [0.8888888888888888, \"#fdca26\"], [1.0, \"#f0f921\"]], \"type\": \"contour\"}], \"contourcarpet\": [{\"colorbar\": {\"outlinewidth\": 0, \"ticks\": \"\"}, \"type\": \"contourcarpet\"}], \"heatmap\": [{\"colorbar\": {\"outlinewidth\": 0, \"ticks\": \"\"}, \"colorscale\": [[0.0, \"#0d0887\"], [0.1111111111111111, \"#46039f\"], [0.2222222222222222, \"#7201a8\"], [0.3333333333333333, \"#9c179e\"], [0.4444444444444444, \"#bd3786\"], [0.5555555555555556, \"#d8576b\"], [0.6666666666666666, \"#ed7953\"], [0.7777777777777778, \"#fb9f3a\"], [0.8888888888888888, \"#fdca26\"], [1.0, \"#f0f921\"]], \"type\": \"heatmap\"}], \"heatmapgl\": [{\"colorbar\": {\"outlinewidth\": 0, \"ticks\": \"\"}, \"colorscale\": [[0.0, \"#0d0887\"], [0.1111111111111111, \"#46039f\"], [0.2222222222222222, \"#7201a8\"], [0.3333333333333333, \"#9c179e\"], [0.4444444444444444, \"#bd3786\"], [0.5555555555555556, \"#d8576b\"], [0.6666666666666666, \"#ed7953\"], [0.7777777777777778, \"#fb9f3a\"], [0.8888888888888888, \"#fdca26\"], [1.0, \"#f0f921\"]], \"type\": \"heatmapgl\"}], \"histogram\": [{\"marker\": {\"colorbar\": {\"outlinewidth\": 0, \"ticks\": \"\"}}, \"type\": \"histogram\"}], \"histogram2d\": [{\"colorbar\": {\"outlinewidth\": 0, \"ticks\": \"\"}, \"colorscale\": [[0.0, \"#0d0887\"], [0.1111111111111111, \"#46039f\"], [0.2222222222222222, \"#7201a8\"], [0.3333333333333333, \"#9c179e\"], [0.4444444444444444, \"#bd3786\"], [0.5555555555555556, \"#d8576b\"], [0.6666666666666666, \"#ed7953\"], [0.7777777777777778, \"#fb9f3a\"], [0.8888888888888888, \"#fdca26\"], [1.0, \"#f0f921\"]], \"type\": \"histogram2d\"}], \"histogram2dcontour\": [{\"colorbar\": {\"outlinewidth\": 0, \"ticks\": \"\"}, \"colorscale\": [[0.0, \"#0d0887\"], [0.1111111111111111, \"#46039f\"], [0.2222222222222222, \"#7201a8\"], [0.3333333333333333, \"#9c179e\"], [0.4444444444444444, \"#bd3786\"], [0.5555555555555556, \"#d8576b\"], [0.6666666666666666, \"#ed7953\"], [0.7777777777777778, \"#fb9f3a\"], [0.8888888888888888, \"#fdca26\"], [1.0, \"#f0f921\"]], \"type\": \"histogram2dcontour\"}], \"mesh3d\": [{\"colorbar\": {\"outlinewidth\": 0, \"ticks\": \"\"}, \"type\": \"mesh3d\"}], \"parcoords\": [{\"line\": {\"colorbar\": {\"outlinewidth\": 0, \"ticks\": \"\"}}, \"type\": \"parcoords\"}], \"pie\": [{\"automargin\": true, \"type\": \"pie\"}], \"scatter\": [{\"marker\": {\"colorbar\": {\"outlinewidth\": 0, \"ticks\": \"\"}}, \"type\": \"scatter\"}], \"scatter3d\": [{\"line\": {\"colorbar\": {\"outlinewidth\": 0, \"ticks\": \"\"}}, \"marker\": {\"colorbar\": {\"outlinewidth\": 0, \"ticks\": \"\"}}, \"type\": \"scatter3d\"}], \"scattercarpet\": [{\"marker\": {\"colorbar\": {\"outlinewidth\": 0, \"ticks\": \"\"}}, \"type\": \"scattercarpet\"}], \"scattergeo\": [{\"marker\": {\"colorbar\": {\"outlinewidth\": 0, \"ticks\": \"\"}}, \"type\": \"scattergeo\"}], \"scattergl\": [{\"marker\": {\"colorbar\": {\"outlinewidth\": 0, \"ticks\": \"\"}}, \"type\": \"scattergl\"}], \"scattermapbox\": [{\"marker\": {\"colorbar\": {\"outlinewidth\": 0, \"ticks\": \"\"}}, \"type\": \"scattermapbox\"}], \"scatterpolar\": [{\"marker\": {\"colorbar\": {\"outlinewidth\": 0, \"ticks\": \"\"}}, \"type\": \"scatterpolar\"}], \"scatterpolargl\": [{\"marker\": {\"colorbar\": {\"outlinewidth\": 0, \"ticks\": \"\"}}, \"type\": \"scatterpolargl\"}], \"scatterternary\": [{\"marker\": {\"colorbar\": {\"outlinewidth\": 0, \"ticks\": \"\"}}, \"type\": \"scatterternary\"}], \"surface\": [{\"colorbar\": {\"outlinewidth\": 0, \"ticks\": \"\"}, \"colorscale\": [[0.0, \"#0d0887\"], [0.1111111111111111, \"#46039f\"], [0.2222222222222222, \"#7201a8\"], [0.3333333333333333, \"#9c179e\"], [0.4444444444444444, \"#bd3786\"], [0.5555555555555556, \"#d8576b\"], [0.6666666666666666, \"#ed7953\"], [0.7777777777777778, \"#fb9f3a\"], [0.8888888888888888, \"#fdca26\"], [1.0, \"#f0f921\"]], \"type\": \"surface\"}], \"table\": [{\"cells\": {\"fill\": {\"color\": \"#EBF0F8\"}, \"line\": {\"color\": \"white\"}}, \"header\": {\"fill\": {\"color\": \"#C8D4E3\"}, \"line\": {\"color\": \"white\"}}, \"type\": \"table\"}]}, \"layout\": {\"annotationdefaults\": {\"arrowcolor\": \"#2a3f5f\", \"arrowhead\": 0, \"arrowwidth\": 1}, \"coloraxis\": {\"colorbar\": {\"outlinewidth\": 0, \"ticks\": \"\"}}, \"colorscale\": {\"diverging\": [[0, \"#8e0152\"], [0.1, \"#c51b7d\"], [0.2, \"#de77ae\"], [0.3, \"#f1b6da\"], [0.4, \"#fde0ef\"], [0.5, \"#f7f7f7\"], [0.6, \"#e6f5d0\"], [0.7, \"#b8e186\"], [0.8, \"#7fbc41\"], [0.9, \"#4d9221\"], [1, \"#276419\"]], \"sequential\": [[0.0, \"#0d0887\"], [0.1111111111111111, \"#46039f\"], [0.2222222222222222, \"#7201a8\"], [0.3333333333333333, \"#9c179e\"], [0.4444444444444444, \"#bd3786\"], [0.5555555555555556, \"#d8576b\"], [0.6666666666666666, \"#ed7953\"], [0.7777777777777778, \"#fb9f3a\"], [0.8888888888888888, \"#fdca26\"], [1.0, \"#f0f921\"]], \"sequentialminus\": [[0.0, \"#0d0887\"], [0.1111111111111111, \"#46039f\"], [0.2222222222222222, \"#7201a8\"], [0.3333333333333333, \"#9c179e\"], [0.4444444444444444, \"#bd3786\"], [0.5555555555555556, \"#d8576b\"], [0.6666666666666666, \"#ed7953\"], [0.7777777777777778, \"#fb9f3a\"], [0.8888888888888888, \"#fdca26\"], [1.0, \"#f0f921\"]]}, \"colorway\": [\"#636efa\", \"#EF553B\", \"#00cc96\", \"#ab63fa\", \"#FFA15A\", \"#19d3f3\", \"#FF6692\", \"#B6E880\", \"#FF97FF\", \"#FECB52\"], \"font\": {\"color\": \"#2a3f5f\"}, \"geo\": {\"bgcolor\": \"white\", \"lakecolor\": \"white\", \"landcolor\": \"#E5ECF6\", \"showlakes\": true, \"showland\": true, \"subunitcolor\": \"white\"}, \"hoverlabel\": {\"align\": \"left\"}, \"hovermode\": \"closest\", \"mapbox\": {\"style\": \"light\"}, \"paper_bgcolor\": \"white\", \"plot_bgcolor\": \"#E5ECF6\", \"polar\": {\"angularaxis\": {\"gridcolor\": \"white\", \"linecolor\": \"white\", \"ticks\": \"\"}, \"bgcolor\": \"#E5ECF6\", \"radialaxis\": {\"gridcolor\": \"white\", \"linecolor\": \"white\", \"ticks\": \"\"}}, \"scene\": {\"xaxis\": {\"backgroundcolor\": \"#E5ECF6\", \"gridcolor\": \"white\", \"gridwidth\": 2, \"linecolor\": \"white\", \"showbackground\": true, \"ticks\": \"\", \"zerolinecolor\": \"white\"}, \"yaxis\": {\"backgroundcolor\": \"#E5ECF6\", \"gridcolor\": \"white\", \"gridwidth\": 2, \"linecolor\": \"white\", \"showbackground\": true, \"ticks\": \"\", \"zerolinecolor\": \"white\"}, \"zaxis\": {\"backgroundcolor\": \"#E5ECF6\", \"gridcolor\": \"white\", \"gridwidth\": 2, \"linecolor\": \"white\", \"showbackground\": true, \"ticks\": \"\", \"zerolinecolor\": \"white\"}}, \"shapedefaults\": {\"line\": {\"color\": \"#2a3f5f\"}}, \"ternary\": {\"aaxis\": {\"gridcolor\": \"white\", \"linecolor\": \"white\", \"ticks\": \"\"}, \"baxis\": {\"gridcolor\": \"white\", \"linecolor\": \"white\", \"ticks\": \"\"}, \"bgcolor\": \"#E5ECF6\", \"caxis\": {\"gridcolor\": \"white\", \"linecolor\": \"white\", \"ticks\": \"\"}}, \"title\": {\"x\": 0.05}, \"xaxis\": {\"automargin\": true, \"gridcolor\": \"white\", \"linecolor\": \"white\", \"ticks\": \"\", \"title\": {\"standoff\": 15}, \"zerolinecolor\": \"white\", \"zerolinewidth\": 2}, \"yaxis\": {\"automargin\": true, \"gridcolor\": \"white\", \"linecolor\": \"white\", \"ticks\": \"\", \"title\": {\"standoff\": 15}, \"zerolinecolor\": \"white\", \"zerolinewidth\": 2}}}, \"title\": {\"text\": \"Varia\\u00e7\\u00e3o mensal de inc\\u00eandios de 1998 a 2017\"}, \"xaxis\": {\"anchor\": \"y\", \"domain\": [0.0, 1.0], \"title\": {\"text\": \"x\"}}, \"yaxis\": {\"anchor\": \"x\", \"domain\": [0.0, 1.0], \"title\": {\"text\": \"y\"}}},                        {\"responsive\": true}                    ).then(function(){\n",
       "                            \n",
       "var gd = document.getElementById('18fd2f12-4313-4cdb-9afb-519e4a1ac144');\n",
       "var x = new MutationObserver(function (mutations, observer) {{\n",
       "        var display = window.getComputedStyle(gd).display;\n",
       "        if (!display || display === 'none') {{\n",
       "            console.log([gd, 'removed!']);\n",
       "            Plotly.purge(gd);\n",
       "            observer.disconnect();\n",
       "        }}\n",
       "}});\n",
       "\n",
       "// Listen for the removal of the full notebook cells\n",
       "var notebookContainer = gd.closest('#notebook-container');\n",
       "if (notebookContainer) {{\n",
       "    x.observe(notebookContainer, {childList: true});\n",
       "}}\n",
       "\n",
       "// Listen for the clearing of the current output cell\n",
       "var outputEl = gd.closest('.output');\n",
       "if (outputEl) {{\n",
       "    x.observe(outputEl, {childList: true});\n",
       "}}\n",
       "\n",
       "                        })                };                });            </script>        </div>"
      ]
     },
     "metadata": {},
     "output_type": "display_data"
    }
   ],
   "source": [
    "fig = px.line(x=indexs, y=list(aux_mes[:]), title='Variação mensal de incêndios de 1998 a 2017')\n",
    "fig.update_layout({\n",
    "        'plot_bgcolor': 'rgba(0, 0, 0, 0)',\n",
    "        'paper_bgcolor': 'rgba(0, 0, 0, 0)',\n",
    "})\n",
    "fig.show()"
   ]
  },
  {
   "cell_type": "code",
   "execution_count": 20,
   "metadata": {},
   "outputs": [
    {
     "data": {
      "text/html": [
       "<div>\n",
       "<style scoped>\n",
       "    .dataframe tbody tr th:only-of-type {\n",
       "        vertical-align: middle;\n",
       "    }\n",
       "\n",
       "    .dataframe tbody tr th {\n",
       "        vertical-align: top;\n",
       "    }\n",
       "\n",
       "    .dataframe thead th {\n",
       "        text-align: right;\n",
       "    }\n",
       "</style>\n",
       "<table border=\"1\" class=\"dataframe\">\n",
       "  <thead>\n",
       "    <tr style=\"text-align: right;\">\n",
       "      <th></th>\n",
       "      <th>State</th>\n",
       "      <th>Reported_Fires</th>\n",
       "    </tr>\n",
       "  </thead>\n",
       "  <tbody>\n",
       "    <tr>\n",
       "      <th>0</th>\n",
       "      <td>Mato Grosso</td>\n",
       "      <td>96245.0</td>\n",
       "    </tr>\n",
       "    <tr>\n",
       "      <th>1</th>\n",
       "      <td>Paraiba</td>\n",
       "      <td>52437.0</td>\n",
       "    </tr>\n",
       "    <tr>\n",
       "      <th>2</th>\n",
       "      <td>Sao Paulo</td>\n",
       "      <td>51120.0</td>\n",
       "    </tr>\n",
       "    <tr>\n",
       "      <th>3</th>\n",
       "      <td>Rio</td>\n",
       "      <td>45160.0</td>\n",
       "    </tr>\n",
       "    <tr>\n",
       "      <th>4</th>\n",
       "      <td>Bahia</td>\n",
       "      <td>44747.0</td>\n",
       "    </tr>\n",
       "    <tr>\n",
       "      <th>6</th>\n",
       "      <td>Piau</td>\n",
       "      <td>37805.0</td>\n",
       "    </tr>\n",
       "    <tr>\n",
       "      <th>7</th>\n",
       "      <td>Goias</td>\n",
       "      <td>37694.0</td>\n",
       "    </tr>\n",
       "    <tr>\n",
       "      <th>8</th>\n",
       "      <td>Minas Gerais</td>\n",
       "      <td>37475.0</td>\n",
       "    </tr>\n",
       "    <tr>\n",
       "      <th>9</th>\n",
       "      <td>Tocantins</td>\n",
       "      <td>33707.0</td>\n",
       "    </tr>\n",
       "    <tr>\n",
       "      <th>10</th>\n",
       "      <td>Amazonas</td>\n",
       "      <td>30652.0</td>\n",
       "    </tr>\n",
       "  </tbody>\n",
       "</table>\n",
       "</div>"
      ],
      "text/plain": [
       "           State  Reported_Fires\n",
       "0    Mato Grosso         96245.0\n",
       "1        Paraiba         52437.0\n",
       "2      Sao Paulo         51120.0\n",
       "3            Rio         45160.0\n",
       "4          Bahia         44747.0\n",
       "6           Piau         37805.0\n",
       "7          Goias         37694.0\n",
       "8   Minas Gerais         37475.0\n",
       "9      Tocantins         33707.0\n",
       "10      Amazonas         30652.0"
      ]
     },
     "execution_count": 20,
     "metadata": {},
     "output_type": "execute_result"
    }
   ],
   "source": [
    "#creating a dataframe for bar plot visualization\n",
    "bar_plot_df=pd.DataFrame(time_plot_2_df.sum().nlargest(11))\n",
    "#reseting index for first column\n",
    "bar_plot_df=bar_plot_df.reset_index()\n",
    "#renaming\n",
    "bar_plot_df.rename(columns={'index':'State', 0:'Reported_Fires'}, inplace=True)\n",
    "#removing Year observation\n",
    "bar_plot_df.drop(bar_plot_df[bar_plot_df.State == 'Year'].index, inplace=True)\n",
    "#checking dataframe\n",
    "bar_plot_df"
   ]
  },
  {
   "cell_type": "code",
   "execution_count": 24,
   "metadata": {},
   "outputs": [
    {
     "data": {
      "application/vnd.plotly.v1+json": {
       "config": {
        "plotlyServerURL": "https://plot.ly"
       },
       "data": [
        {
         "alignmentgroup": "True",
         "hovertemplate": "Estados=%{x}<br>Número de incêndios=%{marker.color}<extra></extra>",
         "legendgroup": "",
         "marker": {
          "color": [
           96245,
           52437,
           51120,
           45160,
           44747,
           37805,
           37694,
           37475,
           33707,
           30652
          ],
          "coloraxis": "coloraxis"
         },
         "name": "",
         "offsetgroup": "",
         "orientation": "v",
         "showlegend": false,
         "textposition": "auto",
         "type": "bar",
         "x": [
          "Mato Grosso",
          "Paraiba",
          "Sao Paulo",
          "Rio",
          "Bahia",
          "Piau",
          "Goias",
          "Minas Gerais",
          "Tocantins",
          "Amazonas"
         ],
         "xaxis": "x",
         "y": [
          96245,
          52437,
          51120,
          45160,
          44747,
          37805,
          37694,
          37475,
          33707,
          30652
         ],
         "yaxis": "y"
        }
       ],
       "layout": {
        "barmode": "relative",
        "coloraxis": {
         "colorbar": {
          "title": {
           "text": "Número de incêndios"
          }
         },
         "colorscale": [
          [
           0,
           "rgb(255,245,240)"
          ],
          [
           0.125,
           "rgb(254,224,210)"
          ],
          [
           0.25,
           "rgb(252,187,161)"
          ],
          [
           0.375,
           "rgb(252,146,114)"
          ],
          [
           0.5,
           "rgb(251,106,74)"
          ],
          [
           0.625,
           "rgb(239,59,44)"
          ],
          [
           0.75,
           "rgb(203,24,29)"
          ],
          [
           0.875,
           "rgb(165,15,21)"
          ],
          [
           1,
           "rgb(103,0,13)"
          ]
         ]
        },
        "legend": {
         "tracegroupgap": 0
        },
        "margin": {
         "t": 60
        },
        "template": {
         "data": {
          "bar": [
           {
            "error_x": {
             "color": "#2a3f5f"
            },
            "error_y": {
             "color": "#2a3f5f"
            },
            "marker": {
             "line": {
              "color": "#E5ECF6",
              "width": 0.5
             }
            },
            "type": "bar"
           }
          ],
          "barpolar": [
           {
            "marker": {
             "line": {
              "color": "#E5ECF6",
              "width": 0.5
             }
            },
            "type": "barpolar"
           }
          ],
          "carpet": [
           {
            "aaxis": {
             "endlinecolor": "#2a3f5f",
             "gridcolor": "white",
             "linecolor": "white",
             "minorgridcolor": "white",
             "startlinecolor": "#2a3f5f"
            },
            "baxis": {
             "endlinecolor": "#2a3f5f",
             "gridcolor": "white",
             "linecolor": "white",
             "minorgridcolor": "white",
             "startlinecolor": "#2a3f5f"
            },
            "type": "carpet"
           }
          ],
          "choropleth": [
           {
            "colorbar": {
             "outlinewidth": 0,
             "ticks": ""
            },
            "type": "choropleth"
           }
          ],
          "contour": [
           {
            "colorbar": {
             "outlinewidth": 0,
             "ticks": ""
            },
            "colorscale": [
             [
              0,
              "#0d0887"
             ],
             [
              0.1111111111111111,
              "#46039f"
             ],
             [
              0.2222222222222222,
              "#7201a8"
             ],
             [
              0.3333333333333333,
              "#9c179e"
             ],
             [
              0.4444444444444444,
              "#bd3786"
             ],
             [
              0.5555555555555556,
              "#d8576b"
             ],
             [
              0.6666666666666666,
              "#ed7953"
             ],
             [
              0.7777777777777778,
              "#fb9f3a"
             ],
             [
              0.8888888888888888,
              "#fdca26"
             ],
             [
              1,
              "#f0f921"
             ]
            ],
            "type": "contour"
           }
          ],
          "contourcarpet": [
           {
            "colorbar": {
             "outlinewidth": 0,
             "ticks": ""
            },
            "type": "contourcarpet"
           }
          ],
          "heatmap": [
           {
            "colorbar": {
             "outlinewidth": 0,
             "ticks": ""
            },
            "colorscale": [
             [
              0,
              "#0d0887"
             ],
             [
              0.1111111111111111,
              "#46039f"
             ],
             [
              0.2222222222222222,
              "#7201a8"
             ],
             [
              0.3333333333333333,
              "#9c179e"
             ],
             [
              0.4444444444444444,
              "#bd3786"
             ],
             [
              0.5555555555555556,
              "#d8576b"
             ],
             [
              0.6666666666666666,
              "#ed7953"
             ],
             [
              0.7777777777777778,
              "#fb9f3a"
             ],
             [
              0.8888888888888888,
              "#fdca26"
             ],
             [
              1,
              "#f0f921"
             ]
            ],
            "type": "heatmap"
           }
          ],
          "heatmapgl": [
           {
            "colorbar": {
             "outlinewidth": 0,
             "ticks": ""
            },
            "colorscale": [
             [
              0,
              "#0d0887"
             ],
             [
              0.1111111111111111,
              "#46039f"
             ],
             [
              0.2222222222222222,
              "#7201a8"
             ],
             [
              0.3333333333333333,
              "#9c179e"
             ],
             [
              0.4444444444444444,
              "#bd3786"
             ],
             [
              0.5555555555555556,
              "#d8576b"
             ],
             [
              0.6666666666666666,
              "#ed7953"
             ],
             [
              0.7777777777777778,
              "#fb9f3a"
             ],
             [
              0.8888888888888888,
              "#fdca26"
             ],
             [
              1,
              "#f0f921"
             ]
            ],
            "type": "heatmapgl"
           }
          ],
          "histogram": [
           {
            "marker": {
             "colorbar": {
              "outlinewidth": 0,
              "ticks": ""
             }
            },
            "type": "histogram"
           }
          ],
          "histogram2d": [
           {
            "colorbar": {
             "outlinewidth": 0,
             "ticks": ""
            },
            "colorscale": [
             [
              0,
              "#0d0887"
             ],
             [
              0.1111111111111111,
              "#46039f"
             ],
             [
              0.2222222222222222,
              "#7201a8"
             ],
             [
              0.3333333333333333,
              "#9c179e"
             ],
             [
              0.4444444444444444,
              "#bd3786"
             ],
             [
              0.5555555555555556,
              "#d8576b"
             ],
             [
              0.6666666666666666,
              "#ed7953"
             ],
             [
              0.7777777777777778,
              "#fb9f3a"
             ],
             [
              0.8888888888888888,
              "#fdca26"
             ],
             [
              1,
              "#f0f921"
             ]
            ],
            "type": "histogram2d"
           }
          ],
          "histogram2dcontour": [
           {
            "colorbar": {
             "outlinewidth": 0,
             "ticks": ""
            },
            "colorscale": [
             [
              0,
              "#0d0887"
             ],
             [
              0.1111111111111111,
              "#46039f"
             ],
             [
              0.2222222222222222,
              "#7201a8"
             ],
             [
              0.3333333333333333,
              "#9c179e"
             ],
             [
              0.4444444444444444,
              "#bd3786"
             ],
             [
              0.5555555555555556,
              "#d8576b"
             ],
             [
              0.6666666666666666,
              "#ed7953"
             ],
             [
              0.7777777777777778,
              "#fb9f3a"
             ],
             [
              0.8888888888888888,
              "#fdca26"
             ],
             [
              1,
              "#f0f921"
             ]
            ],
            "type": "histogram2dcontour"
           }
          ],
          "mesh3d": [
           {
            "colorbar": {
             "outlinewidth": 0,
             "ticks": ""
            },
            "type": "mesh3d"
           }
          ],
          "parcoords": [
           {
            "line": {
             "colorbar": {
              "outlinewidth": 0,
              "ticks": ""
             }
            },
            "type": "parcoords"
           }
          ],
          "pie": [
           {
            "automargin": true,
            "type": "pie"
           }
          ],
          "scatter": [
           {
            "marker": {
             "colorbar": {
              "outlinewidth": 0,
              "ticks": ""
             }
            },
            "type": "scatter"
           }
          ],
          "scatter3d": [
           {
            "line": {
             "colorbar": {
              "outlinewidth": 0,
              "ticks": ""
             }
            },
            "marker": {
             "colorbar": {
              "outlinewidth": 0,
              "ticks": ""
             }
            },
            "type": "scatter3d"
           }
          ],
          "scattercarpet": [
           {
            "marker": {
             "colorbar": {
              "outlinewidth": 0,
              "ticks": ""
             }
            },
            "type": "scattercarpet"
           }
          ],
          "scattergeo": [
           {
            "marker": {
             "colorbar": {
              "outlinewidth": 0,
              "ticks": ""
             }
            },
            "type": "scattergeo"
           }
          ],
          "scattergl": [
           {
            "marker": {
             "colorbar": {
              "outlinewidth": 0,
              "ticks": ""
             }
            },
            "type": "scattergl"
           }
          ],
          "scattermapbox": [
           {
            "marker": {
             "colorbar": {
              "outlinewidth": 0,
              "ticks": ""
             }
            },
            "type": "scattermapbox"
           }
          ],
          "scatterpolar": [
           {
            "marker": {
             "colorbar": {
              "outlinewidth": 0,
              "ticks": ""
             }
            },
            "type": "scatterpolar"
           }
          ],
          "scatterpolargl": [
           {
            "marker": {
             "colorbar": {
              "outlinewidth": 0,
              "ticks": ""
             }
            },
            "type": "scatterpolargl"
           }
          ],
          "scatterternary": [
           {
            "marker": {
             "colorbar": {
              "outlinewidth": 0,
              "ticks": ""
             }
            },
            "type": "scatterternary"
           }
          ],
          "surface": [
           {
            "colorbar": {
             "outlinewidth": 0,
             "ticks": ""
            },
            "colorscale": [
             [
              0,
              "#0d0887"
             ],
             [
              0.1111111111111111,
              "#46039f"
             ],
             [
              0.2222222222222222,
              "#7201a8"
             ],
             [
              0.3333333333333333,
              "#9c179e"
             ],
             [
              0.4444444444444444,
              "#bd3786"
             ],
             [
              0.5555555555555556,
              "#d8576b"
             ],
             [
              0.6666666666666666,
              "#ed7953"
             ],
             [
              0.7777777777777778,
              "#fb9f3a"
             ],
             [
              0.8888888888888888,
              "#fdca26"
             ],
             [
              1,
              "#f0f921"
             ]
            ],
            "type": "surface"
           }
          ],
          "table": [
           {
            "cells": {
             "fill": {
              "color": "#EBF0F8"
             },
             "line": {
              "color": "white"
             }
            },
            "header": {
             "fill": {
              "color": "#C8D4E3"
             },
             "line": {
              "color": "white"
             }
            },
            "type": "table"
           }
          ]
         },
         "layout": {
          "annotationdefaults": {
           "arrowcolor": "#2a3f5f",
           "arrowhead": 0,
           "arrowwidth": 1
          },
          "coloraxis": {
           "colorbar": {
            "outlinewidth": 0,
            "ticks": ""
           }
          },
          "colorscale": {
           "diverging": [
            [
             0,
             "#8e0152"
            ],
            [
             0.1,
             "#c51b7d"
            ],
            [
             0.2,
             "#de77ae"
            ],
            [
             0.3,
             "#f1b6da"
            ],
            [
             0.4,
             "#fde0ef"
            ],
            [
             0.5,
             "#f7f7f7"
            ],
            [
             0.6,
             "#e6f5d0"
            ],
            [
             0.7,
             "#b8e186"
            ],
            [
             0.8,
             "#7fbc41"
            ],
            [
             0.9,
             "#4d9221"
            ],
            [
             1,
             "#276419"
            ]
           ],
           "sequential": [
            [
             0,
             "#0d0887"
            ],
            [
             0.1111111111111111,
             "#46039f"
            ],
            [
             0.2222222222222222,
             "#7201a8"
            ],
            [
             0.3333333333333333,
             "#9c179e"
            ],
            [
             0.4444444444444444,
             "#bd3786"
            ],
            [
             0.5555555555555556,
             "#d8576b"
            ],
            [
             0.6666666666666666,
             "#ed7953"
            ],
            [
             0.7777777777777778,
             "#fb9f3a"
            ],
            [
             0.8888888888888888,
             "#fdca26"
            ],
            [
             1,
             "#f0f921"
            ]
           ],
           "sequentialminus": [
            [
             0,
             "#0d0887"
            ],
            [
             0.1111111111111111,
             "#46039f"
            ],
            [
             0.2222222222222222,
             "#7201a8"
            ],
            [
             0.3333333333333333,
             "#9c179e"
            ],
            [
             0.4444444444444444,
             "#bd3786"
            ],
            [
             0.5555555555555556,
             "#d8576b"
            ],
            [
             0.6666666666666666,
             "#ed7953"
            ],
            [
             0.7777777777777778,
             "#fb9f3a"
            ],
            [
             0.8888888888888888,
             "#fdca26"
            ],
            [
             1,
             "#f0f921"
            ]
           ]
          },
          "colorway": [
           "#636efa",
           "#EF553B",
           "#00cc96",
           "#ab63fa",
           "#FFA15A",
           "#19d3f3",
           "#FF6692",
           "#B6E880",
           "#FF97FF",
           "#FECB52"
          ],
          "font": {
           "color": "#2a3f5f"
          },
          "geo": {
           "bgcolor": "white",
           "lakecolor": "white",
           "landcolor": "#E5ECF6",
           "showlakes": true,
           "showland": true,
           "subunitcolor": "white"
          },
          "hoverlabel": {
           "align": "left"
          },
          "hovermode": "closest",
          "mapbox": {
           "style": "light"
          },
          "paper_bgcolor": "white",
          "plot_bgcolor": "#E5ECF6",
          "polar": {
           "angularaxis": {
            "gridcolor": "white",
            "linecolor": "white",
            "ticks": ""
           },
           "bgcolor": "#E5ECF6",
           "radialaxis": {
            "gridcolor": "white",
            "linecolor": "white",
            "ticks": ""
           }
          },
          "scene": {
           "xaxis": {
            "backgroundcolor": "#E5ECF6",
            "gridcolor": "white",
            "gridwidth": 2,
            "linecolor": "white",
            "showbackground": true,
            "ticks": "",
            "zerolinecolor": "white"
           },
           "yaxis": {
            "backgroundcolor": "#E5ECF6",
            "gridcolor": "white",
            "gridwidth": 2,
            "linecolor": "white",
            "showbackground": true,
            "ticks": "",
            "zerolinecolor": "white"
           },
           "zaxis": {
            "backgroundcolor": "#E5ECF6",
            "gridcolor": "white",
            "gridwidth": 2,
            "linecolor": "white",
            "showbackground": true,
            "ticks": "",
            "zerolinecolor": "white"
           }
          },
          "shapedefaults": {
           "line": {
            "color": "#2a3f5f"
           }
          },
          "ternary": {
           "aaxis": {
            "gridcolor": "white",
            "linecolor": "white",
            "ticks": ""
           },
           "baxis": {
            "gridcolor": "white",
            "linecolor": "white",
            "ticks": ""
           },
           "bgcolor": "#E5ECF6",
           "caxis": {
            "gridcolor": "white",
            "linecolor": "white",
            "ticks": ""
           }
          },
          "title": {
           "x": 0.05
          },
          "xaxis": {
           "automargin": true,
           "gridcolor": "white",
           "linecolor": "white",
           "ticks": "",
           "title": {
            "standoff": 15
           },
           "zerolinecolor": "white",
           "zerolinewidth": 2
          },
          "yaxis": {
           "automargin": true,
           "gridcolor": "white",
           "linecolor": "white",
           "ticks": "",
           "title": {
            "standoff": 15
           },
           "zerolinecolor": "white",
           "zerolinewidth": 2
          }
         }
        },
        "title": {
         "text": "Estados mais afetados de 1998 a 2017"
        },
        "xaxis": {
         "anchor": "y",
         "domain": [
          0,
          1
         ],
         "tickangle": -45,
         "title": {
          "text": "Estados"
         }
        },
        "yaxis": {
         "anchor": "x",
         "domain": [
          0,
          1
         ],
         "title": {
          "text": "Número de incêndios"
         }
        }
       }
      },
      "text/html": [
       "<div>                            <div id=\"aade25bb-8430-4a78-8961-5272f37329a5\" class=\"plotly-graph-div\" style=\"height:525px; width:100%;\"></div>            <script type=\"text/javascript\">                require([\"plotly\"], function(Plotly) {                    window.PLOTLYENV=window.PLOTLYENV || {};                                    if (document.getElementById(\"aade25bb-8430-4a78-8961-5272f37329a5\")) {                    Plotly.newPlot(                        \"aade25bb-8430-4a78-8961-5272f37329a5\",                        [{\"alignmentgroup\": \"True\", \"hovertemplate\": \"Estados=%{x}<br>N\\u00famero de inc\\u00eandios=%{marker.color}<extra></extra>\", \"legendgroup\": \"\", \"marker\": {\"color\": [96245.0, 52437.0, 51120.0, 45160.0, 44747.0, 37805.0, 37694.0, 37475.0, 33707.0, 30652.0], \"coloraxis\": \"coloraxis\"}, \"name\": \"\", \"offsetgroup\": \"\", \"orientation\": \"v\", \"showlegend\": false, \"textposition\": \"auto\", \"type\": \"bar\", \"x\": [\"Mato Grosso\", \"Paraiba\", \"Sao Paulo\", \"Rio\", \"Bahia\", \"Piau\", \"Goias\", \"Minas Gerais\", \"Tocantins\", \"Amazonas\"], \"xaxis\": \"x\", \"y\": [96245.0, 52437.0, 51120.0, 45160.0, 44747.0, 37805.0, 37694.0, 37475.0, 33707.0, 30652.0], \"yaxis\": \"y\"}],                        {\"barmode\": \"relative\", \"coloraxis\": {\"colorbar\": {\"title\": {\"text\": \"N\\u00famero de inc\\u00eandios\"}}, \"colorscale\": [[0.0, \"rgb(255,245,240)\"], [0.125, \"rgb(254,224,210)\"], [0.25, \"rgb(252,187,161)\"], [0.375, \"rgb(252,146,114)\"], [0.5, \"rgb(251,106,74)\"], [0.625, \"rgb(239,59,44)\"], [0.75, \"rgb(203,24,29)\"], [0.875, \"rgb(165,15,21)\"], [1.0, \"rgb(103,0,13)\"]]}, \"legend\": {\"tracegroupgap\": 0}, \"margin\": {\"t\": 60}, \"template\": {\"data\": {\"bar\": [{\"error_x\": {\"color\": \"#2a3f5f\"}, \"error_y\": {\"color\": \"#2a3f5f\"}, \"marker\": {\"line\": {\"color\": \"#E5ECF6\", \"width\": 0.5}}, \"type\": \"bar\"}], \"barpolar\": [{\"marker\": {\"line\": {\"color\": \"#E5ECF6\", \"width\": 0.5}}, \"type\": \"barpolar\"}], \"carpet\": [{\"aaxis\": {\"endlinecolor\": \"#2a3f5f\", \"gridcolor\": \"white\", \"linecolor\": \"white\", \"minorgridcolor\": \"white\", \"startlinecolor\": \"#2a3f5f\"}, \"baxis\": {\"endlinecolor\": \"#2a3f5f\", \"gridcolor\": \"white\", \"linecolor\": \"white\", \"minorgridcolor\": \"white\", \"startlinecolor\": \"#2a3f5f\"}, \"type\": \"carpet\"}], \"choropleth\": [{\"colorbar\": {\"outlinewidth\": 0, \"ticks\": \"\"}, \"type\": \"choropleth\"}], \"contour\": [{\"colorbar\": {\"outlinewidth\": 0, \"ticks\": \"\"}, \"colorscale\": [[0.0, \"#0d0887\"], [0.1111111111111111, \"#46039f\"], [0.2222222222222222, \"#7201a8\"], [0.3333333333333333, \"#9c179e\"], [0.4444444444444444, \"#bd3786\"], [0.5555555555555556, \"#d8576b\"], [0.6666666666666666, \"#ed7953\"], [0.7777777777777778, \"#fb9f3a\"], [0.8888888888888888, \"#fdca26\"], [1.0, \"#f0f921\"]], \"type\": \"contour\"}], \"contourcarpet\": [{\"colorbar\": {\"outlinewidth\": 0, \"ticks\": \"\"}, \"type\": \"contourcarpet\"}], \"heatmap\": [{\"colorbar\": {\"outlinewidth\": 0, \"ticks\": \"\"}, \"colorscale\": [[0.0, \"#0d0887\"], [0.1111111111111111, \"#46039f\"], [0.2222222222222222, \"#7201a8\"], [0.3333333333333333, \"#9c179e\"], [0.4444444444444444, \"#bd3786\"], [0.5555555555555556, \"#d8576b\"], [0.6666666666666666, \"#ed7953\"], [0.7777777777777778, \"#fb9f3a\"], [0.8888888888888888, \"#fdca26\"], [1.0, \"#f0f921\"]], \"type\": \"heatmap\"}], \"heatmapgl\": [{\"colorbar\": {\"outlinewidth\": 0, \"ticks\": \"\"}, \"colorscale\": [[0.0, \"#0d0887\"], [0.1111111111111111, \"#46039f\"], [0.2222222222222222, \"#7201a8\"], [0.3333333333333333, \"#9c179e\"], [0.4444444444444444, \"#bd3786\"], [0.5555555555555556, \"#d8576b\"], [0.6666666666666666, \"#ed7953\"], [0.7777777777777778, \"#fb9f3a\"], [0.8888888888888888, \"#fdca26\"], [1.0, \"#f0f921\"]], \"type\": \"heatmapgl\"}], \"histogram\": [{\"marker\": {\"colorbar\": {\"outlinewidth\": 0, \"ticks\": \"\"}}, \"type\": \"histogram\"}], \"histogram2d\": [{\"colorbar\": {\"outlinewidth\": 0, \"ticks\": \"\"}, \"colorscale\": [[0.0, \"#0d0887\"], [0.1111111111111111, \"#46039f\"], [0.2222222222222222, \"#7201a8\"], [0.3333333333333333, \"#9c179e\"], [0.4444444444444444, \"#bd3786\"], [0.5555555555555556, \"#d8576b\"], [0.6666666666666666, \"#ed7953\"], [0.7777777777777778, \"#fb9f3a\"], [0.8888888888888888, \"#fdca26\"], [1.0, \"#f0f921\"]], \"type\": \"histogram2d\"}], \"histogram2dcontour\": [{\"colorbar\": {\"outlinewidth\": 0, \"ticks\": \"\"}, \"colorscale\": [[0.0, \"#0d0887\"], [0.1111111111111111, \"#46039f\"], [0.2222222222222222, \"#7201a8\"], [0.3333333333333333, \"#9c179e\"], [0.4444444444444444, \"#bd3786\"], [0.5555555555555556, \"#d8576b\"], [0.6666666666666666, \"#ed7953\"], [0.7777777777777778, \"#fb9f3a\"], [0.8888888888888888, \"#fdca26\"], [1.0, \"#f0f921\"]], \"type\": \"histogram2dcontour\"}], \"mesh3d\": [{\"colorbar\": {\"outlinewidth\": 0, \"ticks\": \"\"}, \"type\": \"mesh3d\"}], \"parcoords\": [{\"line\": {\"colorbar\": {\"outlinewidth\": 0, \"ticks\": \"\"}}, \"type\": \"parcoords\"}], \"pie\": [{\"automargin\": true, \"type\": \"pie\"}], \"scatter\": [{\"marker\": {\"colorbar\": {\"outlinewidth\": 0, \"ticks\": \"\"}}, \"type\": \"scatter\"}], \"scatter3d\": [{\"line\": {\"colorbar\": {\"outlinewidth\": 0, \"ticks\": \"\"}}, \"marker\": {\"colorbar\": {\"outlinewidth\": 0, \"ticks\": \"\"}}, \"type\": \"scatter3d\"}], \"scattercarpet\": [{\"marker\": {\"colorbar\": {\"outlinewidth\": 0, \"ticks\": \"\"}}, \"type\": \"scattercarpet\"}], \"scattergeo\": [{\"marker\": {\"colorbar\": {\"outlinewidth\": 0, \"ticks\": \"\"}}, \"type\": \"scattergeo\"}], \"scattergl\": [{\"marker\": {\"colorbar\": {\"outlinewidth\": 0, \"ticks\": \"\"}}, \"type\": \"scattergl\"}], \"scattermapbox\": [{\"marker\": {\"colorbar\": {\"outlinewidth\": 0, \"ticks\": \"\"}}, \"type\": \"scattermapbox\"}], \"scatterpolar\": [{\"marker\": {\"colorbar\": {\"outlinewidth\": 0, \"ticks\": \"\"}}, \"type\": \"scatterpolar\"}], \"scatterpolargl\": [{\"marker\": {\"colorbar\": {\"outlinewidth\": 0, \"ticks\": \"\"}}, \"type\": \"scatterpolargl\"}], \"scatterternary\": [{\"marker\": {\"colorbar\": {\"outlinewidth\": 0, \"ticks\": \"\"}}, \"type\": \"scatterternary\"}], \"surface\": [{\"colorbar\": {\"outlinewidth\": 0, \"ticks\": \"\"}, \"colorscale\": [[0.0, \"#0d0887\"], [0.1111111111111111, \"#46039f\"], [0.2222222222222222, \"#7201a8\"], [0.3333333333333333, \"#9c179e\"], [0.4444444444444444, \"#bd3786\"], [0.5555555555555556, \"#d8576b\"], [0.6666666666666666, \"#ed7953\"], [0.7777777777777778, \"#fb9f3a\"], [0.8888888888888888, \"#fdca26\"], [1.0, \"#f0f921\"]], \"type\": \"surface\"}], \"table\": [{\"cells\": {\"fill\": {\"color\": \"#EBF0F8\"}, \"line\": {\"color\": \"white\"}}, \"header\": {\"fill\": {\"color\": \"#C8D4E3\"}, \"line\": {\"color\": \"white\"}}, \"type\": \"table\"}]}, \"layout\": {\"annotationdefaults\": {\"arrowcolor\": \"#2a3f5f\", \"arrowhead\": 0, \"arrowwidth\": 1}, \"coloraxis\": {\"colorbar\": {\"outlinewidth\": 0, \"ticks\": \"\"}}, \"colorscale\": {\"diverging\": [[0, \"#8e0152\"], [0.1, \"#c51b7d\"], [0.2, \"#de77ae\"], [0.3, \"#f1b6da\"], [0.4, \"#fde0ef\"], [0.5, \"#f7f7f7\"], [0.6, \"#e6f5d0\"], [0.7, \"#b8e186\"], [0.8, \"#7fbc41\"], [0.9, \"#4d9221\"], [1, \"#276419\"]], \"sequential\": [[0.0, \"#0d0887\"], [0.1111111111111111, \"#46039f\"], [0.2222222222222222, \"#7201a8\"], [0.3333333333333333, \"#9c179e\"], [0.4444444444444444, \"#bd3786\"], [0.5555555555555556, \"#d8576b\"], [0.6666666666666666, \"#ed7953\"], [0.7777777777777778, \"#fb9f3a\"], [0.8888888888888888, \"#fdca26\"], [1.0, \"#f0f921\"]], \"sequentialminus\": [[0.0, \"#0d0887\"], [0.1111111111111111, \"#46039f\"], [0.2222222222222222, \"#7201a8\"], [0.3333333333333333, \"#9c179e\"], [0.4444444444444444, \"#bd3786\"], [0.5555555555555556, \"#d8576b\"], [0.6666666666666666, \"#ed7953\"], [0.7777777777777778, \"#fb9f3a\"], [0.8888888888888888, \"#fdca26\"], [1.0, \"#f0f921\"]]}, \"colorway\": [\"#636efa\", \"#EF553B\", \"#00cc96\", \"#ab63fa\", \"#FFA15A\", \"#19d3f3\", \"#FF6692\", \"#B6E880\", \"#FF97FF\", \"#FECB52\"], \"font\": {\"color\": \"#2a3f5f\"}, \"geo\": {\"bgcolor\": \"white\", \"lakecolor\": \"white\", \"landcolor\": \"#E5ECF6\", \"showlakes\": true, \"showland\": true, \"subunitcolor\": \"white\"}, \"hoverlabel\": {\"align\": \"left\"}, \"hovermode\": \"closest\", \"mapbox\": {\"style\": \"light\"}, \"paper_bgcolor\": \"white\", \"plot_bgcolor\": \"#E5ECF6\", \"polar\": {\"angularaxis\": {\"gridcolor\": \"white\", \"linecolor\": \"white\", \"ticks\": \"\"}, \"bgcolor\": \"#E5ECF6\", \"radialaxis\": {\"gridcolor\": \"white\", \"linecolor\": \"white\", \"ticks\": \"\"}}, \"scene\": {\"xaxis\": {\"backgroundcolor\": \"#E5ECF6\", \"gridcolor\": \"white\", \"gridwidth\": 2, \"linecolor\": \"white\", \"showbackground\": true, \"ticks\": \"\", \"zerolinecolor\": \"white\"}, \"yaxis\": {\"backgroundcolor\": \"#E5ECF6\", \"gridcolor\": \"white\", \"gridwidth\": 2, \"linecolor\": \"white\", \"showbackground\": true, \"ticks\": \"\", \"zerolinecolor\": \"white\"}, \"zaxis\": {\"backgroundcolor\": \"#E5ECF6\", \"gridcolor\": \"white\", \"gridwidth\": 2, \"linecolor\": \"white\", \"showbackground\": true, \"ticks\": \"\", \"zerolinecolor\": \"white\"}}, \"shapedefaults\": {\"line\": {\"color\": \"#2a3f5f\"}}, \"ternary\": {\"aaxis\": {\"gridcolor\": \"white\", \"linecolor\": \"white\", \"ticks\": \"\"}, \"baxis\": {\"gridcolor\": \"white\", \"linecolor\": \"white\", \"ticks\": \"\"}, \"bgcolor\": \"#E5ECF6\", \"caxis\": {\"gridcolor\": \"white\", \"linecolor\": \"white\", \"ticks\": \"\"}}, \"title\": {\"x\": 0.05}, \"xaxis\": {\"automargin\": true, \"gridcolor\": \"white\", \"linecolor\": \"white\", \"ticks\": \"\", \"title\": {\"standoff\": 15}, \"zerolinecolor\": \"white\", \"zerolinewidth\": 2}, \"yaxis\": {\"automargin\": true, \"gridcolor\": \"white\", \"linecolor\": \"white\", \"ticks\": \"\", \"title\": {\"standoff\": 15}, \"zerolinecolor\": \"white\", \"zerolinewidth\": 2}}}, \"title\": {\"text\": \"Estados mais afetados de 1998 a 2017\"}, \"xaxis\": {\"anchor\": \"y\", \"domain\": [0.0, 1.0], \"tickangle\": -45, \"title\": {\"text\": \"Estados\"}}, \"yaxis\": {\"anchor\": \"x\", \"domain\": [0.0, 1.0], \"title\": {\"text\": \"N\\u00famero de inc\\u00eandios\"}}},                        {\"responsive\": true}                    ).then(function(){\n",
       "                            \n",
       "var gd = document.getElementById('aade25bb-8430-4a78-8961-5272f37329a5');\n",
       "var x = new MutationObserver(function (mutations, observer) {{\n",
       "        var display = window.getComputedStyle(gd).display;\n",
       "        if (!display || display === 'none') {{\n",
       "            console.log([gd, 'removed!']);\n",
       "            Plotly.purge(gd);\n",
       "            observer.disconnect();\n",
       "        }}\n",
       "}});\n",
       "\n",
       "// Listen for the removal of the full notebook cells\n",
       "var notebookContainer = gd.closest('#notebook-container');\n",
       "if (notebookContainer) {{\n",
       "    x.observe(notebookContainer, {childList: true});\n",
       "}}\n",
       "\n",
       "// Listen for the clearing of the current output cell\n",
       "var outputEl = gd.closest('.output');\n",
       "if (outputEl) {{\n",
       "    x.observe(outputEl, {childList: true});\n",
       "}}\n",
       "\n",
       "                        })                };                });            </script>        </div>"
      ]
     },
     "metadata": {},
     "output_type": "display_data"
    }
   ],
   "source": [
    "#making barplot\n",
    "bar_plot=px.bar(bar_plot_df, x='State', y='Reported_Fires', color='Reported_Fires',\n",
    "           labels={'Reported_Fires':'Número de incêndios', 'State':'Estados'}, color_continuous_scale='Reds')\n",
    "#making layout changes\n",
    "bar_plot.update_layout(xaxis_tickangle=-45, title_text='Estados mais afetados de 1998 a 2017')\n",
    "#outputing plot\n",
    "bar_plot.show()"
   ]
  },
  {
   "cell_type": "code",
   "execution_count": 52,
   "metadata": {},
   "outputs": [
    {
     "data": {
      "application/vnd.plotly.v1+json": {
       "config": {
        "plotlyServerURL": "https://plot.ly"
       },
       "data": [
        {
         "boxpoints": "all",
         "jitter": 0.5,
         "line": {
          "width": 2
         },
         "marker": {
          "color": "#3D9970",
          "size": 2
         },
         "name": "Verão",
         "type": "box",
         "whiskerwidth": 0.2,
         "x": [
          6,
          6,
          6,
          6,
          6,
          6,
          6,
          6,
          6,
          6,
          6,
          6,
          6,
          6,
          6,
          6,
          6,
          6,
          6,
          6,
          7,
          7,
          7,
          7,
          7,
          7,
          7,
          7,
          7,
          7,
          7,
          7,
          7,
          7,
          7,
          7,
          7,
          7,
          7,
          7,
          8,
          8,
          8,
          8,
          8,
          8,
          8,
          8,
          8,
          8,
          8,
          8,
          8,
          8,
          8,
          8,
          8,
          8,
          8,
          8,
          6,
          6,
          6,
          6,
          6,
          6,
          6,
          6,
          6,
          6,
          6,
          6,
          6,
          6,
          6,
          6,
          6,
          6,
          6,
          6,
          7,
          7,
          7,
          7,
          7,
          7,
          7,
          7,
          7,
          7,
          7,
          7,
          7,
          7,
          7,
          7,
          7,
          7,
          7,
          7,
          8,
          8,
          8,
          8,
          8,
          8,
          8,
          8,
          8,
          8,
          8,
          8,
          8,
          8,
          8,
          8,
          8,
          8,
          8,
          8,
          6,
          6,
          6,
          6,
          6,
          6,
          6,
          6,
          6,
          6,
          6,
          6,
          6,
          6,
          6,
          6,
          6,
          6,
          6,
          6,
          7,
          7,
          7,
          7,
          7,
          7,
          7,
          7,
          7,
          7,
          7,
          7,
          7,
          7,
          7,
          7,
          7,
          7,
          7,
          7,
          8,
          8,
          8,
          8,
          8,
          8,
          8,
          8,
          8,
          8,
          8,
          8,
          8,
          8,
          8,
          8,
          8,
          8,
          8,
          8,
          6,
          6,
          6,
          6,
          6,
          6,
          6,
          6,
          6,
          6,
          6,
          6,
          6,
          6,
          6,
          6,
          6,
          6,
          6,
          6,
          7,
          7,
          7,
          7,
          7,
          7,
          7,
          7,
          7,
          7,
          7,
          7,
          7,
          7,
          7,
          7,
          7,
          7,
          7,
          7,
          8,
          8,
          8,
          8,
          8,
          8,
          8,
          8,
          8,
          8,
          8,
          8,
          8,
          8,
          8,
          8,
          8,
          8,
          8,
          8,
          6,
          6,
          6,
          6,
          6,
          6,
          6,
          6,
          6,
          6,
          6,
          6,
          6,
          6,
          6,
          6,
          6,
          6,
          6,
          6,
          7,
          7,
          7,
          7,
          7,
          7,
          7,
          7,
          7,
          7,
          7,
          7,
          7,
          7,
          7,
          7,
          7,
          7,
          7,
          7,
          8,
          8,
          8,
          8,
          8,
          8,
          8,
          8,
          8,
          8,
          8,
          8,
          8,
          8,
          8,
          8,
          8,
          8,
          8,
          8,
          6,
          6,
          6,
          6,
          6,
          6,
          6,
          6,
          6,
          6,
          6,
          6,
          6,
          6,
          6,
          6,
          6,
          6,
          6,
          6,
          7,
          7,
          7,
          7,
          7,
          7,
          7,
          7,
          7,
          7,
          7,
          7,
          7,
          7,
          7,
          7,
          7,
          7,
          7,
          7,
          8,
          8,
          8,
          8,
          8,
          8,
          8,
          8,
          8,
          8,
          8,
          8,
          8,
          8,
          8,
          8,
          8,
          8,
          8,
          8,
          6,
          6,
          6,
          6,
          6,
          6,
          6,
          6,
          6,
          6,
          6,
          6,
          6,
          6,
          6,
          6,
          6,
          6,
          6,
          6,
          7,
          7,
          7,
          7,
          7,
          7,
          7,
          7,
          7,
          7,
          7,
          7,
          7,
          7,
          7,
          7,
          7,
          7,
          7,
          7,
          8,
          8,
          8,
          8,
          8,
          8,
          8,
          8,
          8,
          8,
          8,
          8,
          8,
          8,
          8,
          8,
          8,
          8,
          8,
          8,
          6,
          6,
          6,
          6,
          6,
          6,
          6,
          6,
          6,
          6,
          6,
          6,
          6,
          6,
          6,
          6,
          6,
          6,
          6,
          6,
          7,
          7,
          7,
          7,
          7,
          7,
          7,
          7,
          7,
          7,
          7,
          7,
          7,
          7,
          7,
          7,
          7,
          7,
          7,
          7,
          8,
          8,
          8,
          8,
          8,
          8,
          8,
          8,
          8,
          8,
          8,
          8,
          8,
          8,
          8,
          8,
          8,
          8,
          8,
          8,
          6,
          6,
          6,
          6,
          6,
          6,
          6,
          6,
          6,
          6,
          6,
          6,
          6,
          6,
          6,
          6,
          6,
          6,
          6,
          6,
          7,
          7,
          7,
          7,
          7,
          7,
          7,
          7,
          7,
          7,
          7,
          7,
          7,
          7,
          7,
          7,
          7,
          7,
          7,
          7,
          8,
          8,
          8,
          8,
          8,
          8,
          8,
          8,
          8,
          8,
          8,
          8,
          8,
          8,
          8,
          8,
          8,
          8,
          8,
          8,
          6,
          6,
          6,
          6,
          6,
          6,
          6,
          6,
          6,
          6,
          6,
          6,
          6,
          6,
          6,
          6,
          6,
          6,
          6,
          6,
          7,
          7,
          7,
          7,
          7,
          7,
          7,
          7,
          7,
          7,
          7,
          7,
          7,
          7,
          7,
          7,
          7,
          7,
          7,
          7,
          8,
          8,
          8,
          8,
          8,
          8,
          8,
          8,
          8,
          8,
          8,
          8,
          8,
          8,
          8,
          8,
          8,
          8,
          8,
          8,
          6,
          6,
          6,
          6,
          6,
          6,
          6,
          6,
          6,
          6,
          6,
          6,
          6,
          6,
          6,
          6,
          6,
          6,
          6,
          6,
          7,
          7,
          7,
          7,
          7,
          7,
          7,
          7,
          7,
          7,
          7,
          7,
          7,
          7,
          7,
          7,
          7,
          7,
          7,
          7,
          8,
          8,
          8,
          8,
          8,
          8,
          8,
          8,
          8,
          8,
          8,
          8,
          8,
          8,
          8,
          8,
          8,
          8,
          8,
          8,
          6,
          6,
          6,
          6,
          6,
          6,
          6,
          6,
          6,
          6,
          6,
          6,
          6,
          6,
          6,
          6,
          6,
          6,
          6,
          6,
          7,
          7,
          7,
          7,
          7,
          7,
          7,
          7,
          7,
          7,
          7,
          7,
          7,
          7,
          7,
          7,
          7,
          7,
          7,
          7,
          8,
          8,
          8,
          8,
          8,
          8,
          8,
          8,
          8,
          8,
          8,
          8,
          8,
          8,
          8,
          8,
          8,
          8,
          8,
          8,
          6,
          6,
          6,
          6,
          6,
          6,
          6,
          6,
          6,
          6,
          6,
          6,
          6,
          6,
          6,
          6,
          6,
          6,
          6,
          6,
          7,
          7,
          7,
          7,
          7,
          7,
          7,
          7,
          7,
          7,
          7,
          7,
          7,
          7,
          7,
          7,
          7,
          7,
          7,
          7,
          8,
          8,
          8,
          8,
          8,
          8,
          8,
          8,
          8,
          8,
          8,
          8,
          8,
          8,
          8,
          8,
          8,
          8,
          8,
          8,
          6,
          6,
          6,
          6,
          6,
          6,
          6,
          6,
          6,
          6,
          6,
          6,
          6,
          6,
          6,
          6,
          6,
          6,
          6,
          6,
          7,
          7,
          7,
          7,
          7,
          7,
          7,
          7,
          7,
          7,
          7,
          7,
          7,
          7,
          7,
          7,
          7,
          7,
          7,
          7,
          8,
          8,
          8,
          8,
          8,
          8,
          8,
          8,
          8,
          8,
          8,
          8,
          8,
          8,
          8,
          8,
          8,
          8,
          8,
          8,
          6,
          6,
          6,
          6,
          6,
          6,
          6,
          6,
          6,
          6,
          6,
          6,
          6,
          6,
          6,
          6,
          6,
          6,
          6,
          6,
          7,
          7,
          7,
          7,
          7,
          7,
          7,
          7,
          7,
          7,
          7,
          7,
          7,
          7,
          7,
          7,
          7,
          7,
          7,
          7,
          8,
          8,
          8,
          8,
          8,
          8,
          8,
          8,
          8,
          8,
          8,
          8,
          8,
          8,
          8,
          8,
          8,
          8,
          8,
          8,
          6,
          6,
          6,
          6,
          6,
          6,
          6,
          6,
          6,
          6,
          6,
          6,
          6,
          6,
          6,
          6,
          6,
          6,
          6,
          6,
          7,
          7,
          7,
          7,
          7,
          7,
          7,
          7,
          7,
          7,
          7,
          7,
          7,
          7,
          7,
          7,
          7,
          7,
          7,
          7,
          8,
          8,
          8,
          8,
          8,
          8,
          8,
          8,
          8,
          8,
          8,
          8,
          8,
          8,
          8,
          8,
          8,
          8,
          8,
          8,
          6,
          6,
          6,
          6,
          6,
          6,
          6,
          6,
          6,
          6,
          6,
          6,
          6,
          6,
          6,
          6,
          6,
          6,
          6,
          6,
          7,
          7,
          7,
          7,
          7,
          7,
          7,
          7,
          7,
          7,
          7,
          7,
          7,
          7,
          7,
          7,
          7,
          7,
          7,
          7,
          8,
          8,
          8,
          8,
          8,
          8,
          8,
          8,
          8,
          8,
          8,
          8,
          8,
          8,
          8,
          8,
          8,
          8,
          8,
          8,
          6,
          6,
          6,
          6,
          6,
          6,
          6,
          6,
          6,
          6,
          6,
          6,
          6,
          6,
          6,
          6,
          6,
          6,
          6,
          6,
          7,
          7,
          7,
          7,
          7,
          7,
          7,
          7,
          7,
          7,
          7,
          7,
          7,
          7,
          7,
          7,
          7,
          7,
          7,
          7,
          8,
          8,
          8,
          8,
          8,
          8,
          8,
          8,
          8,
          8,
          8,
          8,
          8,
          8,
          8,
          8,
          8,
          8,
          8,
          8,
          6,
          6,
          6,
          6,
          6,
          6,
          6,
          6,
          6,
          6,
          6,
          6,
          6,
          6,
          6,
          6,
          6,
          6,
          6,
          6,
          7,
          7,
          7,
          7,
          7,
          7,
          7,
          7,
          7,
          7,
          7,
          7,
          7,
          7,
          7,
          7,
          7,
          7,
          7,
          7,
          8,
          8,
          8,
          8,
          8,
          8,
          8,
          8,
          8,
          8,
          8,
          8,
          8,
          8,
          8,
          8,
          8,
          8,
          8,
          8,
          6,
          6,
          6,
          6,
          6,
          6,
          6,
          6,
          6,
          6,
          6,
          6,
          6,
          6,
          6,
          6,
          6,
          6,
          6,
          6,
          7,
          7,
          7,
          7,
          7,
          7,
          7,
          7,
          7,
          7,
          7,
          7,
          7,
          7,
          7,
          7,
          7,
          7,
          7,
          7,
          8,
          8,
          8,
          8,
          8,
          8,
          8,
          8,
          8,
          8,
          8,
          8,
          8,
          8,
          8,
          8,
          8,
          8,
          8,
          8,
          6,
          6,
          6,
          6,
          6,
          6,
          6,
          6,
          6,
          6,
          6,
          6,
          6,
          6,
          6,
          6,
          6,
          6,
          6,
          6,
          7,
          7,
          7,
          7,
          7,
          7,
          7,
          7,
          7,
          7,
          7,
          7,
          7,
          7,
          7,
          7,
          7,
          7,
          7,
          7,
          8,
          8,
          8,
          8,
          8,
          8,
          8,
          8,
          8,
          8,
          8,
          8,
          8,
          8,
          8,
          8,
          8,
          8,
          8,
          8,
          6,
          6,
          6,
          6,
          6,
          6,
          6,
          6,
          6,
          6,
          6,
          6,
          6,
          6,
          6,
          6,
          6,
          6,
          6,
          6,
          7,
          7,
          7,
          7,
          7,
          7,
          7,
          7,
          7,
          7,
          7,
          7,
          7,
          7,
          7,
          7,
          7,
          7,
          7,
          7,
          8,
          8,
          8,
          8,
          8,
          8,
          8,
          8,
          8,
          8,
          8,
          8,
          8,
          8,
          8,
          8,
          8,
          8,
          8,
          8,
          6,
          6,
          6,
          6,
          6,
          6,
          6,
          6,
          6,
          6,
          6,
          6,
          6,
          6,
          6,
          6,
          6,
          6,
          6,
          6,
          7,
          7,
          7,
          7,
          7,
          7,
          7,
          7,
          7,
          7,
          7,
          7,
          7,
          7,
          7,
          7,
          7,
          7,
          7,
          7,
          8,
          8,
          8,
          8,
          8,
          8,
          8,
          8,
          8,
          8,
          8,
          8,
          8,
          8,
          8,
          8,
          8,
          8,
          8,
          8,
          6,
          6,
          6,
          6,
          6,
          6,
          6,
          6,
          6,
          6,
          6,
          6,
          6,
          6,
          6,
          6,
          6,
          6,
          6,
          6,
          7,
          7,
          7,
          7,
          7,
          7,
          7,
          7,
          7,
          7,
          7,
          7,
          7,
          7,
          7,
          7,
          7,
          7,
          7,
          7,
          8,
          8,
          8,
          8,
          8,
          8,
          8,
          8,
          8,
          8,
          8,
          8,
          8,
          8,
          8,
          8,
          8,
          8,
          8,
          8,
          6,
          6,
          6,
          6,
          6,
          6,
          6,
          6,
          6,
          6,
          6,
          6,
          6,
          6,
          6,
          6,
          6,
          6,
          6,
          6,
          7,
          7,
          7,
          7,
          7,
          7,
          7,
          7,
          7,
          7,
          7,
          7,
          7,
          7,
          7,
          7,
          7,
          7,
          7,
          7,
          8,
          8,
          8,
          8,
          8,
          8,
          8,
          8,
          8,
          8,
          8,
          8,
          8,
          8,
          8,
          8,
          8,
          8,
          8,
          8,
          6,
          6,
          6,
          6,
          6,
          6,
          6,
          6,
          6,
          6,
          6,
          6,
          6,
          6,
          6,
          6,
          6,
          6,
          6,
          6,
          7,
          7,
          7,
          7,
          7,
          7,
          7,
          7,
          7,
          7,
          7,
          7,
          7,
          7,
          7,
          7,
          7,
          7,
          7,
          7,
          8,
          8,
          8,
          8,
          8,
          8,
          8,
          8,
          8,
          8,
          8,
          8,
          8,
          8,
          8,
          8,
          8,
          8,
          8,
          8,
          6,
          6,
          6,
          6,
          6,
          6,
          6,
          6,
          6,
          6,
          6,
          6,
          6,
          6,
          6,
          6,
          6,
          6,
          6,
          6,
          7,
          7,
          7,
          7,
          7,
          7,
          7,
          7,
          7,
          7,
          7,
          7,
          7,
          7,
          7,
          7,
          7,
          7,
          7,
          7,
          8,
          8,
          8,
          8,
          8,
          8,
          8,
          8,
          8,
          8,
          8,
          8,
          8,
          8,
          8,
          8,
          8,
          8,
          8,
          8
         ],
         "y": [
          3,
          0,
          1,
          1,
          0,
          0,
          5,
          27,
          1,
          4,
          0,
          0,
          1,
          10,
          7,
          8,
          17,
          40,
          87,
          45,
          37,
          1,
          1,
          3,
          39,
          168,
          42,
          368,
          33,
          29,
          41,
          31,
          126,
          93,
          71,
          54,
          60,
          109,
          533,
          457,
          130,
          63,
          136,
          396,
          728,
          1.976,
          645,
          4.198,
          839,
          960,
          445,
          194,
          1.682,
          425,
          739,
          679,
          1.1,
          1.3969999999999998,
          2.188,
          1.493,
          0,
          0,
          0,
          2,
          0,
          0,
          0,
          0,
          0,
          0,
          0,
          0,
          0,
          2,
          4,
          1,
          2,
          2,
          5,
          2,
          0,
          0,
          0,
          0,
          5,
          0,
          0,
          0,
          0,
          0,
          0,
          0,
          2,
          0,
          0,
          0,
          1,
          0,
          3,
          0,
          1,
          3,
          4,
          1,
          3,
          2,
          2,
          2,
          1,
          3,
          1,
          0,
          1,
          4,
          0,
          0,
          3,
          3,
          5,
          1,
          0,
          2,
          0,
          0,
          0,
          0,
          5,
          2,
          0,
          0,
          0,
          1,
          0,
          0,
          7,
          1,
          0,
          3,
          2,
          2,
          0,
          0,
          0,
          1,
          1,
          0,
          2,
          0,
          0,
          0,
          0,
          4,
          2,
          5,
          3,
          1,
          4,
          5,
          1,
          3,
          1,
          0,
          3,
          12,
          18,
          14,
          9,
          4,
          11,
          5,
          4,
          20,
          1,
          16,
          19,
          9,
          18,
          40,
          37,
          33,
          2,
          7,
          6,
          5,
          5,
          3,
          12,
          78,
          9,
          23,
          7,
          13,
          9,
          22,
          45,
          56,
          74,
          33,
          90,
          119,
          71,
          11,
          39,
          9,
          146,
          180,
          177,
          676,
          123,
          116,
          108,
          199,
          640,
          271,
          234,
          248,
          202,
          356,
          1.137,
          1.975,
          321,
          259,
          180,
          501,
          741,
          1.867,
          1.207,
          2.316,
          1.422,
          2.241,
          861,
          1.321,
          3.727,
          1.2429999999999999,
          3.011,
          1.276,
          3.852,
          4.564,
          3.611,
          6.316,
          55,
          64,
          178,
          98,
          118,
          140,
          289,
          211,
          68,
          270,
          72,
          92,
          192,
          345,
          385,
          208,
          243,
          242,
          416,
          329,
          219,
          107,
          202,
          248,
          549,
          261,
          310,
          269,
          229,
          811,
          271,
          321,
          519,
          578,
          906,
          362,
          249,
          306,
          345,
          300,
          815,
          453,
          633,
          979,
          1.827,
          1.0390000000000001,
          1.43,
          948,
          995,
          3.734,
          611,
          439,
          2.423,
          1.795,
          1.835,
          610,
          674,
          829,
          724,
          1.018,
          1,
          16,
          16,
          38,
          13,
          2,
          1,
          6,
          0,
          1,
          1,
          0,
          3,
          5,
          28,
          5,
          19,
          22,
          45,
          23,
          76,
          83,
          18,
          146,
          12,
          14,
          16,
          14,
          1,
          11,
          3,
          7,
          44,
          18,
          50,
          4,
          47,
          25,
          124,
          26,
          93,
          131,
          79,
          219,
          111,
          109,
          61,
          51,
          50,
          182,
          32,
          26,
          202,
          53,
          278,
          32,
          155,
          127,
          293,
          121,
          2,
          3,
          1,
          3,
          7,
          11,
          6,
          3,
          2,
          21,
          0,
          4,
          21,
          18,
          6,
          4,
          6,
          1,
          42,
          23,
          17,
          4,
          15,
          22,
          33,
          19,
          37,
          24,
          10,
          25,
          12,
          33,
          85,
          53,
          29,
          22,
          27,
          15,
          79,
          44,
          48,
          16,
          9,
          25,
          53,
          36,
          108,
          20,
          40,
          137,
          30,
          37,
          159,
          61,
          55,
          34,
          99,
          53,
          29,
          147,
          6,
          6,
          9,
          9,
          18,
          19,
          3,
          8,
          5,
          4,
          4,
          12,
          3,
          7,
          15,
          22,
          9,
          18,
          49,
          37,
          37,
          9,
          16,
          12,
          9,
          27,
          4,
          9,
          11,
          13,
          5,
          25,
          5,
          18,
          35,
          20,
          17,
          30,
          42,
          3,
          38,
          60,
          26,
          30,
          60,
          118,
          12,
          12,
          29,
          82,
          13,
          17,
          39,
          93,
          12,
          53,
          47,
          35,
          78,
          30,
          172,
          250,
          222,
          212,
          302,
          321,
          422,
          189,
          70,
          186,
          55,
          179,
          278,
          314,
          245,
          192,
          318,
          277,
          289,
          442,
          512,
          311,
          332,
          371,
          686,
          322,
          778,
          363,
          169,
          399,
          193,
          470,
          941,
          607,
          564,
          350,
          446,
          347,
          837,
          577,
          2.218,
          1.198,
          925,
          787,
          1.4280000000000002,
          902,
          1.4980000000000002,
          639,
          588,
          2.3819999999999997,
          568,
          647,
          2.9139999999999997,
          1.6130000000000002,
          912,
          488,
          1.255,
          943,
          1.032,
          1.492,
          78,
          32,
          94,
          100,
          230,
          338,
          706,
          529,
          131,
          515,
          235,
          279,
          494,
          602,
          915,
          498,
          812,
          887,
          709,
          885,
          274,
          258,
          233,
          549,
          1.271,
          1.103,
          1.3659999999999999,
          1.1520000000000001,
          512,
          1.205,
          502,
          972,
          2.323,
          1.024,
          3.548,
          1.111,
          2.068,
          1.642,
          2.096,
          2.521,
          1.176,
          895,
          839,
          2.037,
          3.4810000000000003,
          2.023,
          1.889,
          2.239,
          1.382,
          8.408999999999999,
          713,
          1.766,
          6.353,
          2.138,
          10.395,
          2.0980000000000003,
          5.5920000000000005,
          5.428,
          3.7230000000000003,
          3.875,
          2.201,
          2.201,
          4.3580000000000005,
          6.665,
          7.877999999999999,
          4.313,
          9.812999999999999,
          2.294,
          856,
          1.339,
          403,
          979,
          1.025,
          974,
          1.651,
          1.213,
          1.795,
          1.402,
          1.4169999999999998,
          2.041,
          3.7119999999999997,
          3.926,
          1.338,
          1.555,
          5.6610000000000005,
          5.435,
          11.517000000000001,
          4.172,
          1.9409999999999998,
          1.79,
          1.117,
          1.6130000000000002,
          3.4419999999999997,
          1.061,
          2.008,
          1.63,
          2.255,
          1.5330000000000001,
          3.495,
          2.79,
          15.405999999999999,
          18.566,
          6.063,
          7.7620000000000005,
          14.085999999999999,
          11.132,
          13.603,
          11.57,
          6.218,
          14.453,
          2.875,
          2.25,
          14.607999999999999,
          2.628,
          6.195,
          3.568,
          7.167000000000001,
          5.112,
          6.228,
          6.229,
          82,
          127,
          157,
          249,
          517,
          170,
          394,
          439,
          89,
          141,
          24,
          376,
          149,
          104,
          96,
          35,
          84,
          299,
          120,
          175,
          360,
          1.297,
          160,
          591,
          935,
          182,
          529,
          859,
          289,
          197,
          116,
          354,
          589,
          250,
          538,
          201,
          193,
          371,
          687,
          1.05,
          228,
          4.355,
          530,
          2.484,
          3.984,
          953,
          1.4080000000000001,
          4.484,
          1.129,
          1.8230000000000002,
          456,
          816,
          1.7209999999999999,
          552,
          2.951,
          677,
          312,
          1.2930000000000001,
          1.4809999999999999,
          1.4880000000000002,
          70,
          132,
          135,
          166,
          207,
          245,
          209,
          246,
          73,
          184,
          48,
          173,
          139,
          304,
          219,
          144,
          376,
          200,
          263,
          360,
          232,
          318,
          345,
          266,
          741,
          407,
          625,
          467,
          336,
          446,
          194,
          477,
          707,
          801,
          669,
          462,
          559,
          288,
          1.004,
          610,
          875,
          1.19,
          769,
          858,
          2.041,
          1.955,
          1.642,
          1.0290000000000001,
          959,
          2.975,
          605,
          685,
          3.353,
          2.742,
          901,
          911,
          1.952,
          1.0590000000000002,
          1.433,
          2.142,
          58,
          37,
          59,
          42,
          149,
          64,
          340,
          304,
          78,
          129,
          48,
          38,
          94,
          105,
          183,
          173,
          319,
          265,
          502,
          679,
          638,
          982,
          426,
          708,
          772,
          1.571,
          4.436,
          4.364,
          615,
          476,
          971,
          397,
          1.432,
          632,
          661,
          447,
          825,
          906,
          1.579,
          4.985,
          6.815,
          6.178,
          5.484,
          9.043,
          15.664000000000001,
          6.255,
          12.812000000000001,
          13.055,
          7.575,
          14.352,
          4.435,
          3.859,
          18.13,
          2.195,
          6.9639999999999995,
          2.161,
          8.555,
          7.912999999999999,
          4.863,
          11.962,
          3,
          1,
          2,
          0,
          1,
          0,
          0,
          0,
          0,
          0,
          0,
          0,
          3,
          2,
          5,
          3,
          1,
          0,
          4,
          0,
          0,
          1,
          0,
          8,
          8,
          6,
          1,
          0,
          1,
          1,
          0,
          3,
          7,
          6,
          5,
          1,
          9,
          3,
          22,
          2,
          3,
          4,
          7,
          34,
          38,
          14,
          18,
          0,
          3,
          8,
          1,
          4,
          9,
          12,
          13,
          3,
          30,
          5,
          50,
          3,
          36,
          31,
          53,
          43,
          115,
          159,
          147,
          114,
          62,
          57,
          17,
          105,
          55,
          162,
          77,
          52,
          112,
          201,
          238,
          169,
          59,
          94,
          98,
          122,
          172,
          101,
          148,
          155,
          139,
          60,
          87,
          34,
          196,
          262,
          111,
          168,
          215,
          137,
          504,
          891,
          42,
          938,
          849,
          342,
          1.5930000000000002,
          1.896,
          1.237,
          800,
          844,
          580,
          205,
          844,
          733,
          435,
          522,
          481,
          646,
          651,
          1.01,
          987,
          1,
          7,
          4,
          2,
          1,
          2,
          4,
          3,
          0,
          1,
          0,
          1,
          1,
          4,
          12,
          12,
          3,
          3,
          4,
          5,
          5,
          2,
          0,
          6,
          8,
          5,
          13,
          1,
          1,
          3,
          0,
          1,
          7,
          2,
          11,
          4,
          11,
          13,
          17,
          2,
          12,
          3,
          31,
          27,
          37,
          26,
          41,
          10,
          8,
          20,
          2,
          10,
          29,
          27,
          27,
          14,
          23,
          21,
          42,
          20,
          46,
          47,
          18,
          87,
          161,
          88,
          239,
          171,
          40,
          303,
          33,
          56,
          208,
          462,
          834,
          263,
          373,
          283,
          153,
          193,
          189,
          123,
          75,
          337,
          534,
          407,
          564,
          445,
          150,
          919,
          97,
          302,
          1.696,
          864,
          1.755,
          361,
          1.177,
          690,
          754,
          643,
          711,
          499,
          415,
          1.133,
          2.28,
          864,
          1.002,
          943,
          911,
          3.551,
          290,
          790,
          4.035,
          1.9580000000000002,
          3.614,
          1.015,
          2.265,
          2.057,
          1.6469999999999998,
          1.5719999999999998,
          3,
          8,
          14,
          13,
          13,
          13,
          19,
          16,
          19,
          3,
          4,
          33,
          7,
          33,
          14,
          17,
          54,
          33,
          37,
          68,
          21,
          14,
          22,
          57,
          17,
          42,
          23,
          20,
          54,
          15,
          14,
          56,
          55,
          121,
          50,
          58,
          62,
          74,
          131,
          70,
          21,
          88,
          34,
          129,
          184,
          191,
          74,
          98,
          79,
          189,
          19,
          91,
          316,
          250,
          72,
          74,
          199,
          158,
          241,
          164,
          1,
          4,
          8,
          13,
          1,
          1,
          2,
          0,
          0,
          0,
          0,
          0,
          1,
          1,
          5,
          1,
          2,
          5,
          4,
          3,
          5,
          7,
          5,
          25,
          7,
          7,
          5,
          2,
          0,
          7,
          0,
          0,
          7,
          0,
          3,
          0,
          2,
          3,
          13,
          4,
          4,
          40,
          29,
          55,
          48,
          97,
          15,
          9,
          13,
          26,
          2,
          1,
          24,
          10,
          23,
          2,
          21,
          16,
          24,
          21,
          0,
          9,
          0,
          1,
          4,
          14,
          52,
          50,
          7,
          10,
          16,
          30,
          4,
          12,
          86,
          10,
          62,
          68,
          261,
          103,
          0,
          10,
          6,
          6,
          93,
          55,
          156,
          47,
          45,
          7,
          25,
          47,
          34,
          45,
          134,
          42,
          209,
          60,
          865,
          885,
          9,
          24,
          18,
          36,
          824,
          1.419,
          403,
          120,
          642,
          258,
          56,
          1.057,
          267,
          116,
          410,
          156,
          1.168,
          414,
          1.111,
          819,
          26,
          10,
          54,
          31,
          141,
          74,
          151,
          153,
          40,
          71,
          11,
          13,
          44,
          130,
          32,
          22,
          92,
          119,
          170,
          192,
          365,
          135,
          117,
          74,
          539,
          516,
          1.2329999999999999,
          798,
          314,
          187,
          138,
          110,
          747,
          293,
          205,
          117,
          192,
          423,
          969,
          1.28,
          2.254,
          1.976,
          2.197,
          2.1319999999999997,
          3.465,
          7.06,
          6.893,
          6.672000000000001,
          3.1239999999999997,
          4.7860000000000005,
          1.251,
          484,
          4.388,
          1.161,
          2.209,
          885,
          3.0380000000000003,
          3.762,
          3.675,
          4.287,
          0,
          3,
          0,
          1,
          0,
          0,
          6,
          5,
          0,
          1,
          0,
          16,
          0,
          6,
          22,
          6,
          4,
          3,
          7,
          4,
          1,
          4,
          0,
          1,
          7,
          0,
          2,
          2,
          0,
          3,
          0,
          18,
          1,
          9,
          2,
          4,
          9,
          5,
          0,
          3,
          0,
          1,
          9,
          4,
          7,
          2,
          18,
          9,
          4,
          2,
          4,
          29,
          3,
          39,
          4,
          3,
          12,
          11,
          11,
          35,
          2,
          0,
          2,
          1,
          0,
          68,
          127,
          58,
          32,
          11,
          2,
          14,
          1,
          26,
          42,
          31,
          3,
          104,
          79,
          70,
          0,
          2,
          21,
          5,
          82,
          43,
          94,
          90,
          74,
          12,
          46,
          26,
          31,
          31,
          42,
          69,
          82,
          45,
          480,
          591,
          0,
          51,
          69,
          24,
          702,
          1.5130000000000001,
          728,
          391,
          728,
          462,
          51,
          759,
          511,
          175,
          398,
          236,
          459,
          379,
          765,
          713,
          451,
          522,
          606,
          346,
          562,
          132,
          231,
          236,
          97,
          91,
          25,
          125,
          143,
          210,
          30,
          47,
          331,
          147,
          197,
          217,
          596,
          684,
          770,
          538,
          448,
          171,
          342,
          284,
          245,
          94,
          126,
          110,
          600,
          479,
          179,
          181,
          476,
          149,
          687,
          802,
          581,
          1.2109999999999999,
          915,
          595,
          719,
          934,
          794,
          522,
          572,
          470,
          153,
          289,
          1.8090000000000002,
          1.067,
          435,
          497,
          1.4580000000000002,
          643,
          797,
          981,
          0,
          0,
          0,
          0,
          0,
          0,
          0,
          0,
          0,
          0,
          0,
          2,
          0,
          1,
          3,
          1,
          0,
          3,
          1,
          0,
          0,
          0,
          0,
          0,
          0,
          0,
          0,
          0,
          0,
          0,
          0,
          0,
          0,
          0,
          1,
          0,
          0,
          0,
          0,
          0,
          0,
          0,
          0,
          0,
          2,
          0,
          0,
          0,
          0,
          0,
          0,
          0,
          0,
          1,
          0,
          0,
          0,
          0,
          6,
          0,
          252,
          113,
          278,
          305,
          396,
          329,
          1.079,
          669,
          289,
          591,
          282,
          421,
          767,
          717,
          922,
          873,
          1.3719999999999999,
          1.15,
          1.148,
          1.32,
          640,
          373,
          500,
          830,
          976,
          762,
          1.389,
          1.082,
          430,
          982,
          441,
          989,
          2.408,
          1.001,
          1.693,
          1.393,
          1.4040000000000001,
          1.217,
          2.737,
          2.397,
          3.747,
          1.284,
          1.949,
          2.242,
          3.0269999999999997,
          1.339,
          1.776,
          1.84,
          1.2770000000000001,
          4.747,
          845,
          1.124,
          7.865,
          1.6680000000000001,
          4.28,
          1.81,
          2.917,
          2.54,
          3.213,
          3.536
         ]
        },
        {
         "boxpoints": "all",
         "jitter": 0.5,
         "line": {
          "width": 2
         },
         "marker": {
          "color": "#FF851B",
          "size": 2
         },
         "name": "Outono",
         "type": "box",
         "whiskerwidth": 0.2,
         "x": [
          9,
          9,
          9,
          9,
          9,
          9,
          9,
          9,
          9,
          9,
          9,
          9,
          9,
          9,
          9,
          9,
          9,
          9,
          9,
          9,
          10,
          10,
          10,
          10,
          10,
          10,
          10,
          10,
          10,
          10,
          10,
          10,
          10,
          10,
          10,
          10,
          10,
          10,
          10,
          10,
          11,
          11,
          11,
          11,
          11,
          11,
          11,
          11,
          11,
          11,
          11,
          11,
          11,
          11,
          11,
          11,
          11,
          11,
          11,
          11,
          9,
          9,
          9,
          9,
          9,
          9,
          9,
          9,
          9,
          9,
          9,
          9,
          9,
          9,
          9,
          9,
          9,
          9,
          9,
          9,
          10,
          10,
          10,
          10,
          10,
          10,
          10,
          10,
          10,
          10,
          10,
          10,
          10,
          10,
          10,
          10,
          10,
          10,
          10,
          10,
          11,
          11,
          11,
          11,
          11,
          11,
          11,
          11,
          11,
          11,
          11,
          11,
          11,
          11,
          11,
          11,
          11,
          11,
          11,
          11,
          9,
          9,
          9,
          9,
          9,
          9,
          9,
          9,
          9,
          9,
          9,
          9,
          9,
          9,
          9,
          9,
          9,
          9,
          9,
          9,
          10,
          10,
          10,
          10,
          10,
          10,
          10,
          10,
          10,
          10,
          10,
          10,
          10,
          10,
          10,
          10,
          10,
          10,
          10,
          10,
          11,
          11,
          11,
          11,
          11,
          11,
          11,
          11,
          11,
          11,
          11,
          11,
          11,
          11,
          11,
          11,
          11,
          11,
          11,
          11,
          9,
          9,
          9,
          9,
          9,
          9,
          9,
          9,
          9,
          9,
          9,
          9,
          9,
          9,
          9,
          9,
          9,
          9,
          9,
          9,
          10,
          10,
          10,
          10,
          10,
          10,
          10,
          10,
          10,
          10,
          10,
          10,
          10,
          10,
          10,
          10,
          10,
          10,
          10,
          10,
          11,
          11,
          11,
          11,
          11,
          11,
          11,
          11,
          11,
          11,
          11,
          11,
          11,
          11,
          11,
          11,
          11,
          11,
          11,
          11,
          9,
          9,
          9,
          9,
          9,
          9,
          9,
          9,
          9,
          9,
          9,
          9,
          9,
          9,
          9,
          9,
          9,
          9,
          9,
          9,
          10,
          10,
          10,
          10,
          10,
          10,
          10,
          10,
          10,
          10,
          10,
          10,
          10,
          10,
          10,
          10,
          10,
          10,
          10,
          10,
          11,
          11,
          11,
          11,
          11,
          11,
          11,
          11,
          11,
          11,
          11,
          11,
          11,
          11,
          11,
          11,
          11,
          11,
          11,
          11,
          9,
          9,
          9,
          9,
          9,
          9,
          9,
          9,
          9,
          9,
          9,
          9,
          9,
          9,
          9,
          9,
          9,
          9,
          9,
          9,
          10,
          10,
          10,
          10,
          10,
          10,
          10,
          10,
          10,
          10,
          10,
          10,
          10,
          10,
          10,
          10,
          10,
          10,
          10,
          10,
          11,
          11,
          11,
          11,
          11,
          11,
          11,
          11,
          11,
          11,
          11,
          11,
          11,
          11,
          11,
          11,
          11,
          11,
          11,
          11,
          9,
          9,
          9,
          9,
          9,
          9,
          9,
          9,
          9,
          9,
          9,
          9,
          9,
          9,
          9,
          9,
          9,
          9,
          9,
          9,
          10,
          10,
          10,
          10,
          10,
          10,
          10,
          10,
          10,
          10,
          10,
          10,
          10,
          10,
          10,
          10,
          10,
          10,
          10,
          10,
          11,
          11,
          11,
          11,
          11,
          11,
          11,
          11,
          11,
          11,
          11,
          11,
          11,
          11,
          11,
          11,
          11,
          11,
          11,
          11,
          9,
          9,
          9,
          9,
          9,
          9,
          9,
          9,
          9,
          9,
          9,
          9,
          9,
          9,
          9,
          9,
          9,
          9,
          9,
          9,
          10,
          10,
          10,
          10,
          10,
          10,
          10,
          10,
          10,
          10,
          10,
          10,
          10,
          10,
          10,
          10,
          10,
          10,
          10,
          10,
          11,
          11,
          11,
          11,
          11,
          11,
          11,
          11,
          11,
          11,
          11,
          11,
          11,
          11,
          11,
          11,
          11,
          11,
          11,
          11,
          9,
          9,
          9,
          9,
          9,
          9,
          9,
          9,
          9,
          9,
          9,
          9,
          9,
          9,
          9,
          9,
          9,
          9,
          9,
          9,
          10,
          10,
          10,
          10,
          10,
          10,
          10,
          10,
          10,
          10,
          10,
          10,
          10,
          10,
          10,
          10,
          10,
          10,
          10,
          10,
          11,
          11,
          11,
          11,
          11,
          11,
          11,
          11,
          11,
          11,
          11,
          11,
          11,
          11,
          11,
          11,
          11,
          11,
          11,
          11,
          9,
          9,
          9,
          9,
          9,
          9,
          9,
          9,
          9,
          9,
          9,
          9,
          9,
          9,
          9,
          9,
          9,
          9,
          9,
          9,
          10,
          10,
          10,
          10,
          10,
          10,
          10,
          10,
          10,
          10,
          10,
          10,
          10,
          10,
          10,
          10,
          10,
          10,
          10,
          10,
          11,
          11,
          11,
          11,
          11,
          11,
          11,
          11,
          11,
          11,
          11,
          11,
          11,
          11,
          11,
          11,
          11,
          11,
          11,
          11,
          9,
          9,
          9,
          9,
          9,
          9,
          9,
          9,
          9,
          9,
          9,
          9,
          9,
          9,
          9,
          9,
          9,
          9,
          9,
          9,
          10,
          10,
          10,
          10,
          10,
          10,
          10,
          10,
          10,
          10,
          10,
          10,
          10,
          10,
          10,
          10,
          10,
          10,
          10,
          10,
          11,
          11,
          11,
          11,
          11,
          11,
          11,
          11,
          11,
          11,
          11,
          11,
          11,
          11,
          11,
          11,
          11,
          11,
          11,
          11,
          9,
          9,
          9,
          9,
          9,
          9,
          9,
          9,
          9,
          9,
          9,
          9,
          9,
          9,
          9,
          9,
          9,
          9,
          9,
          9,
          10,
          10,
          10,
          10,
          10,
          10,
          10,
          10,
          10,
          10,
          10,
          10,
          10,
          10,
          10,
          10,
          10,
          10,
          10,
          10,
          11,
          11,
          11,
          11,
          11,
          11,
          11,
          11,
          11,
          11,
          11,
          11,
          11,
          11,
          11,
          11,
          11,
          11,
          11,
          11,
          9,
          9,
          9,
          9,
          9,
          9,
          9,
          9,
          9,
          9,
          9,
          9,
          9,
          9,
          9,
          9,
          9,
          9,
          9,
          9,
          10,
          10,
          10,
          10,
          10,
          10,
          10,
          10,
          10,
          10,
          10,
          10,
          10,
          10,
          10,
          10,
          10,
          10,
          10,
          10,
          11,
          11,
          11,
          11,
          11,
          11,
          11,
          11,
          11,
          11,
          11,
          11,
          11,
          11,
          11,
          11,
          11,
          11,
          11,
          11,
          9,
          9,
          9,
          9,
          9,
          9,
          9,
          9,
          9,
          9,
          9,
          9,
          9,
          9,
          9,
          9,
          9,
          9,
          9,
          9,
          10,
          10,
          10,
          10,
          10,
          10,
          10,
          10,
          10,
          10,
          10,
          10,
          10,
          10,
          10,
          10,
          10,
          10,
          10,
          10,
          11,
          11,
          11,
          11,
          11,
          11,
          11,
          11,
          11,
          11,
          11,
          11,
          11,
          11,
          11,
          11,
          11,
          11,
          11,
          11,
          9,
          9,
          9,
          9,
          9,
          9,
          9,
          9,
          9,
          9,
          9,
          9,
          9,
          9,
          9,
          9,
          9,
          9,
          9,
          9,
          10,
          10,
          10,
          10,
          10,
          10,
          10,
          10,
          10,
          10,
          10,
          10,
          10,
          10,
          10,
          10,
          10,
          10,
          10,
          10,
          11,
          11,
          11,
          11,
          11,
          11,
          11,
          11,
          11,
          11,
          11,
          11,
          11,
          11,
          11,
          11,
          11,
          11,
          11,
          11,
          9,
          9,
          9,
          9,
          9,
          9,
          9,
          9,
          9,
          9,
          9,
          9,
          9,
          9,
          9,
          9,
          9,
          9,
          9,
          9,
          10,
          10,
          10,
          10,
          10,
          10,
          10,
          10,
          10,
          10,
          10,
          10,
          10,
          10,
          10,
          10,
          10,
          10,
          10,
          10,
          11,
          11,
          11,
          11,
          11,
          11,
          11,
          11,
          11,
          11,
          11,
          11,
          11,
          11,
          11,
          11,
          11,
          11,
          11,
          11,
          9,
          9,
          9,
          9,
          9,
          9,
          9,
          9,
          9,
          9,
          9,
          9,
          9,
          9,
          9,
          9,
          9,
          9,
          9,
          9,
          10,
          10,
          10,
          10,
          10,
          10,
          10,
          10,
          10,
          10,
          10,
          10,
          10,
          10,
          10,
          10,
          10,
          10,
          10,
          10,
          11,
          11,
          11,
          11,
          11,
          11,
          11,
          11,
          11,
          11,
          11,
          11,
          11,
          11,
          11,
          11,
          11,
          11,
          11,
          11,
          9,
          9,
          9,
          9,
          9,
          9,
          9,
          9,
          9,
          9,
          9,
          9,
          9,
          9,
          9,
          9,
          9,
          9,
          9,
          9,
          10,
          10,
          10,
          10,
          10,
          10,
          10,
          10,
          10,
          10,
          10,
          10,
          10,
          10,
          10,
          10,
          10,
          10,
          10,
          10,
          11,
          11,
          11,
          11,
          11,
          11,
          11,
          11,
          11,
          11,
          11,
          11,
          11,
          11,
          11,
          11,
          11,
          11,
          11,
          11,
          9,
          9,
          9,
          9,
          9,
          9,
          9,
          9,
          9,
          9,
          9,
          9,
          9,
          9,
          9,
          9,
          9,
          9,
          9,
          9,
          10,
          10,
          10,
          10,
          10,
          10,
          10,
          10,
          10,
          10,
          10,
          10,
          10,
          10,
          10,
          10,
          10,
          10,
          10,
          10,
          11,
          11,
          11,
          11,
          11,
          11,
          11,
          11,
          11,
          11,
          11,
          11,
          11,
          11,
          11,
          11,
          11,
          11,
          11,
          11,
          9,
          9,
          9,
          9,
          9,
          9,
          9,
          9,
          9,
          9,
          9,
          9,
          9,
          9,
          9,
          9,
          9,
          9,
          9,
          9,
          10,
          10,
          10,
          10,
          10,
          10,
          10,
          10,
          10,
          10,
          10,
          10,
          10,
          10,
          10,
          10,
          10,
          10,
          10,
          10,
          11,
          11,
          11,
          11,
          11,
          11,
          11,
          11,
          11,
          11,
          11,
          11,
          11,
          11,
          11,
          11,
          11,
          11,
          11,
          11,
          9,
          9,
          9,
          9,
          9,
          9,
          9,
          9,
          9,
          9,
          9,
          9,
          9,
          9,
          9,
          9,
          9,
          9,
          9,
          9,
          10,
          10,
          10,
          10,
          10,
          10,
          10,
          10,
          10,
          10,
          10,
          10,
          10,
          10,
          10,
          10,
          10,
          10,
          10,
          10,
          11,
          11,
          11,
          11,
          11,
          11,
          11,
          11,
          11,
          11,
          11,
          11,
          11,
          11,
          11,
          11,
          11,
          11,
          11,
          11,
          9,
          9,
          9,
          9,
          9,
          9,
          9,
          9,
          9,
          9,
          9,
          9,
          9,
          9,
          9,
          9,
          9,
          9,
          9,
          9,
          10,
          10,
          10,
          10,
          10,
          10,
          10,
          10,
          10,
          10,
          10,
          10,
          10,
          10,
          10,
          10,
          10,
          10,
          10,
          10,
          11,
          11,
          11,
          11,
          11,
          11,
          11,
          11,
          11,
          11,
          11,
          11,
          11,
          11,
          11,
          11,
          11,
          11,
          11,
          11,
          9,
          9,
          9,
          9,
          9,
          9,
          9,
          9,
          9,
          9,
          9,
          9,
          9,
          9,
          9,
          9,
          9,
          9,
          9,
          9,
          10,
          10,
          10,
          10,
          10,
          10,
          10,
          10,
          10,
          10,
          10,
          10,
          10,
          10,
          10,
          10,
          10,
          10,
          10,
          10,
          11,
          11,
          11,
          11,
          11,
          11,
          11,
          11,
          11,
          11,
          11,
          11,
          11,
          11,
          11,
          11,
          11,
          11,
          11,
          11,
          9,
          9,
          9,
          9,
          9,
          9,
          9,
          9,
          9,
          9,
          9,
          9,
          9,
          9,
          9,
          9,
          9,
          9,
          9,
          9,
          10,
          10,
          10,
          10,
          10,
          10,
          10,
          10,
          10,
          10,
          10,
          10,
          10,
          10,
          10,
          10,
          10,
          10,
          10,
          10,
          11,
          11,
          11,
          11,
          11,
          11,
          11,
          11,
          11,
          11,
          11,
          11,
          11,
          11,
          11,
          11,
          11,
          11,
          11,
          11,
          9,
          9,
          9,
          9,
          9,
          9,
          9,
          9,
          9,
          9,
          9,
          9,
          9,
          9,
          9,
          9,
          9,
          9,
          9,
          9,
          10,
          10,
          10,
          10,
          10,
          10,
          10,
          10,
          10,
          10,
          10,
          10,
          10,
          10,
          10,
          10,
          10,
          10,
          10,
          10,
          11,
          11,
          11,
          11,
          11,
          11,
          11,
          11,
          11,
          11,
          11,
          11,
          11,
          11,
          11,
          11,
          11,
          11,
          11,
          11,
          9,
          9,
          9,
          9,
          9,
          9,
          9,
          9,
          9,
          9,
          9,
          9,
          9,
          9,
          9,
          9,
          9,
          9,
          9,
          9,
          10,
          10,
          10,
          10,
          10,
          10,
          10,
          10,
          10,
          10,
          10,
          10,
          10,
          10,
          10,
          10,
          10,
          10,
          10,
          10,
          11,
          11,
          11,
          11,
          11,
          11,
          11,
          11,
          11,
          11,
          11,
          11,
          11,
          11,
          11,
          11,
          11,
          11,
          11,
          11,
          9,
          9,
          9,
          9,
          9,
          9,
          9,
          9,
          9,
          9,
          9,
          9,
          9,
          9,
          9,
          9,
          9,
          9,
          9,
          9,
          10,
          10,
          10,
          10,
          10,
          10,
          10,
          10,
          10,
          10,
          10,
          10,
          10,
          10,
          10,
          10,
          10,
          10,
          10,
          10,
          11,
          11,
          11,
          11,
          11,
          11,
          11,
          11,
          11,
          11,
          11,
          11,
          11,
          11,
          11,
          11,
          11,
          11,
          11,
          11
         ],
         "y": [
          509,
          209,
          265,
          290,
          1.949,
          3.9419999999999997,
          1.9780000000000002,
          4.253,
          2.37,
          2.08,
          1.666,
          1.265,
          2.531,
          1.204,
          1.996,
          2.136,
          2.175,
          2.928,
          3.5860000000000003,
          3.429,
          44,
          60,
          18,
          137,
          687,
          740,
          461,
          547,
          316,
          203,
          652,
          565,
          292,
          97,
          348,
          258,
          406,
          905,
          509,
          1.508,
          0,
          0,
          0,
          1,
          86,
          15,
          10,
          14,
          18,
          7,
          4,
          33,
          39,
          74,
          13,
          79,
          56,
          115,
          46,
          98,
          14,
          3,
          22,
          5,
          14,
          8,
          5,
          7,
          4,
          2,
          9,
          13,
          5,
          5,
          6,
          4,
          11,
          7,
          18,
          4,
          20,
          4,
          13,
          15,
          30,
          10,
          12,
          17,
          32,
          6,
          18,
          30,
          16,
          23,
          28,
          25,
          7,
          40,
          74,
          14,
          19,
          15,
          2,
          22,
          50,
          17,
          28,
          25,
          12,
          15,
          37,
          55,
          31,
          23,
          95,
          10,
          14,
          162,
          76,
          10,
          20,
          4,
          19,
          95,
          73,
          88,
          67,
          97,
          112,
          61,
          83,
          188,
          63,
          128,
          168,
          85,
          137,
          192,
          142,
          95,
          42,
          25,
          42,
          194,
          557,
          355,
          412,
          335,
          405,
          162,
          395,
          765,
          265,
          304,
          475,
          385,
          480,
          827,
          793,
          468,
          131,
          26,
          157,
          406,
          1.0959999999999999,
          750,
          949,
          685,
          207,
          198,
          266,
          1.0190000000000001,
          339,
          282,
          969,
          341,
          484,
          1.3,
          1.161,
          858,
          267,
          216,
          189,
          166,
          928,
          1.401,
          911,
          2.812,
          2.218,
          1.36,
          998,
          3.091,
          2.781,
          1.295,
          2.392,
          1.739,
          3.057,
          5.882000000000001,
          3.1189999999999998,
          4.033,
          83,
          479,
          145,
          332,
          695,
          725,
          710,
          545,
          721,
          215,
          632,
          2.189,
          889,
          694,
          1.238,
          1.202,
          952,
          2.494,
          2.105,
          1.581,
          6,
          32,
          27,
          244,
          259,
          169,
          209,
          261,
          59,
          90,
          39,
          973,
          354,
          399,
          682,
          220,
          676,
          1.054,
          591,
          552,
          2.718,
          1.275,
          2.285,
          3.964,
          6.439,
          8.847000000000001,
          6.433,
          4.066,
          3.0060000000000002,
          7.438,
          4.837,
          3.61,
          5.3229999999999995,
          7.086,
          7.495,
          2.681,
          2.6039999999999996,
          7.956,
          1.819,
          1.791,
          1.969,
          1.307,
          3.35,
          1.6869999999999998,
          5.414,
          4.263999999999999,
          4.81,
          8.405,
          2.079,
          4.981,
          7.691,
          2.552,
          5.263999999999999,
          2.166,
          4.607,
          1.969,
          2.763,
          4.989,
          1.415,
          4.005,
          49,
          49,
          114,
          699,
          1.02,
          533,
          1.736,
          1.595,
          239,
          2.126,
          3.175,
          402,
          605,
          176,
          168,
          288,
          348,
          1.705,
          408,
          174,
          590,
          124,
          127,
          801,
          172,
          384,
          144,
          185,
          237,
          241,
          177,
          101,
          357,
          239,
          609,
          177,
          155,
          214,
          370,
          505,
          1.014,
          309,
          875,
          2.045,
          1.6059999999999999,
          1.761,
          1.217,
          1.3780000000000001,
          581,
          964,
          816,
          435,
          502,
          415,
          1.104,
          466,
          517,
          658,
          1.31,
          949,
          575,
          524,
          669,
          2.456,
          2.715,
          3.327,
          2.9,
          2.483,
          1.012,
          1.443,
          1.7530000000000001,
          1.653,
          1.652,
          1.561,
          995,
          1.081,
          829,
          1.081,
          1.328,
          812,
          33,
          12,
          3,
          12,
          33,
          17,
          100,
          23,
          20,
          73,
          54,
          5,
          196,
          133,
          64,
          31,
          72,
          76,
          58,
          122,
          3,
          8,
          18,
          0,
          19,
          12,
          18,
          18,
          1,
          13,
          6,
          3,
          6,
          0,
          15,
          3,
          34,
          21,
          9,
          66,
          0,
          1,
          0,
          0,
          1,
          0,
          0,
          2,
          0,
          0,
          4,
          0,
          0,
          1,
          0,
          0,
          0,
          3,
          1,
          0,
          108,
          64,
          14,
          38,
          46,
          252,
          47,
          8,
          87,
          63,
          78,
          57,
          53,
          108,
          48,
          30,
          61,
          228,
          128,
          58,
          20,
          23,
          88,
          19,
          113,
          159,
          48,
          62,
          10,
          79,
          100,
          13,
          32,
          38,
          62,
          37,
          89,
          307,
          58,
          56,
          4,
          9,
          3,
          3,
          22,
          49,
          42,
          0,
          0,
          112,
          3,
          18,
          3,
          6,
          7,
          11,
          20,
          141,
          8,
          3,
          2.867,
          1.8980000000000001,
          1.2930000000000001,
          1.8630000000000002,
          3.52,
          1.662,
          2.965,
          1.341,
          1.463,
          3.745,
          1.255,
          685,
          5.075,
          2.259,
          2.452,
          684,
          1.6869999999999998,
          2.296,
          1.703,
          3.238,
          1.034,
          743,
          905,
          479,
          1.367,
          1.183,
          1.275,
          1.7169999999999999,
          178,
          1.195,
          1.2309999999999999,
          367,
          1.227,
          476,
          1.524,
          606,
          1.9469999999999998,
          1.807,
          522,
          2.401,
          47,
          110,
          26,
          15,
          192,
          168,
          291,
          144,
          91,
          79,
          90,
          89,
          67,
          59,
          57,
          183,
          181,
          547,
          123,
          117,
          3.935,
          1.739,
          1.365,
          4.618,
          3.181,
          5.877999999999999,
          4.673,
          6.292000000000001,
          2.907,
          8.524,
          2.761,
          2.404,
          9.795,
          4.632,
          7.626,
          3.88,
          4.373,
          6.422999999999999,
          3.1660000000000004,
          14.825,
          5.1370000000000005,
          3.208,
          2.654,
          6.6610000000000005,
          5.182,
          6.085,
          3.6039999999999996,
          6.472,
          3.0239999999999996,
          4.772,
          3.498,
          1.861,
          3.228,
          2.404,
          5,
          2.918,
          5.812,
          6.746,
          5.351,
          6.011,
          2.237,
          1.494,
          2.267,
          3.525,
          5.83,
          4.928999999999999,
          6.398,
          4.769,
          2.004,
          2.2969999999999997,
          2.331,
          5,
          4.005,
          2.261,
          2.01,
          2.529,
          3.8689999999999998,
          4.35,
          3.9819999999999998,
          2.3,
          10.363,
          11.729000000000001,
          6.251,
          8.49,
          11.034,
          15.79,
          24.994,
          20.551,
          12.661,
          25.963,
          7.965,
          3.1289999999999996,
          18.366,
          6.332000000000001,
          10.344000000000001,
          5.5760000000000005,
          7.081,
          11.068,
          8.98,
          23.945,
          2.707,
          6.109,
          6.062,
          6.542999999999999,
          9.375,
          5.341,
          9.295,
          7.765,
          2.327,
          4.89,
          6.3260000000000005,
          2.5789999999999997,
          4.465,
          2.01,
          2.8369999999999997,
          1.986,
          5.281000000000001,
          6.49,
          2.7489999999999997,
          4.8,
          182,
          842,
          502,
          373,
          2.905,
          2.097,
          2.405,
          1.368,
          1.031,
          299,
          190,
          588,
          768,
          1.103,
          375,
          1.064,
          1.018,
          1.93,
          918,
          813,
          457,
          2.969,
          510,
          1.383,
          2.252,
          1.124,
          2.511,
          1.87,
          1.078,
          4.446000000000001,
          1.62,
          1.146,
          1.505,
          1.072,
          2.2640000000000002,
          1.074,
          365,
          1.482,
          2.383,
          2.984,
          576,
          2.053,
          657,
          563,
          2.173,
          541,
          960,
          647,
          244,
          668,
          432,
          854,
          597,
          276,
          652,
          378,
          581,
          507,
          1.2,
          685,
          306,
          1.194,
          274,
          220,
          1.47,
          380,
          208,
          159,
          83,
          82,
          50,
          439,
          259,
          445,
          115,
          423,
          190,
          276,
          258,
          133,
          1.9809999999999999,
          2.6860000000000004,
          1.08,
          1.597,
          3.1,
          7.091,
          4.3389999999999995,
          2.0469999999999997,
          2.78,
          5.088,
          2.552,
          1.31,
          5.059,
          5.978,
          3.219,
          1.656,
          3.4539999999999997,
          3.088,
          2.093,
          4.697,
          1.093,
          1.3630000000000002,
          1.954,
          528,
          4.788,
          5.391,
          2.736,
          6.546,
          616,
          3.467,
          3.787,
          1.013,
          2.048,
          1.206,
          3.97,
          1.2209999999999999,
          4.735,
          3.708,
          948,
          3.062,
          32,
          271,
          43,
          62,
          417,
          399,
          914,
          422,
          59,
          1.305,
          892,
          246,
          82,
          153,
          220,
          277,
          398,
          1.453,
          126,
          136,
          6.237,
          4.419,
          2.569,
          6.138999999999999,
          5.609,
          8.447000000000001,
          9.471,
          9.032,
          8.372,
          14.59,
          6.294,
          6.051,
          10.81,
          5.185,
          6.87,
          3.36,
          6.787000000000001,
          11.068,
          3.9530000000000003,
          25.004,
          3.665,
          5.026,
          4.313,
          5.096,
          5.189,
          3.803,
          4.726,
          5.083,
          5.9639999999999995,
          2.504,
          6.653,
          6.3420000000000005,
          3.843,
          3.141,
          3.714,
          4.921,
          6.4479999999999995,
          7.781000000000001,
          5.281000000000001,
          7.627999999999999,
          1.861,
          2.682,
          3.366,
          4.938,
          7.996,
          6.195,
          9.842,
          4.968,
          2.883,
          2.89,
          2.403,
          10.012,
          4.417,
          3.043,
          6.156000000000001,
          3.688,
          7.767,
          9.642999999999999,
          7.879,
          9.079,
          50,
          14,
          9,
          98,
          63,
          81,
          34,
          13,
          27,
          22,
          21,
          28,
          37,
          55,
          71,
          25,
          51,
          48,
          131,
          30,
          179,
          48,
          125,
          279,
          193,
          381,
          190,
          155,
          135,
          111,
          80,
          117,
          150,
          200,
          136,
          58,
          70,
          121,
          304,
          123,
          46,
          38,
          65,
          294,
          238,
          538,
          331,
          280,
          215,
          256,
          175,
          428,
          451,
          359,
          130,
          95,
          111,
          206,
          132,
          101,
          61,
          878,
          381,
          258,
          1.071,
          2.4459999999999997,
          1.36,
          386,
          866,
          960,
          413,
          149,
          270,
          913,
          459,
          476,
          443,
          599,
          1.371,
          1.706,
          61,
          452,
          658,
          209,
          399,
          1.228,
          666,
          157,
          327,
          194,
          78,
          424,
          230,
          256,
          145,
          233,
          411,
          158,
          193,
          134,
          143,
          447,
          85,
          89,
          425,
          503,
          388,
          597,
          60,
          59,
          39,
          90,
          183,
          138,
          142,
          126,
          68,
          18,
          275,
          292,
          177,
          64,
          130,
          298,
          374,
          510,
          192,
          154,
          147,
          164,
          92,
          164,
          179,
          243,
          192,
          143,
          63,
          116,
          171,
          69,
          372,
          180,
          411,
          461,
          638,
          859,
          545,
          408,
          310,
          702,
          274,
          254,
          347,
          461,
          222,
          161,
          174,
          194,
          319,
          256,
          141,
          41,
          64,
          208,
          521,
          560,
          465,
          452,
          385,
          359,
          363,
          486,
          831,
          352,
          181,
          110,
          111,
          315,
          191,
          66,
          1.9909999999999999,
          872,
          1.099,
          2.401,
          2.475,
          3.3989999999999996,
          2.662,
          3.136,
          1.618,
          4.078,
          1.472,
          1.709,
          5.392,
          4.402,
          4.479,
          2.311,
          2.536,
          5.827999999999999,
          1.3940000000000001,
          3.4219999999999997,
          2.5860000000000003,
          1.4380000000000002,
          2.5580000000000003,
          3.742,
          2.7569999999999997,
          2.332,
          2.144,
          3.263,
          1.443,
          2.331,
          1.83,
          913,
          3.863,
          1.484,
          2.506,
          1.2690000000000001,
          1.788,
          4.0680000000000005,
          2.5980000000000003,
          3.0039999999999996,
          424,
          334,
          450,
          1.484,
          1.1740000000000002,
          1.248,
          1.798,
          1.599,
          740,
          939,
          594,
          1.3359999999999999,
          1.4169999999999998,
          825,
          447,
          640,
          717,
          897,
          1.126,
          449,
          44,
          192,
          16,
          60,
          45,
          166,
          205,
          46,
          197,
          223,
          132,
          90,
          353,
          510,
          172,
          117,
          318,
          85,
          195,
          728,
          6,
          30,
          25,
          33,
          313,
          81,
          26,
          116,
          12,
          137,
          42,
          18,
          35,
          114,
          163,
          44,
          500,
          96,
          30,
          238,
          6,
          16,
          2,
          4,
          11,
          5,
          49,
          12,
          1,
          1,
          0,
          27,
          23,
          20,
          13,
          28,
          36,
          6,
          19,
          43,
          51,
          35,
          17,
          45,
          52,
          112,
          47,
          37,
          50,
          50,
          17,
          29,
          50,
          22,
          41,
          7,
          30,
          36,
          44,
          48,
          55,
          40,
          28,
          34,
          140,
          276,
          89,
          168,
          85,
          88,
          53,
          84,
          111,
          76,
          74,
          71,
          75,
          129,
          129,
          85,
          41,
          62,
          9,
          41,
          178,
          366,
          164,
          249,
          148,
          130,
          82,
          172,
          212,
          144,
          69,
          77,
          124,
          105,
          93,
          89,
          60,
          19,
          27,
          2,
          226,
          828,
          431,
          189,
          444,
          573,
          97,
          39,
          250,
          449,
          113,
          290,
          224,
          222,
          628,
          343,
          169,
          56,
          10,
          13,
          10,
          360,
          680,
          83,
          160,
          21,
          135,
          148,
          95,
          74,
          91,
          104,
          110,
          70,
          93,
          101,
          28,
          103,
          18,
          49,
          117,
          121,
          161,
          227,
          27,
          13,
          14,
          4,
          90,
          117,
          74,
          110,
          68,
          30,
          105,
          137,
          3.753,
          3.062,
          2.438,
          1.9269999999999998,
          7.067,
          6.89,
          13.05,
          13.972000000000001,
          9.92,
          6.832000000000001,
          3.7260000000000004,
          1.869,
          4.893,
          1.7819999999999998,
          2.471,
          1.776,
          2.8,
          6.129,
          4.208,
          5.638,
          483,
          1.8840000000000001,
          644,
          796,
          3.554,
          4.962,
          3.094,
          2.559,
          1.148,
          2.023,
          1.482,
          1.444,
          1.307,
          822,
          1.229,
          555,
          1.063,
          2.5980000000000003,
          1.844,
          2.19,
          3,
          41,
          13,
          91,
          639,
          526,
          452,
          465,
          253,
          53,
          78,
          128,
          238,
          245,
          174,
          108,
          202,
          1.002,
          401,
          372,
          2,
          3,
          12,
          1,
          48,
          6,
          9,
          72,
          40,
          9,
          17,
          117,
          18,
          53,
          67,
          18,
          67,
          77,
          19,
          43,
          1,
          10,
          25,
          13,
          191,
          14,
          53,
          88,
          135,
          15,
          78,
          197,
          64,
          65,
          152,
          63,
          61,
          181,
          101,
          156,
          1,
          15,
          32,
          76,
          133,
          27,
          135,
          135,
          26,
          112,
          39,
          312,
          27,
          121,
          187,
          106,
          143,
          280,
          71,
          327,
          6,
          101,
          36,
          18,
          416,
          1.339,
          755,
          116,
          530,
          617,
          233,
          47,
          198,
          450,
          188,
          303,
          208,
          156,
          644,
          626,
          4,
          16,
          55,
          26,
          42,
          669,
          704,
          197,
          269,
          35,
          56,
          252,
          76,
          102,
          34,
          107,
          122,
          21,
          56,
          51,
          21,
          84,
          19,
          66,
          348,
          347,
          279,
          384,
          45,
          26,
          16,
          61,
          88,
          79,
          72,
          84,
          43,
          9,
          156,
          152,
          525,
          911,
          582,
          425,
          302,
          977,
          809,
          231,
          694,
          495,
          486,
          116,
          1.6769999999999998,
          1.1079999999999999,
          813,
          560,
          882,
          368,
          490,
          2.8680000000000003,
          434,
          763,
          647,
          444,
          733,
          422,
          195,
          221,
          153,
          281,
          87,
          64,
          260,
          188,
          206,
          127,
          887,
          213,
          177,
          179,
          488,
          398,
          96,
          168,
          72,
          155,
          144,
          163,
          43,
          50,
          20,
          83,
          104,
          87,
          50,
          120,
          56,
          21,
          39,
          37,
          0,
          0,
          0,
          1,
          0,
          3,
          0,
          2,
          0,
          0,
          0,
          1,
          0,
          0,
          1,
          1,
          4,
          1,
          2,
          0,
          0,
          0,
          3,
          5,
          20,
          2,
          3,
          11,
          3,
          3,
          0,
          1,
          1,
          5,
          1,
          3,
          3,
          6,
          10,
          0,
          12,
          3,
          0,
          5,
          57,
          2,
          41,
          23,
          5,
          7,
          17,
          9,
          16,
          4,
          6,
          7,
          9,
          47,
          17,
          1,
          5.149,
          3.415,
          2.552,
          4.8389999999999995,
          5.314,
          4.637,
          5.308,
          5.319,
          2.9789999999999996,
          6.829,
          2.39,
          2.017,
          10.172,
          4.658,
          7.46,
          2.445,
          3.52,
          5.51,
          3.245,
          10.737,
          1.7380000000000002,
          1.3780000000000001,
          1.053,
          684,
          1.537,
          1.339,
          1.6580000000000001,
          2.9130000000000003,
          1.176,
          2.252,
          2.832,
          718,
          2.272,
          1.591,
          3.68,
          2.155,
          4,
          4.843999999999999,
          2.032,
          2.969,
          1,
          29,
          96,
          100,
          207,
          146,
          424,
          271,
          108,
          147,
          104,
          251,
          283,
          144,
          179,
          345,
          451,
          833,
          623,
          434
         ]
        }
       ],
       "layout": {
        "template": {
         "data": {
          "bar": [
           {
            "error_x": {
             "color": "#2a3f5f"
            },
            "error_y": {
             "color": "#2a3f5f"
            },
            "marker": {
             "line": {
              "color": "#E5ECF6",
              "width": 0.5
             }
            },
            "type": "bar"
           }
          ],
          "barpolar": [
           {
            "marker": {
             "line": {
              "color": "#E5ECF6",
              "width": 0.5
             }
            },
            "type": "barpolar"
           }
          ],
          "carpet": [
           {
            "aaxis": {
             "endlinecolor": "#2a3f5f",
             "gridcolor": "white",
             "linecolor": "white",
             "minorgridcolor": "white",
             "startlinecolor": "#2a3f5f"
            },
            "baxis": {
             "endlinecolor": "#2a3f5f",
             "gridcolor": "white",
             "linecolor": "white",
             "minorgridcolor": "white",
             "startlinecolor": "#2a3f5f"
            },
            "type": "carpet"
           }
          ],
          "choropleth": [
           {
            "colorbar": {
             "outlinewidth": 0,
             "ticks": ""
            },
            "type": "choropleth"
           }
          ],
          "contour": [
           {
            "colorbar": {
             "outlinewidth": 0,
             "ticks": ""
            },
            "colorscale": [
             [
              0,
              "#0d0887"
             ],
             [
              0.1111111111111111,
              "#46039f"
             ],
             [
              0.2222222222222222,
              "#7201a8"
             ],
             [
              0.3333333333333333,
              "#9c179e"
             ],
             [
              0.4444444444444444,
              "#bd3786"
             ],
             [
              0.5555555555555556,
              "#d8576b"
             ],
             [
              0.6666666666666666,
              "#ed7953"
             ],
             [
              0.7777777777777778,
              "#fb9f3a"
             ],
             [
              0.8888888888888888,
              "#fdca26"
             ],
             [
              1,
              "#f0f921"
             ]
            ],
            "type": "contour"
           }
          ],
          "contourcarpet": [
           {
            "colorbar": {
             "outlinewidth": 0,
             "ticks": ""
            },
            "type": "contourcarpet"
           }
          ],
          "heatmap": [
           {
            "colorbar": {
             "outlinewidth": 0,
             "ticks": ""
            },
            "colorscale": [
             [
              0,
              "#0d0887"
             ],
             [
              0.1111111111111111,
              "#46039f"
             ],
             [
              0.2222222222222222,
              "#7201a8"
             ],
             [
              0.3333333333333333,
              "#9c179e"
             ],
             [
              0.4444444444444444,
              "#bd3786"
             ],
             [
              0.5555555555555556,
              "#d8576b"
             ],
             [
              0.6666666666666666,
              "#ed7953"
             ],
             [
              0.7777777777777778,
              "#fb9f3a"
             ],
             [
              0.8888888888888888,
              "#fdca26"
             ],
             [
              1,
              "#f0f921"
             ]
            ],
            "type": "heatmap"
           }
          ],
          "heatmapgl": [
           {
            "colorbar": {
             "outlinewidth": 0,
             "ticks": ""
            },
            "colorscale": [
             [
              0,
              "#0d0887"
             ],
             [
              0.1111111111111111,
              "#46039f"
             ],
             [
              0.2222222222222222,
              "#7201a8"
             ],
             [
              0.3333333333333333,
              "#9c179e"
             ],
             [
              0.4444444444444444,
              "#bd3786"
             ],
             [
              0.5555555555555556,
              "#d8576b"
             ],
             [
              0.6666666666666666,
              "#ed7953"
             ],
             [
              0.7777777777777778,
              "#fb9f3a"
             ],
             [
              0.8888888888888888,
              "#fdca26"
             ],
             [
              1,
              "#f0f921"
             ]
            ],
            "type": "heatmapgl"
           }
          ],
          "histogram": [
           {
            "marker": {
             "colorbar": {
              "outlinewidth": 0,
              "ticks": ""
             }
            },
            "type": "histogram"
           }
          ],
          "histogram2d": [
           {
            "colorbar": {
             "outlinewidth": 0,
             "ticks": ""
            },
            "colorscale": [
             [
              0,
              "#0d0887"
             ],
             [
              0.1111111111111111,
              "#46039f"
             ],
             [
              0.2222222222222222,
              "#7201a8"
             ],
             [
              0.3333333333333333,
              "#9c179e"
             ],
             [
              0.4444444444444444,
              "#bd3786"
             ],
             [
              0.5555555555555556,
              "#d8576b"
             ],
             [
              0.6666666666666666,
              "#ed7953"
             ],
             [
              0.7777777777777778,
              "#fb9f3a"
             ],
             [
              0.8888888888888888,
              "#fdca26"
             ],
             [
              1,
              "#f0f921"
             ]
            ],
            "type": "histogram2d"
           }
          ],
          "histogram2dcontour": [
           {
            "colorbar": {
             "outlinewidth": 0,
             "ticks": ""
            },
            "colorscale": [
             [
              0,
              "#0d0887"
             ],
             [
              0.1111111111111111,
              "#46039f"
             ],
             [
              0.2222222222222222,
              "#7201a8"
             ],
             [
              0.3333333333333333,
              "#9c179e"
             ],
             [
              0.4444444444444444,
              "#bd3786"
             ],
             [
              0.5555555555555556,
              "#d8576b"
             ],
             [
              0.6666666666666666,
              "#ed7953"
             ],
             [
              0.7777777777777778,
              "#fb9f3a"
             ],
             [
              0.8888888888888888,
              "#fdca26"
             ],
             [
              1,
              "#f0f921"
             ]
            ],
            "type": "histogram2dcontour"
           }
          ],
          "mesh3d": [
           {
            "colorbar": {
             "outlinewidth": 0,
             "ticks": ""
            },
            "type": "mesh3d"
           }
          ],
          "parcoords": [
           {
            "line": {
             "colorbar": {
              "outlinewidth": 0,
              "ticks": ""
             }
            },
            "type": "parcoords"
           }
          ],
          "pie": [
           {
            "automargin": true,
            "type": "pie"
           }
          ],
          "scatter": [
           {
            "marker": {
             "colorbar": {
              "outlinewidth": 0,
              "ticks": ""
             }
            },
            "type": "scatter"
           }
          ],
          "scatter3d": [
           {
            "line": {
             "colorbar": {
              "outlinewidth": 0,
              "ticks": ""
             }
            },
            "marker": {
             "colorbar": {
              "outlinewidth": 0,
              "ticks": ""
             }
            },
            "type": "scatter3d"
           }
          ],
          "scattercarpet": [
           {
            "marker": {
             "colorbar": {
              "outlinewidth": 0,
              "ticks": ""
             }
            },
            "type": "scattercarpet"
           }
          ],
          "scattergeo": [
           {
            "marker": {
             "colorbar": {
              "outlinewidth": 0,
              "ticks": ""
             }
            },
            "type": "scattergeo"
           }
          ],
          "scattergl": [
           {
            "marker": {
             "colorbar": {
              "outlinewidth": 0,
              "ticks": ""
             }
            },
            "type": "scattergl"
           }
          ],
          "scattermapbox": [
           {
            "marker": {
             "colorbar": {
              "outlinewidth": 0,
              "ticks": ""
             }
            },
            "type": "scattermapbox"
           }
          ],
          "scatterpolar": [
           {
            "marker": {
             "colorbar": {
              "outlinewidth": 0,
              "ticks": ""
             }
            },
            "type": "scatterpolar"
           }
          ],
          "scatterpolargl": [
           {
            "marker": {
             "colorbar": {
              "outlinewidth": 0,
              "ticks": ""
             }
            },
            "type": "scatterpolargl"
           }
          ],
          "scatterternary": [
           {
            "marker": {
             "colorbar": {
              "outlinewidth": 0,
              "ticks": ""
             }
            },
            "type": "scatterternary"
           }
          ],
          "surface": [
           {
            "colorbar": {
             "outlinewidth": 0,
             "ticks": ""
            },
            "colorscale": [
             [
              0,
              "#0d0887"
             ],
             [
              0.1111111111111111,
              "#46039f"
             ],
             [
              0.2222222222222222,
              "#7201a8"
             ],
             [
              0.3333333333333333,
              "#9c179e"
             ],
             [
              0.4444444444444444,
              "#bd3786"
             ],
             [
              0.5555555555555556,
              "#d8576b"
             ],
             [
              0.6666666666666666,
              "#ed7953"
             ],
             [
              0.7777777777777778,
              "#fb9f3a"
             ],
             [
              0.8888888888888888,
              "#fdca26"
             ],
             [
              1,
              "#f0f921"
             ]
            ],
            "type": "surface"
           }
          ],
          "table": [
           {
            "cells": {
             "fill": {
              "color": "#EBF0F8"
             },
             "line": {
              "color": "white"
             }
            },
            "header": {
             "fill": {
              "color": "#C8D4E3"
             },
             "line": {
              "color": "white"
             }
            },
            "type": "table"
           }
          ]
         },
         "layout": {
          "annotationdefaults": {
           "arrowcolor": "#2a3f5f",
           "arrowhead": 0,
           "arrowwidth": 1
          },
          "coloraxis": {
           "colorbar": {
            "outlinewidth": 0,
            "ticks": ""
           }
          },
          "colorscale": {
           "diverging": [
            [
             0,
             "#8e0152"
            ],
            [
             0.1,
             "#c51b7d"
            ],
            [
             0.2,
             "#de77ae"
            ],
            [
             0.3,
             "#f1b6da"
            ],
            [
             0.4,
             "#fde0ef"
            ],
            [
             0.5,
             "#f7f7f7"
            ],
            [
             0.6,
             "#e6f5d0"
            ],
            [
             0.7,
             "#b8e186"
            ],
            [
             0.8,
             "#7fbc41"
            ],
            [
             0.9,
             "#4d9221"
            ],
            [
             1,
             "#276419"
            ]
           ],
           "sequential": [
            [
             0,
             "#0d0887"
            ],
            [
             0.1111111111111111,
             "#46039f"
            ],
            [
             0.2222222222222222,
             "#7201a8"
            ],
            [
             0.3333333333333333,
             "#9c179e"
            ],
            [
             0.4444444444444444,
             "#bd3786"
            ],
            [
             0.5555555555555556,
             "#d8576b"
            ],
            [
             0.6666666666666666,
             "#ed7953"
            ],
            [
             0.7777777777777778,
             "#fb9f3a"
            ],
            [
             0.8888888888888888,
             "#fdca26"
            ],
            [
             1,
             "#f0f921"
            ]
           ],
           "sequentialminus": [
            [
             0,
             "#0d0887"
            ],
            [
             0.1111111111111111,
             "#46039f"
            ],
            [
             0.2222222222222222,
             "#7201a8"
            ],
            [
             0.3333333333333333,
             "#9c179e"
            ],
            [
             0.4444444444444444,
             "#bd3786"
            ],
            [
             0.5555555555555556,
             "#d8576b"
            ],
            [
             0.6666666666666666,
             "#ed7953"
            ],
            [
             0.7777777777777778,
             "#fb9f3a"
            ],
            [
             0.8888888888888888,
             "#fdca26"
            ],
            [
             1,
             "#f0f921"
            ]
           ]
          },
          "colorway": [
           "#636efa",
           "#EF553B",
           "#00cc96",
           "#ab63fa",
           "#FFA15A",
           "#19d3f3",
           "#FF6692",
           "#B6E880",
           "#FF97FF",
           "#FECB52"
          ],
          "font": {
           "color": "#2a3f5f"
          },
          "geo": {
           "bgcolor": "white",
           "lakecolor": "white",
           "landcolor": "#E5ECF6",
           "showlakes": true,
           "showland": true,
           "subunitcolor": "white"
          },
          "hoverlabel": {
           "align": "left"
          },
          "hovermode": "closest",
          "mapbox": {
           "style": "light"
          },
          "paper_bgcolor": "white",
          "plot_bgcolor": "#E5ECF6",
          "polar": {
           "angularaxis": {
            "gridcolor": "white",
            "linecolor": "white",
            "ticks": ""
           },
           "bgcolor": "#E5ECF6",
           "radialaxis": {
            "gridcolor": "white",
            "linecolor": "white",
            "ticks": ""
           }
          },
          "scene": {
           "xaxis": {
            "backgroundcolor": "#E5ECF6",
            "gridcolor": "white",
            "gridwidth": 2,
            "linecolor": "white",
            "showbackground": true,
            "ticks": "",
            "zerolinecolor": "white"
           },
           "yaxis": {
            "backgroundcolor": "#E5ECF6",
            "gridcolor": "white",
            "gridwidth": 2,
            "linecolor": "white",
            "showbackground": true,
            "ticks": "",
            "zerolinecolor": "white"
           },
           "zaxis": {
            "backgroundcolor": "#E5ECF6",
            "gridcolor": "white",
            "gridwidth": 2,
            "linecolor": "white",
            "showbackground": true,
            "ticks": "",
            "zerolinecolor": "white"
           }
          },
          "shapedefaults": {
           "line": {
            "color": "#2a3f5f"
           }
          },
          "ternary": {
           "aaxis": {
            "gridcolor": "white",
            "linecolor": "white",
            "ticks": ""
           },
           "baxis": {
            "gridcolor": "white",
            "linecolor": "white",
            "ticks": ""
           },
           "bgcolor": "#E5ECF6",
           "caxis": {
            "gridcolor": "white",
            "linecolor": "white",
            "ticks": ""
           }
          },
          "title": {
           "x": 0.05
          },
          "xaxis": {
           "automargin": true,
           "gridcolor": "white",
           "linecolor": "white",
           "ticks": "",
           "title": {
            "standoff": 15
           },
           "zerolinecolor": "white",
           "zerolinewidth": 2
          },
          "yaxis": {
           "automargin": true,
           "gridcolor": "white",
           "linecolor": "white",
           "ticks": "",
           "title": {
            "standoff": 15
           },
           "zerolinecolor": "white",
           "zerolinewidth": 2
          }
         }
        },
        "title": {
         "text": "Distribuição de incêndios de 1998 a 2017 nos meses mais quentes"
        }
       }
      },
      "text/html": [
       "<div>                            <div id=\"51a563f2-2cc1-4ba3-8933-21e0857a78cd\" class=\"plotly-graph-div\" style=\"height:525px; width:100%;\"></div>            <script type=\"text/javascript\">                require([\"plotly\"], function(Plotly) {                    window.PLOTLYENV=window.PLOTLYENV || {};                                    if (document.getElementById(\"51a563f2-2cc1-4ba3-8933-21e0857a78cd\")) {                    Plotly.newPlot(                        \"51a563f2-2cc1-4ba3-8933-21e0857a78cd\",                        [{\"boxpoints\": \"all\", \"jitter\": 0.5, \"line\": {\"width\": 2}, \"marker\": {\"color\": \"#3D9970\", \"size\": 2}, \"name\": \"Ver\\u00e3o\", \"type\": \"box\", \"whiskerwidth\": 0.2, \"x\": [6, 6, 6, 6, 6, 6, 6, 6, 6, 6, 6, 6, 6, 6, 6, 6, 6, 6, 6, 6, 7, 7, 7, 7, 7, 7, 7, 7, 7, 7, 7, 7, 7, 7, 7, 7, 7, 7, 7, 7, 8, 8, 8, 8, 8, 8, 8, 8, 8, 8, 8, 8, 8, 8, 8, 8, 8, 8, 8, 8, 6, 6, 6, 6, 6, 6, 6, 6, 6, 6, 6, 6, 6, 6, 6, 6, 6, 6, 6, 6, 7, 7, 7, 7, 7, 7, 7, 7, 7, 7, 7, 7, 7, 7, 7, 7, 7, 7, 7, 7, 8, 8, 8, 8, 8, 8, 8, 8, 8, 8, 8, 8, 8, 8, 8, 8, 8, 8, 8, 8, 6, 6, 6, 6, 6, 6, 6, 6, 6, 6, 6, 6, 6, 6, 6, 6, 6, 6, 6, 6, 7, 7, 7, 7, 7, 7, 7, 7, 7, 7, 7, 7, 7, 7, 7, 7, 7, 7, 7, 7, 8, 8, 8, 8, 8, 8, 8, 8, 8, 8, 8, 8, 8, 8, 8, 8, 8, 8, 8, 8, 6, 6, 6, 6, 6, 6, 6, 6, 6, 6, 6, 6, 6, 6, 6, 6, 6, 6, 6, 6, 7, 7, 7, 7, 7, 7, 7, 7, 7, 7, 7, 7, 7, 7, 7, 7, 7, 7, 7, 7, 8, 8, 8, 8, 8, 8, 8, 8, 8, 8, 8, 8, 8, 8, 8, 8, 8, 8, 8, 8, 6, 6, 6, 6, 6, 6, 6, 6, 6, 6, 6, 6, 6, 6, 6, 6, 6, 6, 6, 6, 7, 7, 7, 7, 7, 7, 7, 7, 7, 7, 7, 7, 7, 7, 7, 7, 7, 7, 7, 7, 8, 8, 8, 8, 8, 8, 8, 8, 8, 8, 8, 8, 8, 8, 8, 8, 8, 8, 8, 8, 6, 6, 6, 6, 6, 6, 6, 6, 6, 6, 6, 6, 6, 6, 6, 6, 6, 6, 6, 6, 7, 7, 7, 7, 7, 7, 7, 7, 7, 7, 7, 7, 7, 7, 7, 7, 7, 7, 7, 7, 8, 8, 8, 8, 8, 8, 8, 8, 8, 8, 8, 8, 8, 8, 8, 8, 8, 8, 8, 8, 6, 6, 6, 6, 6, 6, 6, 6, 6, 6, 6, 6, 6, 6, 6, 6, 6, 6, 6, 6, 7, 7, 7, 7, 7, 7, 7, 7, 7, 7, 7, 7, 7, 7, 7, 7, 7, 7, 7, 7, 8, 8, 8, 8, 8, 8, 8, 8, 8, 8, 8, 8, 8, 8, 8, 8, 8, 8, 8, 8, 6, 6, 6, 6, 6, 6, 6, 6, 6, 6, 6, 6, 6, 6, 6, 6, 6, 6, 6, 6, 7, 7, 7, 7, 7, 7, 7, 7, 7, 7, 7, 7, 7, 7, 7, 7, 7, 7, 7, 7, 8, 8, 8, 8, 8, 8, 8, 8, 8, 8, 8, 8, 8, 8, 8, 8, 8, 8, 8, 8, 6, 6, 6, 6, 6, 6, 6, 6, 6, 6, 6, 6, 6, 6, 6, 6, 6, 6, 6, 6, 7, 7, 7, 7, 7, 7, 7, 7, 7, 7, 7, 7, 7, 7, 7, 7, 7, 7, 7, 7, 8, 8, 8, 8, 8, 8, 8, 8, 8, 8, 8, 8, 8, 8, 8, 8, 8, 8, 8, 8, 6, 6, 6, 6, 6, 6, 6, 6, 6, 6, 6, 6, 6, 6, 6, 6, 6, 6, 6, 6, 7, 7, 7, 7, 7, 7, 7, 7, 7, 7, 7, 7, 7, 7, 7, 7, 7, 7, 7, 7, 8, 8, 8, 8, 8, 8, 8, 8, 8, 8, 8, 8, 8, 8, 8, 8, 8, 8, 8, 8, 6, 6, 6, 6, 6, 6, 6, 6, 6, 6, 6, 6, 6, 6, 6, 6, 6, 6, 6, 6, 7, 7, 7, 7, 7, 7, 7, 7, 7, 7, 7, 7, 7, 7, 7, 7, 7, 7, 7, 7, 8, 8, 8, 8, 8, 8, 8, 8, 8, 8, 8, 8, 8, 8, 8, 8, 8, 8, 8, 8, 6, 6, 6, 6, 6, 6, 6, 6, 6, 6, 6, 6, 6, 6, 6, 6, 6, 6, 6, 6, 7, 7, 7, 7, 7, 7, 7, 7, 7, 7, 7, 7, 7, 7, 7, 7, 7, 7, 7, 7, 8, 8, 8, 8, 8, 8, 8, 8, 8, 8, 8, 8, 8, 8, 8, 8, 8, 8, 8, 8, 6, 6, 6, 6, 6, 6, 6, 6, 6, 6, 6, 6, 6, 6, 6, 6, 6, 6, 6, 6, 7, 7, 7, 7, 7, 7, 7, 7, 7, 7, 7, 7, 7, 7, 7, 7, 7, 7, 7, 7, 8, 8, 8, 8, 8, 8, 8, 8, 8, 8, 8, 8, 8, 8, 8, 8, 8, 8, 8, 8, 6, 6, 6, 6, 6, 6, 6, 6, 6, 6, 6, 6, 6, 6, 6, 6, 6, 6, 6, 6, 7, 7, 7, 7, 7, 7, 7, 7, 7, 7, 7, 7, 7, 7, 7, 7, 7, 7, 7, 7, 8, 8, 8, 8, 8, 8, 8, 8, 8, 8, 8, 8, 8, 8, 8, 8, 8, 8, 8, 8, 6, 6, 6, 6, 6, 6, 6, 6, 6, 6, 6, 6, 6, 6, 6, 6, 6, 6, 6, 6, 7, 7, 7, 7, 7, 7, 7, 7, 7, 7, 7, 7, 7, 7, 7, 7, 7, 7, 7, 7, 8, 8, 8, 8, 8, 8, 8, 8, 8, 8, 8, 8, 8, 8, 8, 8, 8, 8, 8, 8, 6, 6, 6, 6, 6, 6, 6, 6, 6, 6, 6, 6, 6, 6, 6, 6, 6, 6, 6, 6, 7, 7, 7, 7, 7, 7, 7, 7, 7, 7, 7, 7, 7, 7, 7, 7, 7, 7, 7, 7, 8, 8, 8, 8, 8, 8, 8, 8, 8, 8, 8, 8, 8, 8, 8, 8, 8, 8, 8, 8, 6, 6, 6, 6, 6, 6, 6, 6, 6, 6, 6, 6, 6, 6, 6, 6, 6, 6, 6, 6, 7, 7, 7, 7, 7, 7, 7, 7, 7, 7, 7, 7, 7, 7, 7, 7, 7, 7, 7, 7, 8, 8, 8, 8, 8, 8, 8, 8, 8, 8, 8, 8, 8, 8, 8, 8, 8, 8, 8, 8, 6, 6, 6, 6, 6, 6, 6, 6, 6, 6, 6, 6, 6, 6, 6, 6, 6, 6, 6, 6, 7, 7, 7, 7, 7, 7, 7, 7, 7, 7, 7, 7, 7, 7, 7, 7, 7, 7, 7, 7, 8, 8, 8, 8, 8, 8, 8, 8, 8, 8, 8, 8, 8, 8, 8, 8, 8, 8, 8, 8, 6, 6, 6, 6, 6, 6, 6, 6, 6, 6, 6, 6, 6, 6, 6, 6, 6, 6, 6, 6, 7, 7, 7, 7, 7, 7, 7, 7, 7, 7, 7, 7, 7, 7, 7, 7, 7, 7, 7, 7, 8, 8, 8, 8, 8, 8, 8, 8, 8, 8, 8, 8, 8, 8, 8, 8, 8, 8, 8, 8, 6, 6, 6, 6, 6, 6, 6, 6, 6, 6, 6, 6, 6, 6, 6, 6, 6, 6, 6, 6, 7, 7, 7, 7, 7, 7, 7, 7, 7, 7, 7, 7, 7, 7, 7, 7, 7, 7, 7, 7, 8, 8, 8, 8, 8, 8, 8, 8, 8, 8, 8, 8, 8, 8, 8, 8, 8, 8, 8, 8, 6, 6, 6, 6, 6, 6, 6, 6, 6, 6, 6, 6, 6, 6, 6, 6, 6, 6, 6, 6, 7, 7, 7, 7, 7, 7, 7, 7, 7, 7, 7, 7, 7, 7, 7, 7, 7, 7, 7, 7, 8, 8, 8, 8, 8, 8, 8, 8, 8, 8, 8, 8, 8, 8, 8, 8, 8, 8, 8, 8, 6, 6, 6, 6, 6, 6, 6, 6, 6, 6, 6, 6, 6, 6, 6, 6, 6, 6, 6, 6, 7, 7, 7, 7, 7, 7, 7, 7, 7, 7, 7, 7, 7, 7, 7, 7, 7, 7, 7, 7, 8, 8, 8, 8, 8, 8, 8, 8, 8, 8, 8, 8, 8, 8, 8, 8, 8, 8, 8, 8, 6, 6, 6, 6, 6, 6, 6, 6, 6, 6, 6, 6, 6, 6, 6, 6, 6, 6, 6, 6, 7, 7, 7, 7, 7, 7, 7, 7, 7, 7, 7, 7, 7, 7, 7, 7, 7, 7, 7, 7, 8, 8, 8, 8, 8, 8, 8, 8, 8, 8, 8, 8, 8, 8, 8, 8, 8, 8, 8, 8, 6, 6, 6, 6, 6, 6, 6, 6, 6, 6, 6, 6, 6, 6, 6, 6, 6, 6, 6, 6, 7, 7, 7, 7, 7, 7, 7, 7, 7, 7, 7, 7, 7, 7, 7, 7, 7, 7, 7, 7, 8, 8, 8, 8, 8, 8, 8, 8, 8, 8, 8, 8, 8, 8, 8, 8, 8, 8, 8, 8, 6, 6, 6, 6, 6, 6, 6, 6, 6, 6, 6, 6, 6, 6, 6, 6, 6, 6, 6, 6, 7, 7, 7, 7, 7, 7, 7, 7, 7, 7, 7, 7, 7, 7, 7, 7, 7, 7, 7, 7, 8, 8, 8, 8, 8, 8, 8, 8, 8, 8, 8, 8, 8, 8, 8, 8, 8, 8, 8, 8, 6, 6, 6, 6, 6, 6, 6, 6, 6, 6, 6, 6, 6, 6, 6, 6, 6, 6, 6, 6, 7, 7, 7, 7, 7, 7, 7, 7, 7, 7, 7, 7, 7, 7, 7, 7, 7, 7, 7, 7, 8, 8, 8, 8, 8, 8, 8, 8, 8, 8, 8, 8, 8, 8, 8, 8, 8, 8, 8, 8, 6, 6, 6, 6, 6, 6, 6, 6, 6, 6, 6, 6, 6, 6, 6, 6, 6, 6, 6, 6, 7, 7, 7, 7, 7, 7, 7, 7, 7, 7, 7, 7, 7, 7, 7, 7, 7, 7, 7, 7, 8, 8, 8, 8, 8, 8, 8, 8, 8, 8, 8, 8, 8, 8, 8, 8, 8, 8, 8, 8], \"y\": [3.0, 0.0, 1.0, 1.0, 0.0, 0.0, 5.0, 27.0, 1.0, 4.0, 0.0, 0.0, 1.0, 10.0, 7.0, 8.0, 17.0, 40.0, 87.0, 45.0, 37.0, 1.0, 1.0, 3.0, 39.0, 168.0, 42.0, 368.0, 33.0, 29.0, 41.0, 31.0, 126.0, 93.0, 71.0, 54.0, 60.0, 109.0, 533.0, 457.0, 130.0, 63.0, 136.0, 396.0, 728.0, 1.976, 645.0, 4.198, 839.0, 960.0, 445.0, 194.0, 1.682, 425.0, 739.0, 679.0, 1.1, 1.3969999999999998, 2.188, 1.493, 0.0, 0.0, 0.0, 2.0, 0.0, 0.0, 0.0, 0.0, 0.0, 0.0, 0.0, 0.0, 0.0, 2.0, 4.0, 1.0, 2.0, 2.0, 5.0, 2.0, 0.0, 0.0, 0.0, 0.0, 5.0, 0.0, 0.0, 0.0, 0.0, 0.0, 0.0, 0.0, 2.0, 0.0, 0.0, 0.0, 1.0, 0.0, 3.0, 0.0, 1.0, 3.0, 4.0, 1.0, 3.0, 2.0, 2.0, 2.0, 1.0, 3.0, 1.0, 0.0, 1.0, 4.0, 0.0, 0.0, 3.0, 3.0, 5.0, 1.0, 0.0, 2.0, 0.0, 0.0, 0.0, 0.0, 5.0, 2.0, 0.0, 0.0, 0.0, 1.0, 0.0, 0.0, 7.0, 1.0, 0.0, 3.0, 2.0, 2.0, 0.0, 0.0, 0.0, 1.0, 1.0, 0.0, 2.0, 0.0, 0.0, 0.0, 0.0, 4.0, 2.0, 5.0, 3.0, 1.0, 4.0, 5.0, 1.0, 3.0, 1.0, 0.0, 3.0, 12.0, 18.0, 14.0, 9.0, 4.0, 11.0, 5.0, 4.0, 20.0, 1.0, 16.0, 19.0, 9.0, 18.0, 40.0, 37.0, 33.0, 2.0, 7.0, 6.0, 5.0, 5.0, 3.0, 12.0, 78.0, 9.0, 23.0, 7.0, 13.0, 9.0, 22.0, 45.0, 56.0, 74.0, 33.0, 90.0, 119.0, 71.0, 11.0, 39.0, 9.0, 146.0, 180.0, 177.0, 676.0, 123.0, 116.0, 108.0, 199.0, 640.0, 271.0, 234.0, 248.0, 202.0, 356.0, 1.137, 1.975, 321.0, 259.0, 180.0, 501.0, 741.0, 1.867, 1.207, 2.316, 1.422, 2.241, 861.0, 1.321, 3.727, 1.2429999999999999, 3.011, 1.276, 3.852, 4.564, 3.611, 6.316, 55.0, 64.0, 178.0, 98.0, 118.0, 140.0, 289.0, 211.0, 68.0, 270.0, 72.0, 92.0, 192.0, 345.0, 385.0, 208.0, 243.0, 242.0, 416.0, 329.0, 219.0, 107.0, 202.0, 248.0, 549.0, 261.0, 310.0, 269.0, 229.0, 811.0, 271.0, 321.0, 519.0, 578.0, 906.0, 362.0, 249.0, 306.0, 345.0, 300.0, 815.0, 453.0, 633.0, 979.0, 1.827, 1.0390000000000001, 1.43, 948.0, 995.0, 3.734, 611.0, 439.0, 2.423, 1.795, 1.835, 610.0, 674.0, 829.0, 724.0, 1.018, 1.0, 16.0, 16.0, 38.0, 13.0, 2.0, 1.0, 6.0, 0.0, 1.0, 1.0, 0.0, 3.0, 5.0, 28.0, 5.0, 19.0, 22.0, 45.0, 23.0, 76.0, 83.0, 18.0, 146.0, 12.0, 14.0, 16.0, 14.0, 1.0, 11.0, 3.0, 7.0, 44.0, 18.0, 50.0, 4.0, 47.0, 25.0, 124.0, 26.0, 93.0, 131.0, 79.0, 219.0, 111.0, 109.0, 61.0, 51.0, 50.0, 182.0, 32.0, 26.0, 202.0, 53.0, 278.0, 32.0, 155.0, 127.0, 293.0, 121.0, 2.0, 3.0, 1.0, 3.0, 7.0, 11.0, 6.0, 3.0, 2.0, 21.0, 0.0, 4.0, 21.0, 18.0, 6.0, 4.0, 6.0, 1.0, 42.0, 23.0, 17.0, 4.0, 15.0, 22.0, 33.0, 19.0, 37.0, 24.0, 10.0, 25.0, 12.0, 33.0, 85.0, 53.0, 29.0, 22.0, 27.0, 15.0, 79.0, 44.0, 48.0, 16.0, 9.0, 25.0, 53.0, 36.0, 108.0, 20.0, 40.0, 137.0, 30.0, 37.0, 159.0, 61.0, 55.0, 34.0, 99.0, 53.0, 29.0, 147.0, 6.0, 6.0, 9.0, 9.0, 18.0, 19.0, 3.0, 8.0, 5.0, 4.0, 4.0, 12.0, 3.0, 7.0, 15.0, 22.0, 9.0, 18.0, 49.0, 37.0, 37.0, 9.0, 16.0, 12.0, 9.0, 27.0, 4.0, 9.0, 11.0, 13.0, 5.0, 25.0, 5.0, 18.0, 35.0, 20.0, 17.0, 30.0, 42.0, 3.0, 38.0, 60.0, 26.0, 30.0, 60.0, 118.0, 12.0, 12.0, 29.0, 82.0, 13.0, 17.0, 39.0, 93.0, 12.0, 53.0, 47.0, 35.0, 78.0, 30.0, 172.0, 250.0, 222.0, 212.0, 302.0, 321.0, 422.0, 189.0, 70.0, 186.0, 55.0, 179.0, 278.0, 314.0, 245.0, 192.0, 318.0, 277.0, 289.0, 442.0, 512.0, 311.0, 332.0, 371.0, 686.0, 322.0, 778.0, 363.0, 169.0, 399.0, 193.0, 470.0, 941.0, 607.0, 564.0, 350.0, 446.0, 347.0, 837.0, 577.0, 2.218, 1.198, 925.0, 787.0, 1.4280000000000002, 902.0, 1.4980000000000002, 639.0, 588.0, 2.3819999999999997, 568.0, 647.0, 2.9139999999999997, 1.6130000000000002, 912.0, 488.0, 1.255, 943.0, 1.032, 1.492, 78.0, 32.0, 94.0, 100.0, 230.0, 338.0, 706.0, 529.0, 131.0, 515.0, 235.0, 279.0, 494.0, 602.0, 915.0, 498.0, 812.0, 887.0, 709.0, 885.0, 274.0, 258.0, 233.0, 549.0, 1.271, 1.103, 1.3659999999999999, 1.1520000000000001, 512.0, 1.205, 502.0, 972.0, 2.323, 1.024, 3.548, 1.111, 2.068, 1.642, 2.096, 2.521, 1.176, 895.0, 839.0, 2.037, 3.4810000000000003, 2.023, 1.889, 2.239, 1.382, 8.408999999999999, 713.0, 1.766, 6.353, 2.138, 10.395, 2.0980000000000003, 5.5920000000000005, 5.428, 3.7230000000000003, 3.875, 2.201, 2.201, 4.3580000000000005, 6.665, 7.877999999999999, 4.313, 9.812999999999999, 2.294, 856.0, 1.339, 403.0, 979.0, 1.025, 974.0, 1.651, 1.213, 1.795, 1.402, 1.4169999999999998, 2.041, 3.7119999999999997, 3.926, 1.338, 1.555, 5.6610000000000005, 5.435, 11.517000000000001, 4.172, 1.9409999999999998, 1.79, 1.117, 1.6130000000000002, 3.4419999999999997, 1.061, 2.008, 1.63, 2.255, 1.5330000000000001, 3.495, 2.79, 15.405999999999999, 18.566, 6.063, 7.7620000000000005, 14.085999999999999, 11.132, 13.603, 11.57, 6.218, 14.453, 2.875, 2.25, 14.607999999999999, 2.628, 6.195, 3.568, 7.167000000000001, 5.112, 6.228, 6.229, 82.0, 127.0, 157.0, 249.0, 517.0, 170.0, 394.0, 439.0, 89.0, 141.0, 24.0, 376.0, 149.0, 104.0, 96.0, 35.0, 84.0, 299.0, 120.0, 175.0, 360.0, 1.297, 160.0, 591.0, 935.0, 182.0, 529.0, 859.0, 289.0, 197.0, 116.0, 354.0, 589.0, 250.0, 538.0, 201.0, 193.0, 371.0, 687.0, 1.05, 228.0, 4.355, 530.0, 2.484, 3.984, 953.0, 1.4080000000000001, 4.484, 1.129, 1.8230000000000002, 456.0, 816.0, 1.7209999999999999, 552.0, 2.951, 677.0, 312.0, 1.2930000000000001, 1.4809999999999999, 1.4880000000000002, 70.0, 132.0, 135.0, 166.0, 207.0, 245.0, 209.0, 246.0, 73.0, 184.0, 48.0, 173.0, 139.0, 304.0, 219.0, 144.0, 376.0, 200.0, 263.0, 360.0, 232.0, 318.0, 345.0, 266.0, 741.0, 407.0, 625.0, 467.0, 336.0, 446.0, 194.0, 477.0, 707.0, 801.0, 669.0, 462.0, 559.0, 288.0, 1.004, 610.0, 875.0, 1.19, 769.0, 858.0, 2.041, 1.955, 1.642, 1.0290000000000001, 959.0, 2.975, 605.0, 685.0, 3.353, 2.742, 901.0, 911.0, 1.952, 1.0590000000000002, 1.433, 2.142, 58.0, 37.0, 59.0, 42.0, 149.0, 64.0, 340.0, 304.0, 78.0, 129.0, 48.0, 38.0, 94.0, 105.0, 183.0, 173.0, 319.0, 265.0, 502.0, 679.0, 638.0, 982.0, 426.0, 708.0, 772.0, 1.571, 4.436, 4.364, 615.0, 476.0, 971.0, 397.0, 1.432, 632.0, 661.0, 447.0, 825.0, 906.0, 1.579, 4.985, 6.815, 6.178, 5.484, 9.043, 15.664000000000001, 6.255, 12.812000000000001, 13.055, 7.575, 14.352, 4.435, 3.859, 18.13, 2.195, 6.9639999999999995, 2.161, 8.555, 7.912999999999999, 4.863, 11.962, 3.0, 1.0, 2.0, 0.0, 1.0, 0.0, 0.0, 0.0, 0.0, 0.0, 0.0, 0.0, 3.0, 2.0, 5.0, 3.0, 1.0, 0.0, 4.0, 0.0, 0.0, 1.0, 0.0, 8.0, 8.0, 6.0, 1.0, 0.0, 1.0, 1.0, 0.0, 3.0, 7.0, 6.0, 5.0, 1.0, 9.0, 3.0, 22.0, 2.0, 3.0, 4.0, 7.0, 34.0, 38.0, 14.0, 18.0, 0.0, 3.0, 8.0, 1.0, 4.0, 9.0, 12.0, 13.0, 3.0, 30.0, 5.0, 50.0, 3.0, 36.0, 31.0, 53.0, 43.0, 115.0, 159.0, 147.0, 114.0, 62.0, 57.0, 17.0, 105.0, 55.0, 162.0, 77.0, 52.0, 112.0, 201.0, 238.0, 169.0, 59.0, 94.0, 98.0, 122.0, 172.0, 101.0, 148.0, 155.0, 139.0, 60.0, 87.0, 34.0, 196.0, 262.0, 111.0, 168.0, 215.0, 137.0, 504.0, 891.0, 42.0, 938.0, 849.0, 342.0, 1.5930000000000002, 1.896, 1.237, 800.0, 844.0, 580.0, 205.0, 844.0, 733.0, 435.0, 522.0, 481.0, 646.0, 651.0, 1.01, 987.0, 1.0, 7.0, 4.0, 2.0, 1.0, 2.0, 4.0, 3.0, 0.0, 1.0, 0.0, 1.0, 1.0, 4.0, 12.0, 12.0, 3.0, 3.0, 4.0, 5.0, 5.0, 2.0, 0.0, 6.0, 8.0, 5.0, 13.0, 1.0, 1.0, 3.0, 0.0, 1.0, 7.0, 2.0, 11.0, 4.0, 11.0, 13.0, 17.0, 2.0, 12.0, 3.0, 31.0, 27.0, 37.0, 26.0, 41.0, 10.0, 8.0, 20.0, 2.0, 10.0, 29.0, 27.0, 27.0, 14.0, 23.0, 21.0, 42.0, 20.0, 46.0, 47.0, 18.0, 87.0, 161.0, 88.0, 239.0, 171.0, 40.0, 303.0, 33.0, 56.0, 208.0, 462.0, 834.0, 263.0, 373.0, 283.0, 153.0, 193.0, 189.0, 123.0, 75.0, 337.0, 534.0, 407.0, 564.0, 445.0, 150.0, 919.0, 97.0, 302.0, 1.696, 864.0, 1.755, 361.0, 1.177, 690.0, 754.0, 643.0, 711.0, 499.0, 415.0, 1.133, 2.28, 864.0, 1.002, 943.0, 911.0, 3.551, 290.0, 790.0, 4.035, 1.9580000000000002, 3.614, 1.015, 2.265, 2.057, 1.6469999999999998, 1.5719999999999998, 3.0, 8.0, 14.0, 13.0, 13.0, 13.0, 19.0, 16.0, 19.0, 3.0, 4.0, 33.0, 7.0, 33.0, 14.0, 17.0, 54.0, 33.0, 37.0, 68.0, 21.0, 14.0, 22.0, 57.0, 17.0, 42.0, 23.0, 20.0, 54.0, 15.0, 14.0, 56.0, 55.0, 121.0, 50.0, 58.0, 62.0, 74.0, 131.0, 70.0, 21.0, 88.0, 34.0, 129.0, 184.0, 191.0, 74.0, 98.0, 79.0, 189.0, 19.0, 91.0, 316.0, 250.0, 72.0, 74.0, 199.0, 158.0, 241.0, 164.0, 1.0, 4.0, 8.0, 13.0, 1.0, 1.0, 2.0, 0.0, 0.0, 0.0, 0.0, 0.0, 1.0, 1.0, 5.0, 1.0, 2.0, 5.0, 4.0, 3.0, 5.0, 7.0, 5.0, 25.0, 7.0, 7.0, 5.0, 2.0, 0.0, 7.0, 0.0, 0.0, 7.0, 0.0, 3.0, 0.0, 2.0, 3.0, 13.0, 4.0, 4.0, 40.0, 29.0, 55.0, 48.0, 97.0, 15.0, 9.0, 13.0, 26.0, 2.0, 1.0, 24.0, 10.0, 23.0, 2.0, 21.0, 16.0, 24.0, 21.0, 0.0, 9.0, 0.0, 1.0, 4.0, 14.0, 52.0, 50.0, 7.0, 10.0, 16.0, 30.0, 4.0, 12.0, 86.0, 10.0, 62.0, 68.0, 261.0, 103.0, 0.0, 10.0, 6.0, 6.0, 93.0, 55.0, 156.0, 47.0, 45.0, 7.0, 25.0, 47.0, 34.0, 45.0, 134.0, 42.0, 209.0, 60.0, 865.0, 885.0, 9.0, 24.0, 18.0, 36.0, 824.0, 1.419, 403.0, 120.0, 642.0, 258.0, 56.0, 1.057, 267.0, 116.0, 410.0, 156.0, 1.168, 414.0, 1.111, 819.0, 26.0, 10.0, 54.0, 31.0, 141.0, 74.0, 151.0, 153.0, 40.0, 71.0, 11.0, 13.0, 44.0, 130.0, 32.0, 22.0, 92.0, 119.0, 170.0, 192.0, 365.0, 135.0, 117.0, 74.0, 539.0, 516.0, 1.2329999999999999, 798.0, 314.0, 187.0, 138.0, 110.0, 747.0, 293.0, 205.0, 117.0, 192.0, 423.0, 969.0, 1.28, 2.254, 1.976, 2.197, 2.1319999999999997, 3.465, 7.06, 6.893, 6.672000000000001, 3.1239999999999997, 4.7860000000000005, 1.251, 484.0, 4.388, 1.161, 2.209, 885.0, 3.0380000000000003, 3.762, 3.675, 4.287, 0.0, 3.0, 0.0, 1.0, 0.0, 0.0, 6.0, 5.0, 0.0, 1.0, 0.0, 16.0, 0.0, 6.0, 22.0, 6.0, 4.0, 3.0, 7.0, 4.0, 1.0, 4.0, 0.0, 1.0, 7.0, 0.0, 2.0, 2.0, 0.0, 3.0, 0.0, 18.0, 1.0, 9.0, 2.0, 4.0, 9.0, 5.0, 0.0, 3.0, 0.0, 1.0, 9.0, 4.0, 7.0, 2.0, 18.0, 9.0, 4.0, 2.0, 4.0, 29.0, 3.0, 39.0, 4.0, 3.0, 12.0, 11.0, 11.0, 35.0, 2.0, 0.0, 2.0, 1.0, 0.0, 68.0, 127.0, 58.0, 32.0, 11.0, 2.0, 14.0, 1.0, 26.0, 42.0, 31.0, 3.0, 104.0, 79.0, 70.0, 0.0, 2.0, 21.0, 5.0, 82.0, 43.0, 94.0, 90.0, 74.0, 12.0, 46.0, 26.0, 31.0, 31.0, 42.0, 69.0, 82.0, 45.0, 480.0, 591.0, 0.0, 51.0, 69.0, 24.0, 702.0, 1.5130000000000001, 728.0, 391.0, 728.0, 462.0, 51.0, 759.0, 511.0, 175.0, 398.0, 236.0, 459.0, 379.0, 765.0, 713.0, 451.0, 522.0, 606.0, 346.0, 562.0, 132.0, 231.0, 236.0, 97.0, 91.0, 25.0, 125.0, 143.0, 210.0, 30.0, 47.0, 331.0, 147.0, 197.0, 217.0, 596.0, 684.0, 770.0, 538.0, 448.0, 171.0, 342.0, 284.0, 245.0, 94.0, 126.0, 110.0, 600.0, 479.0, 179.0, 181.0, 476.0, 149.0, 687.0, 802.0, 581.0, 1.2109999999999999, 915.0, 595.0, 719.0, 934.0, 794.0, 522.0, 572.0, 470.0, 153.0, 289.0, 1.8090000000000002, 1.067, 435.0, 497.0, 1.4580000000000002, 643.0, 797.0, 981.0, 0.0, 0.0, 0.0, 0.0, 0.0, 0.0, 0.0, 0.0, 0.0, 0.0, 0.0, 2.0, 0.0, 1.0, 3.0, 1.0, 0.0, 3.0, 1.0, 0.0, 0.0, 0.0, 0.0, 0.0, 0.0, 0.0, 0.0, 0.0, 0.0, 0.0, 0.0, 0.0, 0.0, 0.0, 1.0, 0.0, 0.0, 0.0, 0.0, 0.0, 0.0, 0.0, 0.0, 0.0, 2.0, 0.0, 0.0, 0.0, 0.0, 0.0, 0.0, 0.0, 0.0, 1.0, 0.0, 0.0, 0.0, 0.0, 6.0, 0.0, 252.0, 113.0, 278.0, 305.0, 396.0, 329.0, 1.079, 669.0, 289.0, 591.0, 282.0, 421.0, 767.0, 717.0, 922.0, 873.0, 1.3719999999999999, 1.15, 1.148, 1.32, 640.0, 373.0, 500.0, 830.0, 976.0, 762.0, 1.389, 1.082, 430.0, 982.0, 441.0, 989.0, 2.408, 1.001, 1.693, 1.393, 1.4040000000000001, 1.217, 2.737, 2.397, 3.747, 1.284, 1.949, 2.242, 3.0269999999999997, 1.339, 1.776, 1.84, 1.2770000000000001, 4.747, 845.0, 1.124, 7.865, 1.6680000000000001, 4.28, 1.81, 2.917, 2.54, 3.213, 3.536]}, {\"boxpoints\": \"all\", \"jitter\": 0.5, \"line\": {\"width\": 2}, \"marker\": {\"color\": \"#FF851B\", \"size\": 2}, \"name\": \"Outono\", \"type\": \"box\", \"whiskerwidth\": 0.2, \"x\": [9, 9, 9, 9, 9, 9, 9, 9, 9, 9, 9, 9, 9, 9, 9, 9, 9, 9, 9, 9, 10, 10, 10, 10, 10, 10, 10, 10, 10, 10, 10, 10, 10, 10, 10, 10, 10, 10, 10, 10, 11, 11, 11, 11, 11, 11, 11, 11, 11, 11, 11, 11, 11, 11, 11, 11, 11, 11, 11, 11, 9, 9, 9, 9, 9, 9, 9, 9, 9, 9, 9, 9, 9, 9, 9, 9, 9, 9, 9, 9, 10, 10, 10, 10, 10, 10, 10, 10, 10, 10, 10, 10, 10, 10, 10, 10, 10, 10, 10, 10, 11, 11, 11, 11, 11, 11, 11, 11, 11, 11, 11, 11, 11, 11, 11, 11, 11, 11, 11, 11, 9, 9, 9, 9, 9, 9, 9, 9, 9, 9, 9, 9, 9, 9, 9, 9, 9, 9, 9, 9, 10, 10, 10, 10, 10, 10, 10, 10, 10, 10, 10, 10, 10, 10, 10, 10, 10, 10, 10, 10, 11, 11, 11, 11, 11, 11, 11, 11, 11, 11, 11, 11, 11, 11, 11, 11, 11, 11, 11, 11, 9, 9, 9, 9, 9, 9, 9, 9, 9, 9, 9, 9, 9, 9, 9, 9, 9, 9, 9, 9, 10, 10, 10, 10, 10, 10, 10, 10, 10, 10, 10, 10, 10, 10, 10, 10, 10, 10, 10, 10, 11, 11, 11, 11, 11, 11, 11, 11, 11, 11, 11, 11, 11, 11, 11, 11, 11, 11, 11, 11, 9, 9, 9, 9, 9, 9, 9, 9, 9, 9, 9, 9, 9, 9, 9, 9, 9, 9, 9, 9, 10, 10, 10, 10, 10, 10, 10, 10, 10, 10, 10, 10, 10, 10, 10, 10, 10, 10, 10, 10, 11, 11, 11, 11, 11, 11, 11, 11, 11, 11, 11, 11, 11, 11, 11, 11, 11, 11, 11, 11, 9, 9, 9, 9, 9, 9, 9, 9, 9, 9, 9, 9, 9, 9, 9, 9, 9, 9, 9, 9, 10, 10, 10, 10, 10, 10, 10, 10, 10, 10, 10, 10, 10, 10, 10, 10, 10, 10, 10, 10, 11, 11, 11, 11, 11, 11, 11, 11, 11, 11, 11, 11, 11, 11, 11, 11, 11, 11, 11, 11, 9, 9, 9, 9, 9, 9, 9, 9, 9, 9, 9, 9, 9, 9, 9, 9, 9, 9, 9, 9, 10, 10, 10, 10, 10, 10, 10, 10, 10, 10, 10, 10, 10, 10, 10, 10, 10, 10, 10, 10, 11, 11, 11, 11, 11, 11, 11, 11, 11, 11, 11, 11, 11, 11, 11, 11, 11, 11, 11, 11, 9, 9, 9, 9, 9, 9, 9, 9, 9, 9, 9, 9, 9, 9, 9, 9, 9, 9, 9, 9, 10, 10, 10, 10, 10, 10, 10, 10, 10, 10, 10, 10, 10, 10, 10, 10, 10, 10, 10, 10, 11, 11, 11, 11, 11, 11, 11, 11, 11, 11, 11, 11, 11, 11, 11, 11, 11, 11, 11, 11, 9, 9, 9, 9, 9, 9, 9, 9, 9, 9, 9, 9, 9, 9, 9, 9, 9, 9, 9, 9, 10, 10, 10, 10, 10, 10, 10, 10, 10, 10, 10, 10, 10, 10, 10, 10, 10, 10, 10, 10, 11, 11, 11, 11, 11, 11, 11, 11, 11, 11, 11, 11, 11, 11, 11, 11, 11, 11, 11, 11, 9, 9, 9, 9, 9, 9, 9, 9, 9, 9, 9, 9, 9, 9, 9, 9, 9, 9, 9, 9, 10, 10, 10, 10, 10, 10, 10, 10, 10, 10, 10, 10, 10, 10, 10, 10, 10, 10, 10, 10, 11, 11, 11, 11, 11, 11, 11, 11, 11, 11, 11, 11, 11, 11, 11, 11, 11, 11, 11, 11, 9, 9, 9, 9, 9, 9, 9, 9, 9, 9, 9, 9, 9, 9, 9, 9, 9, 9, 9, 9, 10, 10, 10, 10, 10, 10, 10, 10, 10, 10, 10, 10, 10, 10, 10, 10, 10, 10, 10, 10, 11, 11, 11, 11, 11, 11, 11, 11, 11, 11, 11, 11, 11, 11, 11, 11, 11, 11, 11, 11, 9, 9, 9, 9, 9, 9, 9, 9, 9, 9, 9, 9, 9, 9, 9, 9, 9, 9, 9, 9, 10, 10, 10, 10, 10, 10, 10, 10, 10, 10, 10, 10, 10, 10, 10, 10, 10, 10, 10, 10, 11, 11, 11, 11, 11, 11, 11, 11, 11, 11, 11, 11, 11, 11, 11, 11, 11, 11, 11, 11, 9, 9, 9, 9, 9, 9, 9, 9, 9, 9, 9, 9, 9, 9, 9, 9, 9, 9, 9, 9, 10, 10, 10, 10, 10, 10, 10, 10, 10, 10, 10, 10, 10, 10, 10, 10, 10, 10, 10, 10, 11, 11, 11, 11, 11, 11, 11, 11, 11, 11, 11, 11, 11, 11, 11, 11, 11, 11, 11, 11, 9, 9, 9, 9, 9, 9, 9, 9, 9, 9, 9, 9, 9, 9, 9, 9, 9, 9, 9, 9, 10, 10, 10, 10, 10, 10, 10, 10, 10, 10, 10, 10, 10, 10, 10, 10, 10, 10, 10, 10, 11, 11, 11, 11, 11, 11, 11, 11, 11, 11, 11, 11, 11, 11, 11, 11, 11, 11, 11, 11, 9, 9, 9, 9, 9, 9, 9, 9, 9, 9, 9, 9, 9, 9, 9, 9, 9, 9, 9, 9, 10, 10, 10, 10, 10, 10, 10, 10, 10, 10, 10, 10, 10, 10, 10, 10, 10, 10, 10, 10, 11, 11, 11, 11, 11, 11, 11, 11, 11, 11, 11, 11, 11, 11, 11, 11, 11, 11, 11, 11, 9, 9, 9, 9, 9, 9, 9, 9, 9, 9, 9, 9, 9, 9, 9, 9, 9, 9, 9, 9, 10, 10, 10, 10, 10, 10, 10, 10, 10, 10, 10, 10, 10, 10, 10, 10, 10, 10, 10, 10, 11, 11, 11, 11, 11, 11, 11, 11, 11, 11, 11, 11, 11, 11, 11, 11, 11, 11, 11, 11, 9, 9, 9, 9, 9, 9, 9, 9, 9, 9, 9, 9, 9, 9, 9, 9, 9, 9, 9, 9, 10, 10, 10, 10, 10, 10, 10, 10, 10, 10, 10, 10, 10, 10, 10, 10, 10, 10, 10, 10, 11, 11, 11, 11, 11, 11, 11, 11, 11, 11, 11, 11, 11, 11, 11, 11, 11, 11, 11, 11, 9, 9, 9, 9, 9, 9, 9, 9, 9, 9, 9, 9, 9, 9, 9, 9, 9, 9, 9, 9, 10, 10, 10, 10, 10, 10, 10, 10, 10, 10, 10, 10, 10, 10, 10, 10, 10, 10, 10, 10, 11, 11, 11, 11, 11, 11, 11, 11, 11, 11, 11, 11, 11, 11, 11, 11, 11, 11, 11, 11, 9, 9, 9, 9, 9, 9, 9, 9, 9, 9, 9, 9, 9, 9, 9, 9, 9, 9, 9, 9, 10, 10, 10, 10, 10, 10, 10, 10, 10, 10, 10, 10, 10, 10, 10, 10, 10, 10, 10, 10, 11, 11, 11, 11, 11, 11, 11, 11, 11, 11, 11, 11, 11, 11, 11, 11, 11, 11, 11, 11, 9, 9, 9, 9, 9, 9, 9, 9, 9, 9, 9, 9, 9, 9, 9, 9, 9, 9, 9, 9, 10, 10, 10, 10, 10, 10, 10, 10, 10, 10, 10, 10, 10, 10, 10, 10, 10, 10, 10, 10, 11, 11, 11, 11, 11, 11, 11, 11, 11, 11, 11, 11, 11, 11, 11, 11, 11, 11, 11, 11, 9, 9, 9, 9, 9, 9, 9, 9, 9, 9, 9, 9, 9, 9, 9, 9, 9, 9, 9, 9, 10, 10, 10, 10, 10, 10, 10, 10, 10, 10, 10, 10, 10, 10, 10, 10, 10, 10, 10, 10, 11, 11, 11, 11, 11, 11, 11, 11, 11, 11, 11, 11, 11, 11, 11, 11, 11, 11, 11, 11, 9, 9, 9, 9, 9, 9, 9, 9, 9, 9, 9, 9, 9, 9, 9, 9, 9, 9, 9, 9, 10, 10, 10, 10, 10, 10, 10, 10, 10, 10, 10, 10, 10, 10, 10, 10, 10, 10, 10, 10, 11, 11, 11, 11, 11, 11, 11, 11, 11, 11, 11, 11, 11, 11, 11, 11, 11, 11, 11, 11, 9, 9, 9, 9, 9, 9, 9, 9, 9, 9, 9, 9, 9, 9, 9, 9, 9, 9, 9, 9, 10, 10, 10, 10, 10, 10, 10, 10, 10, 10, 10, 10, 10, 10, 10, 10, 10, 10, 10, 10, 11, 11, 11, 11, 11, 11, 11, 11, 11, 11, 11, 11, 11, 11, 11, 11, 11, 11, 11, 11, 9, 9, 9, 9, 9, 9, 9, 9, 9, 9, 9, 9, 9, 9, 9, 9, 9, 9, 9, 9, 10, 10, 10, 10, 10, 10, 10, 10, 10, 10, 10, 10, 10, 10, 10, 10, 10, 10, 10, 10, 11, 11, 11, 11, 11, 11, 11, 11, 11, 11, 11, 11, 11, 11, 11, 11, 11, 11, 11, 11, 9, 9, 9, 9, 9, 9, 9, 9, 9, 9, 9, 9, 9, 9, 9, 9, 9, 9, 9, 9, 10, 10, 10, 10, 10, 10, 10, 10, 10, 10, 10, 10, 10, 10, 10, 10, 10, 10, 10, 10, 11, 11, 11, 11, 11, 11, 11, 11, 11, 11, 11, 11, 11, 11, 11, 11, 11, 11, 11, 11, 9, 9, 9, 9, 9, 9, 9, 9, 9, 9, 9, 9, 9, 9, 9, 9, 9, 9, 9, 9, 10, 10, 10, 10, 10, 10, 10, 10, 10, 10, 10, 10, 10, 10, 10, 10, 10, 10, 10, 10, 11, 11, 11, 11, 11, 11, 11, 11, 11, 11, 11, 11, 11, 11, 11, 11, 11, 11, 11, 11, 9, 9, 9, 9, 9, 9, 9, 9, 9, 9, 9, 9, 9, 9, 9, 9, 9, 9, 9, 9, 10, 10, 10, 10, 10, 10, 10, 10, 10, 10, 10, 10, 10, 10, 10, 10, 10, 10, 10, 10, 11, 11, 11, 11, 11, 11, 11, 11, 11, 11, 11, 11, 11, 11, 11, 11, 11, 11, 11, 11], \"y\": [509.0, 209.0, 265.0, 290.0, 1.949, 3.9419999999999997, 1.9780000000000002, 4.253, 2.37, 2.08, 1.666, 1.265, 2.531, 1.204, 1.996, 2.136, 2.175, 2.928, 3.5860000000000003, 3.429, 44.0, 60.0, 18.0, 137.0, 687.0, 740.0, 461.0, 547.0, 316.0, 203.0, 652.0, 565.0, 292.0, 97.0, 348.0, 258.0, 406.0, 905.0, 509.0, 1.508, 0.0, 0.0, 0.0, 1.0, 86.0, 15.0, 10.0, 14.0, 18.0, 7.0, 4.0, 33.0, 39.0, 74.0, 13.0, 79.0, 56.0, 115.0, 46.0, 98.0, 14.0, 3.0, 22.0, 5.0, 14.0, 8.0, 5.0, 7.0, 4.0, 2.0, 9.0, 13.0, 5.0, 5.0, 6.0, 4.0, 11.0, 7.0, 18.0, 4.0, 20.0, 4.0, 13.0, 15.0, 30.0, 10.0, 12.0, 17.0, 32.0, 6.0, 18.0, 30.0, 16.0, 23.0, 28.0, 25.0, 7.0, 40.0, 74.0, 14.0, 19.0, 15.0, 2.0, 22.0, 50.0, 17.0, 28.0, 25.0, 12.0, 15.0, 37.0, 55.0, 31.0, 23.0, 95.0, 10.0, 14.0, 162.0, 76.0, 10.0, 20.0, 4.0, 19.0, 95.0, 73.0, 88.0, 67.0, 97.0, 112.0, 61.0, 83.0, 188.0, 63.0, 128.0, 168.0, 85.0, 137.0, 192.0, 142.0, 95.0, 42.0, 25.0, 42.0, 194.0, 557.0, 355.0, 412.0, 335.0, 405.0, 162.0, 395.0, 765.0, 265.0, 304.0, 475.0, 385.0, 480.0, 827.0, 793.0, 468.0, 131.0, 26.0, 157.0, 406.0, 1.0959999999999999, 750.0, 949.0, 685.0, 207.0, 198.0, 266.0, 1.0190000000000001, 339.0, 282.0, 969.0, 341.0, 484.0, 1.3, 1.161, 858.0, 267.0, 216.0, 189.0, 166.0, 928.0, 1.401, 911.0, 2.812, 2.218, 1.36, 998.0, 3.091, 2.781, 1.295, 2.392, 1.739, 3.057, 5.882000000000001, 3.1189999999999998, 4.033, 83.0, 479.0, 145.0, 332.0, 695.0, 725.0, 710.0, 545.0, 721.0, 215.0, 632.0, 2.189, 889.0, 694.0, 1.238, 1.202, 952.0, 2.494, 2.105, 1.581, 6.0, 32.0, 27.0, 244.0, 259.0, 169.0, 209.0, 261.0, 59.0, 90.0, 39.0, 973.0, 354.0, 399.0, 682.0, 220.0, 676.0, 1.054, 591.0, 552.0, 2.718, 1.275, 2.285, 3.964, 6.439, 8.847000000000001, 6.433, 4.066, 3.0060000000000002, 7.438, 4.837, 3.61, 5.3229999999999995, 7.086, 7.495, 2.681, 2.6039999999999996, 7.956, 1.819, 1.791, 1.969, 1.307, 3.35, 1.6869999999999998, 5.414, 4.263999999999999, 4.81, 8.405, 2.079, 4.981, 7.691, 2.552, 5.263999999999999, 2.166, 4.607, 1.969, 2.763, 4.989, 1.415, 4.005, 49.0, 49.0, 114.0, 699.0, 1.02, 533.0, 1.736, 1.595, 239.0, 2.126, 3.175, 402.0, 605.0, 176.0, 168.0, 288.0, 348.0, 1.705, 408.0, 174.0, 590.0, 124.0, 127.0, 801.0, 172.0, 384.0, 144.0, 185.0, 237.0, 241.0, 177.0, 101.0, 357.0, 239.0, 609.0, 177.0, 155.0, 214.0, 370.0, 505.0, 1.014, 309.0, 875.0, 2.045, 1.6059999999999999, 1.761, 1.217, 1.3780000000000001, 581.0, 964.0, 816.0, 435.0, 502.0, 415.0, 1.104, 466.0, 517.0, 658.0, 1.31, 949.0, 575.0, 524.0, 669.0, 2.456, 2.715, 3.327, 2.9, 2.483, 1.012, 1.443, 1.7530000000000001, 1.653, 1.652, 1.561, 995.0, 1.081, 829.0, 1.081, 1.328, 812.0, 33.0, 12.0, 3.0, 12.0, 33.0, 17.0, 100.0, 23.0, 20.0, 73.0, 54.0, 5.0, 196.0, 133.0, 64.0, 31.0, 72.0, 76.0, 58.0, 122.0, 3.0, 8.0, 18.0, 0.0, 19.0, 12.0, 18.0, 18.0, 1.0, 13.0, 6.0, 3.0, 6.0, 0.0, 15.0, 3.0, 34.0, 21.0, 9.0, 66.0, 0.0, 1.0, 0.0, 0.0, 1.0, 0.0, 0.0, 2.0, 0.0, 0.0, 4.0, 0.0, 0.0, 1.0, 0.0, 0.0, 0.0, 3.0, 1.0, 0.0, 108.0, 64.0, 14.0, 38.0, 46.0, 252.0, 47.0, 8.0, 87.0, 63.0, 78.0, 57.0, 53.0, 108.0, 48.0, 30.0, 61.0, 228.0, 128.0, 58.0, 20.0, 23.0, 88.0, 19.0, 113.0, 159.0, 48.0, 62.0, 10.0, 79.0, 100.0, 13.0, 32.0, 38.0, 62.0, 37.0, 89.0, 307.0, 58.0, 56.0, 4.0, 9.0, 3.0, 3.0, 22.0, 49.0, 42.0, 0.0, 0.0, 112.0, 3.0, 18.0, 3.0, 6.0, 7.0, 11.0, 20.0, 141.0, 8.0, 3.0, 2.867, 1.8980000000000001, 1.2930000000000001, 1.8630000000000002, 3.52, 1.662, 2.965, 1.341, 1.463, 3.745, 1.255, 685.0, 5.075, 2.259, 2.452, 684.0, 1.6869999999999998, 2.296, 1.703, 3.238, 1.034, 743.0, 905.0, 479.0, 1.367, 1.183, 1.275, 1.7169999999999999, 178.0, 1.195, 1.2309999999999999, 367.0, 1.227, 476.0, 1.524, 606.0, 1.9469999999999998, 1.807, 522.0, 2.401, 47.0, 110.0, 26.0, 15.0, 192.0, 168.0, 291.0, 144.0, 91.0, 79.0, 90.0, 89.0, 67.0, 59.0, 57.0, 183.0, 181.0, 547.0, 123.0, 117.0, 3.935, 1.739, 1.365, 4.618, 3.181, 5.877999999999999, 4.673, 6.292000000000001, 2.907, 8.524, 2.761, 2.404, 9.795, 4.632, 7.626, 3.88, 4.373, 6.422999999999999, 3.1660000000000004, 14.825, 5.1370000000000005, 3.208, 2.654, 6.6610000000000005, 5.182, 6.085, 3.6039999999999996, 6.472, 3.0239999999999996, 4.772, 3.498, 1.861, 3.228, 2.404, 5.0, 2.918, 5.812, 6.746, 5.351, 6.011, 2.237, 1.494, 2.267, 3.525, 5.83, 4.928999999999999, 6.398, 4.769, 2.004, 2.2969999999999997, 2.331, 5.0, 4.005, 2.261, 2.01, 2.529, 3.8689999999999998, 4.35, 3.9819999999999998, 2.3, 10.363, 11.729000000000001, 6.251, 8.49, 11.034, 15.79, 24.994, 20.551, 12.661, 25.963, 7.965, 3.1289999999999996, 18.366, 6.332000000000001, 10.344000000000001, 5.5760000000000005, 7.081, 11.068, 8.98, 23.945, 2.707, 6.109, 6.062, 6.542999999999999, 9.375, 5.341, 9.295, 7.765, 2.327, 4.89, 6.3260000000000005, 2.5789999999999997, 4.465, 2.01, 2.8369999999999997, 1.986, 5.281000000000001, 6.49, 2.7489999999999997, 4.8, 182.0, 842.0, 502.0, 373.0, 2.905, 2.097, 2.405, 1.368, 1.031, 299.0, 190.0, 588.0, 768.0, 1.103, 375.0, 1.064, 1.018, 1.93, 918.0, 813.0, 457.0, 2.969, 510.0, 1.383, 2.252, 1.124, 2.511, 1.87, 1.078, 4.446000000000001, 1.62, 1.146, 1.505, 1.072, 2.2640000000000002, 1.074, 365.0, 1.482, 2.383, 2.984, 576.0, 2.053, 657.0, 563.0, 2.173, 541.0, 960.0, 647.0, 244.0, 668.0, 432.0, 854.0, 597.0, 276.0, 652.0, 378.0, 581.0, 507.0, 1.2, 685.0, 306.0, 1.194, 274.0, 220.0, 1.47, 380.0, 208.0, 159.0, 83.0, 82.0, 50.0, 439.0, 259.0, 445.0, 115.0, 423.0, 190.0, 276.0, 258.0, 133.0, 1.9809999999999999, 2.6860000000000004, 1.08, 1.597, 3.1, 7.091, 4.3389999999999995, 2.0469999999999997, 2.78, 5.088, 2.552, 1.31, 5.059, 5.978, 3.219, 1.656, 3.4539999999999997, 3.088, 2.093, 4.697, 1.093, 1.3630000000000002, 1.954, 528.0, 4.788, 5.391, 2.736, 6.546, 616.0, 3.467, 3.787, 1.013, 2.048, 1.206, 3.97, 1.2209999999999999, 4.735, 3.708, 948.0, 3.062, 32.0, 271.0, 43.0, 62.0, 417.0, 399.0, 914.0, 422.0, 59.0, 1.305, 892.0, 246.0, 82.0, 153.0, 220.0, 277.0, 398.0, 1.453, 126.0, 136.0, 6.237, 4.419, 2.569, 6.138999999999999, 5.609, 8.447000000000001, 9.471, 9.032, 8.372, 14.59, 6.294, 6.051, 10.81, 5.185, 6.87, 3.36, 6.787000000000001, 11.068, 3.9530000000000003, 25.004, 3.665, 5.026, 4.313, 5.096, 5.189, 3.803, 4.726, 5.083, 5.9639999999999995, 2.504, 6.653, 6.3420000000000005, 3.843, 3.141, 3.714, 4.921, 6.4479999999999995, 7.781000000000001, 5.281000000000001, 7.627999999999999, 1.861, 2.682, 3.366, 4.938, 7.996, 6.195, 9.842, 4.968, 2.883, 2.89, 2.403, 10.012, 4.417, 3.043, 6.156000000000001, 3.688, 7.767, 9.642999999999999, 7.879, 9.079, 50.0, 14.0, 9.0, 98.0, 63.0, 81.0, 34.0, 13.0, 27.0, 22.0, 21.0, 28.0, 37.0, 55.0, 71.0, 25.0, 51.0, 48.0, 131.0, 30.0, 179.0, 48.0, 125.0, 279.0, 193.0, 381.0, 190.0, 155.0, 135.0, 111.0, 80.0, 117.0, 150.0, 200.0, 136.0, 58.0, 70.0, 121.0, 304.0, 123.0, 46.0, 38.0, 65.0, 294.0, 238.0, 538.0, 331.0, 280.0, 215.0, 256.0, 175.0, 428.0, 451.0, 359.0, 130.0, 95.0, 111.0, 206.0, 132.0, 101.0, 61.0, 878.0, 381.0, 258.0, 1.071, 2.4459999999999997, 1.36, 386.0, 866.0, 960.0, 413.0, 149.0, 270.0, 913.0, 459.0, 476.0, 443.0, 599.0, 1.371, 1.706, 61.0, 452.0, 658.0, 209.0, 399.0, 1.228, 666.0, 157.0, 327.0, 194.0, 78.0, 424.0, 230.0, 256.0, 145.0, 233.0, 411.0, 158.0, 193.0, 134.0, 143.0, 447.0, 85.0, 89.0, 425.0, 503.0, 388.0, 597.0, 60.0, 59.0, 39.0, 90.0, 183.0, 138.0, 142.0, 126.0, 68.0, 18.0, 275.0, 292.0, 177.0, 64.0, 130.0, 298.0, 374.0, 510.0, 192.0, 154.0, 147.0, 164.0, 92.0, 164.0, 179.0, 243.0, 192.0, 143.0, 63.0, 116.0, 171.0, 69.0, 372.0, 180.0, 411.0, 461.0, 638.0, 859.0, 545.0, 408.0, 310.0, 702.0, 274.0, 254.0, 347.0, 461.0, 222.0, 161.0, 174.0, 194.0, 319.0, 256.0, 141.0, 41.0, 64.0, 208.0, 521.0, 560.0, 465.0, 452.0, 385.0, 359.0, 363.0, 486.0, 831.0, 352.0, 181.0, 110.0, 111.0, 315.0, 191.0, 66.0, 1.9909999999999999, 872.0, 1.099, 2.401, 2.475, 3.3989999999999996, 2.662, 3.136, 1.618, 4.078, 1.472, 1.709, 5.392, 4.402, 4.479, 2.311, 2.536, 5.827999999999999, 1.3940000000000001, 3.4219999999999997, 2.5860000000000003, 1.4380000000000002, 2.5580000000000003, 3.742, 2.7569999999999997, 2.332, 2.144, 3.263, 1.443, 2.331, 1.83, 913.0, 3.863, 1.484, 2.506, 1.2690000000000001, 1.788, 4.0680000000000005, 2.5980000000000003, 3.0039999999999996, 424.0, 334.0, 450.0, 1.484, 1.1740000000000002, 1.248, 1.798, 1.599, 740.0, 939.0, 594.0, 1.3359999999999999, 1.4169999999999998, 825.0, 447.0, 640.0, 717.0, 897.0, 1.126, 449.0, 44.0, 192.0, 16.0, 60.0, 45.0, 166.0, 205.0, 46.0, 197.0, 223.0, 132.0, 90.0, 353.0, 510.0, 172.0, 117.0, 318.0, 85.0, 195.0, 728.0, 6.0, 30.0, 25.0, 33.0, 313.0, 81.0, 26.0, 116.0, 12.0, 137.0, 42.0, 18.0, 35.0, 114.0, 163.0, 44.0, 500.0, 96.0, 30.0, 238.0, 6.0, 16.0, 2.0, 4.0, 11.0, 5.0, 49.0, 12.0, 1.0, 1.0, 0.0, 27.0, 23.0, 20.0, 13.0, 28.0, 36.0, 6.0, 19.0, 43.0, 51.0, 35.0, 17.0, 45.0, 52.0, 112.0, 47.0, 37.0, 50.0, 50.0, 17.0, 29.0, 50.0, 22.0, 41.0, 7.0, 30.0, 36.0, 44.0, 48.0, 55.0, 40.0, 28.0, 34.0, 140.0, 276.0, 89.0, 168.0, 85.0, 88.0, 53.0, 84.0, 111.0, 76.0, 74.0, 71.0, 75.0, 129.0, 129.0, 85.0, 41.0, 62.0, 9.0, 41.0, 178.0, 366.0, 164.0, 249.0, 148.0, 130.0, 82.0, 172.0, 212.0, 144.0, 69.0, 77.0, 124.0, 105.0, 93.0, 89.0, 60.0, 19.0, 27.0, 2.0, 226.0, 828.0, 431.0, 189.0, 444.0, 573.0, 97.0, 39.0, 250.0, 449.0, 113.0, 290.0, 224.0, 222.0, 628.0, 343.0, 169.0, 56.0, 10.0, 13.0, 10.0, 360.0, 680.0, 83.0, 160.0, 21.0, 135.0, 148.0, 95.0, 74.0, 91.0, 104.0, 110.0, 70.0, 93.0, 101.0, 28.0, 103.0, 18.0, 49.0, 117.0, 121.0, 161.0, 227.0, 27.0, 13.0, 14.0, 4.0, 90.0, 117.0, 74.0, 110.0, 68.0, 30.0, 105.0, 137.0, 3.753, 3.062, 2.438, 1.9269999999999998, 7.067, 6.89, 13.05, 13.972000000000001, 9.92, 6.832000000000001, 3.7260000000000004, 1.869, 4.893, 1.7819999999999998, 2.471, 1.776, 2.8, 6.129, 4.208, 5.638, 483.0, 1.8840000000000001, 644.0, 796.0, 3.554, 4.962, 3.094, 2.559, 1.148, 2.023, 1.482, 1.444, 1.307, 822.0, 1.229, 555.0, 1.063, 2.5980000000000003, 1.844, 2.19, 3.0, 41.0, 13.0, 91.0, 639.0, 526.0, 452.0, 465.0, 253.0, 53.0, 78.0, 128.0, 238.0, 245.0, 174.0, 108.0, 202.0, 1.002, 401.0, 372.0, 2.0, 3.0, 12.0, 1.0, 48.0, 6.0, 9.0, 72.0, 40.0, 9.0, 17.0, 117.0, 18.0, 53.0, 67.0, 18.0, 67.0, 77.0, 19.0, 43.0, 1.0, 10.0, 25.0, 13.0, 191.0, 14.0, 53.0, 88.0, 135.0, 15.0, 78.0, 197.0, 64.0, 65.0, 152.0, 63.0, 61.0, 181.0, 101.0, 156.0, 1.0, 15.0, 32.0, 76.0, 133.0, 27.0, 135.0, 135.0, 26.0, 112.0, 39.0, 312.0, 27.0, 121.0, 187.0, 106.0, 143.0, 280.0, 71.0, 327.0, 6.0, 101.0, 36.0, 18.0, 416.0, 1.339, 755.0, 116.0, 530.0, 617.0, 233.0, 47.0, 198.0, 450.0, 188.0, 303.0, 208.0, 156.0, 644.0, 626.0, 4.0, 16.0, 55.0, 26.0, 42.0, 669.0, 704.0, 197.0, 269.0, 35.0, 56.0, 252.0, 76.0, 102.0, 34.0, 107.0, 122.0, 21.0, 56.0, 51.0, 21.0, 84.0, 19.0, 66.0, 348.0, 347.0, 279.0, 384.0, 45.0, 26.0, 16.0, 61.0, 88.0, 79.0, 72.0, 84.0, 43.0, 9.0, 156.0, 152.0, 525.0, 911.0, 582.0, 425.0, 302.0, 977.0, 809.0, 231.0, 694.0, 495.0, 486.0, 116.0, 1.6769999999999998, 1.1079999999999999, 813.0, 560.0, 882.0, 368.0, 490.0, 2.8680000000000003, 434.0, 763.0, 647.0, 444.0, 733.0, 422.0, 195.0, 221.0, 153.0, 281.0, 87.0, 64.0, 260.0, 188.0, 206.0, 127.0, 887.0, 213.0, 177.0, 179.0, 488.0, 398.0, 96.0, 168.0, 72.0, 155.0, 144.0, 163.0, 43.0, 50.0, 20.0, 83.0, 104.0, 87.0, 50.0, 120.0, 56.0, 21.0, 39.0, 37.0, 0.0, 0.0, 0.0, 1.0, 0.0, 3.0, 0.0, 2.0, 0.0, 0.0, 0.0, 1.0, 0.0, 0.0, 1.0, 1.0, 4.0, 1.0, 2.0, 0.0, 0.0, 0.0, 3.0, 5.0, 20.0, 2.0, 3.0, 11.0, 3.0, 3.0, 0.0, 1.0, 1.0, 5.0, 1.0, 3.0, 3.0, 6.0, 10.0, 0.0, 12.0, 3.0, 0.0, 5.0, 57.0, 2.0, 41.0, 23.0, 5.0, 7.0, 17.0, 9.0, 16.0, 4.0, 6.0, 7.0, 9.0, 47.0, 17.0, 1.0, 5.149, 3.415, 2.552, 4.8389999999999995, 5.314, 4.637, 5.308, 5.319, 2.9789999999999996, 6.829, 2.39, 2.017, 10.172, 4.658, 7.46, 2.445, 3.52, 5.51, 3.245, 10.737, 1.7380000000000002, 1.3780000000000001, 1.053, 684.0, 1.537, 1.339, 1.6580000000000001, 2.9130000000000003, 1.176, 2.252, 2.832, 718.0, 2.272, 1.591, 3.68, 2.155, 4.0, 4.843999999999999, 2.032, 2.969, 1.0, 29.0, 96.0, 100.0, 207.0, 146.0, 424.0, 271.0, 108.0, 147.0, 104.0, 251.0, 283.0, 144.0, 179.0, 345.0, 451.0, 833.0, 623.0, 434.0]}],                        {\"template\": {\"data\": {\"bar\": [{\"error_x\": {\"color\": \"#2a3f5f\"}, \"error_y\": {\"color\": \"#2a3f5f\"}, \"marker\": {\"line\": {\"color\": \"#E5ECF6\", \"width\": 0.5}}, \"type\": \"bar\"}], \"barpolar\": [{\"marker\": {\"line\": {\"color\": \"#E5ECF6\", \"width\": 0.5}}, \"type\": \"barpolar\"}], \"carpet\": [{\"aaxis\": {\"endlinecolor\": \"#2a3f5f\", \"gridcolor\": \"white\", \"linecolor\": \"white\", \"minorgridcolor\": \"white\", \"startlinecolor\": \"#2a3f5f\"}, \"baxis\": {\"endlinecolor\": \"#2a3f5f\", \"gridcolor\": \"white\", \"linecolor\": \"white\", \"minorgridcolor\": \"white\", \"startlinecolor\": \"#2a3f5f\"}, \"type\": \"carpet\"}], \"choropleth\": [{\"colorbar\": {\"outlinewidth\": 0, \"ticks\": \"\"}, \"type\": \"choropleth\"}], \"contour\": [{\"colorbar\": {\"outlinewidth\": 0, \"ticks\": \"\"}, \"colorscale\": [[0.0, \"#0d0887\"], [0.1111111111111111, \"#46039f\"], [0.2222222222222222, \"#7201a8\"], [0.3333333333333333, \"#9c179e\"], [0.4444444444444444, \"#bd3786\"], [0.5555555555555556, \"#d8576b\"], [0.6666666666666666, \"#ed7953\"], [0.7777777777777778, \"#fb9f3a\"], [0.8888888888888888, \"#fdca26\"], [1.0, \"#f0f921\"]], \"type\": \"contour\"}], \"contourcarpet\": [{\"colorbar\": {\"outlinewidth\": 0, \"ticks\": \"\"}, \"type\": \"contourcarpet\"}], \"heatmap\": [{\"colorbar\": {\"outlinewidth\": 0, \"ticks\": \"\"}, \"colorscale\": [[0.0, \"#0d0887\"], [0.1111111111111111, \"#46039f\"], [0.2222222222222222, \"#7201a8\"], [0.3333333333333333, \"#9c179e\"], [0.4444444444444444, \"#bd3786\"], [0.5555555555555556, \"#d8576b\"], [0.6666666666666666, \"#ed7953\"], [0.7777777777777778, \"#fb9f3a\"], [0.8888888888888888, \"#fdca26\"], [1.0, \"#f0f921\"]], \"type\": \"heatmap\"}], \"heatmapgl\": [{\"colorbar\": {\"outlinewidth\": 0, \"ticks\": \"\"}, \"colorscale\": [[0.0, \"#0d0887\"], [0.1111111111111111, \"#46039f\"], [0.2222222222222222, \"#7201a8\"], [0.3333333333333333, \"#9c179e\"], [0.4444444444444444, \"#bd3786\"], [0.5555555555555556, \"#d8576b\"], [0.6666666666666666, \"#ed7953\"], [0.7777777777777778, \"#fb9f3a\"], [0.8888888888888888, \"#fdca26\"], [1.0, \"#f0f921\"]], \"type\": \"heatmapgl\"}], \"histogram\": [{\"marker\": {\"colorbar\": {\"outlinewidth\": 0, \"ticks\": \"\"}}, \"type\": \"histogram\"}], \"histogram2d\": [{\"colorbar\": {\"outlinewidth\": 0, \"ticks\": \"\"}, \"colorscale\": [[0.0, \"#0d0887\"], [0.1111111111111111, \"#46039f\"], [0.2222222222222222, \"#7201a8\"], [0.3333333333333333, \"#9c179e\"], [0.4444444444444444, \"#bd3786\"], [0.5555555555555556, \"#d8576b\"], [0.6666666666666666, \"#ed7953\"], [0.7777777777777778, \"#fb9f3a\"], [0.8888888888888888, \"#fdca26\"], [1.0, \"#f0f921\"]], \"type\": \"histogram2d\"}], \"histogram2dcontour\": [{\"colorbar\": {\"outlinewidth\": 0, \"ticks\": \"\"}, \"colorscale\": [[0.0, \"#0d0887\"], [0.1111111111111111, \"#46039f\"], [0.2222222222222222, \"#7201a8\"], [0.3333333333333333, \"#9c179e\"], [0.4444444444444444, \"#bd3786\"], [0.5555555555555556, \"#d8576b\"], [0.6666666666666666, \"#ed7953\"], [0.7777777777777778, \"#fb9f3a\"], [0.8888888888888888, \"#fdca26\"], [1.0, \"#f0f921\"]], \"type\": \"histogram2dcontour\"}], \"mesh3d\": [{\"colorbar\": {\"outlinewidth\": 0, \"ticks\": \"\"}, \"type\": \"mesh3d\"}], \"parcoords\": [{\"line\": {\"colorbar\": {\"outlinewidth\": 0, \"ticks\": \"\"}}, \"type\": \"parcoords\"}], \"pie\": [{\"automargin\": true, \"type\": \"pie\"}], \"scatter\": [{\"marker\": {\"colorbar\": {\"outlinewidth\": 0, \"ticks\": \"\"}}, \"type\": \"scatter\"}], \"scatter3d\": [{\"line\": {\"colorbar\": {\"outlinewidth\": 0, \"ticks\": \"\"}}, \"marker\": {\"colorbar\": {\"outlinewidth\": 0, \"ticks\": \"\"}}, \"type\": \"scatter3d\"}], \"scattercarpet\": [{\"marker\": {\"colorbar\": {\"outlinewidth\": 0, \"ticks\": \"\"}}, \"type\": \"scattercarpet\"}], \"scattergeo\": [{\"marker\": {\"colorbar\": {\"outlinewidth\": 0, \"ticks\": \"\"}}, \"type\": \"scattergeo\"}], \"scattergl\": [{\"marker\": {\"colorbar\": {\"outlinewidth\": 0, \"ticks\": \"\"}}, \"type\": \"scattergl\"}], \"scattermapbox\": [{\"marker\": {\"colorbar\": {\"outlinewidth\": 0, \"ticks\": \"\"}}, \"type\": \"scattermapbox\"}], \"scatterpolar\": [{\"marker\": {\"colorbar\": {\"outlinewidth\": 0, \"ticks\": \"\"}}, \"type\": \"scatterpolar\"}], \"scatterpolargl\": [{\"marker\": {\"colorbar\": {\"outlinewidth\": 0, \"ticks\": \"\"}}, \"type\": \"scatterpolargl\"}], \"scatterternary\": [{\"marker\": {\"colorbar\": {\"outlinewidth\": 0, \"ticks\": \"\"}}, \"type\": \"scatterternary\"}], \"surface\": [{\"colorbar\": {\"outlinewidth\": 0, \"ticks\": \"\"}, \"colorscale\": [[0.0, \"#0d0887\"], [0.1111111111111111, \"#46039f\"], [0.2222222222222222, \"#7201a8\"], [0.3333333333333333, \"#9c179e\"], [0.4444444444444444, \"#bd3786\"], [0.5555555555555556, \"#d8576b\"], [0.6666666666666666, \"#ed7953\"], [0.7777777777777778, \"#fb9f3a\"], [0.8888888888888888, \"#fdca26\"], [1.0, \"#f0f921\"]], \"type\": \"surface\"}], \"table\": [{\"cells\": {\"fill\": {\"color\": \"#EBF0F8\"}, \"line\": {\"color\": \"white\"}}, \"header\": {\"fill\": {\"color\": \"#C8D4E3\"}, \"line\": {\"color\": \"white\"}}, \"type\": \"table\"}]}, \"layout\": {\"annotationdefaults\": {\"arrowcolor\": \"#2a3f5f\", \"arrowhead\": 0, \"arrowwidth\": 1}, \"coloraxis\": {\"colorbar\": {\"outlinewidth\": 0, \"ticks\": \"\"}}, \"colorscale\": {\"diverging\": [[0, \"#8e0152\"], [0.1, \"#c51b7d\"], [0.2, \"#de77ae\"], [0.3, \"#f1b6da\"], [0.4, \"#fde0ef\"], [0.5, \"#f7f7f7\"], [0.6, \"#e6f5d0\"], [0.7, \"#b8e186\"], [0.8, \"#7fbc41\"], [0.9, \"#4d9221\"], [1, \"#276419\"]], \"sequential\": [[0.0, \"#0d0887\"], [0.1111111111111111, \"#46039f\"], [0.2222222222222222, \"#7201a8\"], [0.3333333333333333, \"#9c179e\"], [0.4444444444444444, \"#bd3786\"], [0.5555555555555556, \"#d8576b\"], [0.6666666666666666, \"#ed7953\"], [0.7777777777777778, \"#fb9f3a\"], [0.8888888888888888, \"#fdca26\"], [1.0, \"#f0f921\"]], \"sequentialminus\": [[0.0, \"#0d0887\"], [0.1111111111111111, \"#46039f\"], [0.2222222222222222, \"#7201a8\"], [0.3333333333333333, \"#9c179e\"], [0.4444444444444444, \"#bd3786\"], [0.5555555555555556, \"#d8576b\"], [0.6666666666666666, \"#ed7953\"], [0.7777777777777778, \"#fb9f3a\"], [0.8888888888888888, \"#fdca26\"], [1.0, \"#f0f921\"]]}, \"colorway\": [\"#636efa\", \"#EF553B\", \"#00cc96\", \"#ab63fa\", \"#FFA15A\", \"#19d3f3\", \"#FF6692\", \"#B6E880\", \"#FF97FF\", \"#FECB52\"], \"font\": {\"color\": \"#2a3f5f\"}, \"geo\": {\"bgcolor\": \"white\", \"lakecolor\": \"white\", \"landcolor\": \"#E5ECF6\", \"showlakes\": true, \"showland\": true, \"subunitcolor\": \"white\"}, \"hoverlabel\": {\"align\": \"left\"}, \"hovermode\": \"closest\", \"mapbox\": {\"style\": \"light\"}, \"paper_bgcolor\": \"white\", \"plot_bgcolor\": \"#E5ECF6\", \"polar\": {\"angularaxis\": {\"gridcolor\": \"white\", \"linecolor\": \"white\", \"ticks\": \"\"}, \"bgcolor\": \"#E5ECF6\", \"radialaxis\": {\"gridcolor\": \"white\", \"linecolor\": \"white\", \"ticks\": \"\"}}, \"scene\": {\"xaxis\": {\"backgroundcolor\": \"#E5ECF6\", \"gridcolor\": \"white\", \"gridwidth\": 2, \"linecolor\": \"white\", \"showbackground\": true, \"ticks\": \"\", \"zerolinecolor\": \"white\"}, \"yaxis\": {\"backgroundcolor\": \"#E5ECF6\", \"gridcolor\": \"white\", \"gridwidth\": 2, \"linecolor\": \"white\", \"showbackground\": true, \"ticks\": \"\", \"zerolinecolor\": \"white\"}, \"zaxis\": {\"backgroundcolor\": \"#E5ECF6\", \"gridcolor\": \"white\", \"gridwidth\": 2, \"linecolor\": \"white\", \"showbackground\": true, \"ticks\": \"\", \"zerolinecolor\": \"white\"}}, \"shapedefaults\": {\"line\": {\"color\": \"#2a3f5f\"}}, \"ternary\": {\"aaxis\": {\"gridcolor\": \"white\", \"linecolor\": \"white\", \"ticks\": \"\"}, \"baxis\": {\"gridcolor\": \"white\", \"linecolor\": \"white\", \"ticks\": \"\"}, \"bgcolor\": \"#E5ECF6\", \"caxis\": {\"gridcolor\": \"white\", \"linecolor\": \"white\", \"ticks\": \"\"}}, \"title\": {\"x\": 0.05}, \"xaxis\": {\"automargin\": true, \"gridcolor\": \"white\", \"linecolor\": \"white\", \"ticks\": \"\", \"title\": {\"standoff\": 15}, \"zerolinecolor\": \"white\", \"zerolinewidth\": 2}, \"yaxis\": {\"automargin\": true, \"gridcolor\": \"white\", \"linecolor\": \"white\", \"ticks\": \"\", \"title\": {\"standoff\": 15}, \"zerolinecolor\": \"white\", \"zerolinewidth\": 2}}}, \"title\": {\"text\": \"Distribui\\u00e7\\u00e3o de inc\\u00eandios de 1998 a 2017 nos meses mais quentes\"}},                        {\"responsive\": true}                    ).then(function(){\n",
       "                            \n",
       "var gd = document.getElementById('51a563f2-2cc1-4ba3-8933-21e0857a78cd');\n",
       "var x = new MutationObserver(function (mutations, observer) {{\n",
       "        var display = window.getComputedStyle(gd).display;\n",
       "        if (!display || display === 'none') {{\n",
       "            console.log([gd, 'removed!']);\n",
       "            Plotly.purge(gd);\n",
       "            observer.disconnect();\n",
       "        }}\n",
       "}});\n",
       "\n",
       "// Listen for the removal of the full notebook cells\n",
       "var notebookContainer = gd.closest('#notebook-container');\n",
       "if (notebookContainer) {{\n",
       "    x.observe(notebookContainer, {childList: true});\n",
       "}}\n",
       "\n",
       "// Listen for the clearing of the current output cell\n",
       "var outputEl = gd.closest('.output');\n",
       "if (outputEl) {{\n",
       "    x.observe(outputEl, {childList: true});\n",
       "}}\n",
       "\n",
       "                        })                };                });            </script>        </div>"
      ]
     },
     "metadata": {},
     "output_type": "display_data"
    }
   ],
   "source": [
    "#according to different sources, months from June - November are the hottes in Brazil\n",
    "\n",
    "#isolating the hottest months by season\n",
    "month_array_summer=['6','7','8']\n",
    "month_array_fall=['9','10','11']\n",
    "#leaving data only for hottest months\n",
    "box_plot_df_summer=forest.loc[forest['month'].isin(month_array_summer)]\n",
    "box_plot_df_fall=forest.loc[forest['month'].isin(month_array_fall)]\n",
    "#visualizing reports\n",
    "box_plot=go.Figure()\n",
    "\n",
    "box_plot.add_trace(go.Box(y=box_plot_df_summer.number, x=box_plot_df_summer.month,\n",
    "                          name='Verão', marker_color='#3D9970',\n",
    "                          boxpoints='all', jitter=0.5, whiskerwidth=0.2,\n",
    "                          marker_size=2,line_width=2))\n",
    "box_plot.add_trace(go.Box(y=box_plot_df_fall.number, x=box_plot_df_fall.month,\n",
    "                         name='Outono', marker_color='#FF851B',\n",
    "                         boxpoints='all', jitter=0.5, whiskerwidth=0.2,\n",
    "                          marker_size=2,line_width=2))\n",
    "\n",
    "box_plot.update_layout(\n",
    "        title_text = 'Distribuição de incêndios de 1998 a 2017 nos meses mais quentes')\n",
    "box_plot.show()"
   ]
  },
  {
   "cell_type": "code",
   "execution_count": 39,
   "metadata": {},
   "outputs": [
    {
     "data": {
      "text/html": [
       "<div>\n",
       "<style scoped>\n",
       "    .dataframe tbody tr th:only-of-type {\n",
       "        vertical-align: middle;\n",
       "    }\n",
       "\n",
       "    .dataframe tbody tr th {\n",
       "        vertical-align: top;\n",
       "    }\n",
       "\n",
       "    .dataframe thead th {\n",
       "        text-align: right;\n",
       "    }\n",
       "</style>\n",
       "<table border=\"1\" class=\"dataframe\">\n",
       "  <thead>\n",
       "    <tr style=\"text-align: right;\">\n",
       "      <th></th>\n",
       "      <th>Estado</th>\n",
       "      <th>Volume</th>\n",
       "    </tr>\n",
       "  </thead>\n",
       "  <tbody>\n",
       "    <tr>\n",
       "      <th>0</th>\n",
       "      <td>Mato Grosso</td>\n",
       "      <td>96245.0</td>\n",
       "    </tr>\n",
       "    <tr>\n",
       "      <th>1</th>\n",
       "      <td>Paraiba</td>\n",
       "      <td>52437.0</td>\n",
       "    </tr>\n",
       "    <tr>\n",
       "      <th>2</th>\n",
       "      <td>Sao Paulo</td>\n",
       "      <td>51120.0</td>\n",
       "    </tr>\n",
       "    <tr>\n",
       "      <th>3</th>\n",
       "      <td>Rio</td>\n",
       "      <td>45160.0</td>\n",
       "    </tr>\n",
       "    <tr>\n",
       "      <th>4</th>\n",
       "      <td>Bahia</td>\n",
       "      <td>44747.0</td>\n",
       "    </tr>\n",
       "    <tr>\n",
       "      <th>6</th>\n",
       "      <td>Piau</td>\n",
       "      <td>37805.0</td>\n",
       "    </tr>\n",
       "    <tr>\n",
       "      <th>7</th>\n",
       "      <td>Goias</td>\n",
       "      <td>37694.0</td>\n",
       "    </tr>\n",
       "    <tr>\n",
       "      <th>8</th>\n",
       "      <td>Minas Gerais</td>\n",
       "      <td>37475.0</td>\n",
       "    </tr>\n",
       "    <tr>\n",
       "      <th>9</th>\n",
       "      <td>Tocantins</td>\n",
       "      <td>33707.0</td>\n",
       "    </tr>\n",
       "    <tr>\n",
       "      <th>10</th>\n",
       "      <td>Amazonas</td>\n",
       "      <td>30652.0</td>\n",
       "    </tr>\n",
       "  </tbody>\n",
       "</table>\n",
       "</div>"
      ],
      "text/plain": [
       "          Estado   Volume\n",
       "0    Mato Grosso  96245.0\n",
       "1        Paraiba  52437.0\n",
       "2      Sao Paulo  51120.0\n",
       "3            Rio  45160.0\n",
       "4          Bahia  44747.0\n",
       "6           Piau  37805.0\n",
       "7          Goias  37694.0\n",
       "8   Minas Gerais  37475.0\n",
       "9      Tocantins  33707.0\n",
       "10      Amazonas  30652.0"
      ]
     },
     "execution_count": 39,
     "metadata": {},
     "output_type": "execute_result"
    }
   ],
   "source": [
    "#creating subdataframe for visualizing this states geographically\n",
    "geo_plot_df=pd.DataFrame(time_plot_2_df.sum().nlargest(11))\n",
    "#formatting new dataframe\n",
    "geo_plot_df.rename(columns={0:'Volume'}, inplace=True)\n",
    "geo_plot_df.reset_index(inplace=True)\n",
    "geo_plot_df.rename(columns={'index':'Estado'}, inplace=True)\n",
    "geo_plot_df.drop(geo_plot_df.index[5], inplace=True)\n",
    "#cheking new sub dataframe \n",
    "geo_plot_df"
   ]
  },
  {
   "cell_type": "code",
   "execution_count": 40,
   "metadata": {},
   "outputs": [
    {
     "data": {
      "text/html": [
       "<div>\n",
       "<style scoped>\n",
       "    .dataframe tbody tr th:only-of-type {\n",
       "        vertical-align: middle;\n",
       "    }\n",
       "\n",
       "    .dataframe tbody tr th {\n",
       "        vertical-align: top;\n",
       "    }\n",
       "\n",
       "    .dataframe thead th {\n",
       "        text-align: right;\n",
       "    }\n",
       "</style>\n",
       "<table border=\"1\" class=\"dataframe\">\n",
       "  <thead>\n",
       "    <tr style=\"text-align: right;\">\n",
       "      <th></th>\n",
       "      <th>Estado</th>\n",
       "      <th>Volume</th>\n",
       "      <th>Lat</th>\n",
       "      <th>Long</th>\n",
       "    </tr>\n",
       "  </thead>\n",
       "  <tbody>\n",
       "    <tr>\n",
       "      <th>0</th>\n",
       "      <td>Mato Grosso</td>\n",
       "      <td>96245.0</td>\n",
       "      <td>-16.350000</td>\n",
       "      <td>-56.666668</td>\n",
       "    </tr>\n",
       "    <tr>\n",
       "      <th>1</th>\n",
       "      <td>Paraiba</td>\n",
       "      <td>52437.0</td>\n",
       "      <td>-22.158470</td>\n",
       "      <td>-43.293210</td>\n",
       "    </tr>\n",
       "    <tr>\n",
       "      <th>2</th>\n",
       "      <td>Sao Paulo</td>\n",
       "      <td>51120.0</td>\n",
       "      <td>-23.533773</td>\n",
       "      <td>-46.625290</td>\n",
       "    </tr>\n",
       "    <tr>\n",
       "      <th>3</th>\n",
       "      <td>Rio</td>\n",
       "      <td>45160.0</td>\n",
       "      <td>-22.908333</td>\n",
       "      <td>-43.196388</td>\n",
       "    </tr>\n",
       "    <tr>\n",
       "      <th>4</th>\n",
       "      <td>Bahia</td>\n",
       "      <td>44747.0</td>\n",
       "      <td>-11.409874</td>\n",
       "      <td>-41.280857</td>\n",
       "    </tr>\n",
       "    <tr>\n",
       "      <th>6</th>\n",
       "      <td>Piau</td>\n",
       "      <td>37805.0</td>\n",
       "      <td>-21.508900</td>\n",
       "      <td>-43.322800</td>\n",
       "    </tr>\n",
       "    <tr>\n",
       "      <th>7</th>\n",
       "      <td>Goias</td>\n",
       "      <td>37694.0</td>\n",
       "      <td>-16.328547</td>\n",
       "      <td>-48.953403</td>\n",
       "    </tr>\n",
       "    <tr>\n",
       "      <th>8</th>\n",
       "      <td>Minas Gerais</td>\n",
       "      <td>37475.0</td>\n",
       "      <td>-19.841644</td>\n",
       "      <td>-43.986511</td>\n",
       "    </tr>\n",
       "    <tr>\n",
       "      <th>9</th>\n",
       "      <td>Tocantins</td>\n",
       "      <td>33707.0</td>\n",
       "      <td>-21.175000</td>\n",
       "      <td>-43.017780</td>\n",
       "    </tr>\n",
       "    <tr>\n",
       "      <th>10</th>\n",
       "      <td>Amazonas</td>\n",
       "      <td>30652.0</td>\n",
       "      <td>-3.416843</td>\n",
       "      <td>-65.856064</td>\n",
       "    </tr>\n",
       "  </tbody>\n",
       "</table>\n",
       "</div>"
      ],
      "text/plain": [
       "          Estado   Volume        Lat       Long\n",
       "0    Mato Grosso  96245.0 -16.350000 -56.666668\n",
       "1        Paraiba  52437.0 -22.158470 -43.293210\n",
       "2      Sao Paulo  51120.0 -23.533773 -46.625290\n",
       "3            Rio  45160.0 -22.908333 -43.196388\n",
       "4          Bahia  44747.0 -11.409874 -41.280857\n",
       "6           Piau  37805.0 -21.508900 -43.322800\n",
       "7          Goias  37694.0 -16.328547 -48.953403\n",
       "8   Minas Gerais  37475.0 -19.841644 -43.986511\n",
       "9      Tocantins  33707.0 -21.175000 -43.017780\n",
       "10      Amazonas  30652.0  -3.416843 -65.856064"
      ]
     },
     "execution_count": 40,
     "metadata": {},
     "output_type": "execute_result"
    }
   ],
   "source": [
    "#taking my time and adding all coordinates (latitude and longitude) for this top 10 states\n",
    "lat=[-16.350000, -22.15847, -23.533773, -22.908333, -11.409874, -21.5089, -16.328547,\n",
    "     -19.841644, -21.175, -3.416843]\n",
    "long=[-56.666668, -43.29321, -46.625290, -43.196388, -41.280857, -43.3228, -48.953403,\n",
    "     -43.986511, -43.01778, -65.856064]\n",
    "#adding new coordinates as columns to subdataframe above\n",
    "geo_plot_df['Lat']=lat\n",
    "geo_plot_df['Long']=long\n",
    "#checking changes in subdataframe for geo visualization\n",
    "geo_plot_df"
   ]
  },
  {
   "cell_type": "code",
   "execution_count": 41,
   "metadata": {
    "scrolled": true
   },
   "outputs": [
    {
     "data": {
      "application/vnd.plotly.v1+json": {
       "config": {
        "plotlyServerURL": "https://plot.ly"
       },
       "data": [
        {
         "geo": "geo",
         "hovertemplate": "Estado=Mato Grosso<br>Volume=%{marker.size}<br>Lat=%{lat}<br>Long=%{lon}<extra></extra>",
         "lat": [
          -16.35
         ],
         "legendgroup": "Mato Grosso",
         "lon": [
          -56.666668
         ],
         "marker": {
          "color": "#636efa",
          "size": [
           96245
          ],
          "sizemode": "area",
          "sizeref": 240.6125
         },
         "name": "Mato Grosso",
         "showlegend": true,
         "type": "scattergeo"
        },
        {
         "geo": "geo",
         "hovertemplate": "Estado=Paraiba<br>Volume=%{marker.size}<br>Lat=%{lat}<br>Long=%{lon}<extra></extra>",
         "lat": [
          -22.15847
         ],
         "legendgroup": "Paraiba",
         "lon": [
          -43.29321
         ],
         "marker": {
          "color": "#EF553B",
          "size": [
           52437
          ],
          "sizemode": "area",
          "sizeref": 240.6125
         },
         "name": "Paraiba",
         "showlegend": true,
         "type": "scattergeo"
        },
        {
         "geo": "geo",
         "hovertemplate": "Estado=Sao Paulo<br>Volume=%{marker.size}<br>Lat=%{lat}<br>Long=%{lon}<extra></extra>",
         "lat": [
          -23.533773
         ],
         "legendgroup": "Sao Paulo",
         "lon": [
          -46.62529
         ],
         "marker": {
          "color": "#00cc96",
          "size": [
           51120
          ],
          "sizemode": "area",
          "sizeref": 240.6125
         },
         "name": "Sao Paulo",
         "showlegend": true,
         "type": "scattergeo"
        },
        {
         "geo": "geo",
         "hovertemplate": "Estado=Rio<br>Volume=%{marker.size}<br>Lat=%{lat}<br>Long=%{lon}<extra></extra>",
         "lat": [
          -22.908333
         ],
         "legendgroup": "Rio",
         "lon": [
          -43.196388
         ],
         "marker": {
          "color": "#ab63fa",
          "size": [
           45160
          ],
          "sizemode": "area",
          "sizeref": 240.6125
         },
         "name": "Rio",
         "showlegend": true,
         "type": "scattergeo"
        },
        {
         "geo": "geo",
         "hovertemplate": "Estado=Bahia<br>Volume=%{marker.size}<br>Lat=%{lat}<br>Long=%{lon}<extra></extra>",
         "lat": [
          -11.409874
         ],
         "legendgroup": "Bahia",
         "lon": [
          -41.280857
         ],
         "marker": {
          "color": "#FFA15A",
          "size": [
           44747
          ],
          "sizemode": "area",
          "sizeref": 240.6125
         },
         "name": "Bahia",
         "showlegend": true,
         "type": "scattergeo"
        },
        {
         "geo": "geo",
         "hovertemplate": "Estado=Piau<br>Volume=%{marker.size}<br>Lat=%{lat}<br>Long=%{lon}<extra></extra>",
         "lat": [
          -21.5089
         ],
         "legendgroup": "Piau",
         "lon": [
          -43.3228
         ],
         "marker": {
          "color": "#19d3f3",
          "size": [
           37805
          ],
          "sizemode": "area",
          "sizeref": 240.6125
         },
         "name": "Piau",
         "showlegend": true,
         "type": "scattergeo"
        },
        {
         "geo": "geo",
         "hovertemplate": "Estado=Goias<br>Volume=%{marker.size}<br>Lat=%{lat}<br>Long=%{lon}<extra></extra>",
         "lat": [
          -16.328547
         ],
         "legendgroup": "Goias",
         "lon": [
          -48.953403
         ],
         "marker": {
          "color": "#FF6692",
          "size": [
           37694
          ],
          "sizemode": "area",
          "sizeref": 240.6125
         },
         "name": "Goias",
         "showlegend": true,
         "type": "scattergeo"
        },
        {
         "geo": "geo",
         "hovertemplate": "Estado=Minas Gerais<br>Volume=%{marker.size}<br>Lat=%{lat}<br>Long=%{lon}<extra></extra>",
         "lat": [
          -19.841644
         ],
         "legendgroup": "Minas Gerais",
         "lon": [
          -43.986511
         ],
         "marker": {
          "color": "#B6E880",
          "size": [
           37475
          ],
          "sizemode": "area",
          "sizeref": 240.6125
         },
         "name": "Minas Gerais",
         "showlegend": true,
         "type": "scattergeo"
        },
        {
         "geo": "geo",
         "hovertemplate": "Estado=Tocantins<br>Volume=%{marker.size}<br>Lat=%{lat}<br>Long=%{lon}<extra></extra>",
         "lat": [
          -21.175
         ],
         "legendgroup": "Tocantins",
         "lon": [
          -43.01778
         ],
         "marker": {
          "color": "#FF97FF",
          "size": [
           33707
          ],
          "sizemode": "area",
          "sizeref": 240.6125
         },
         "name": "Tocantins",
         "showlegend": true,
         "type": "scattergeo"
        },
        {
         "geo": "geo",
         "hovertemplate": "Estado=Amazonas<br>Volume=%{marker.size}<br>Lat=%{lat}<br>Long=%{lon}<extra></extra>",
         "lat": [
          -3.416843
         ],
         "legendgroup": "Amazonas",
         "lon": [
          -65.856064
         ],
         "marker": {
          "color": "#FECB52",
          "size": [
           30652
          ],
          "sizemode": "area",
          "sizeref": 240.6125
         },
         "name": "Amazonas",
         "showlegend": true,
         "type": "scattergeo"
        }
       ],
       "layout": {
        "geo": {
         "center": {},
         "domain": {
          "x": [
           0,
           1
          ],
          "y": [
           0,
           1
          ]
         },
         "projection": {
          "type": "hammer"
         },
         "scope": "south america"
        },
        "legend": {
         "itemsizing": "constant",
         "title": {
          "text": "Estado"
         },
         "tracegroupgap": 0
        },
        "margin": {
         "t": 60
        },
        "template": {
         "data": {
          "bar": [
           {
            "error_x": {
             "color": "#2a3f5f"
            },
            "error_y": {
             "color": "#2a3f5f"
            },
            "marker": {
             "line": {
              "color": "#E5ECF6",
              "width": 0.5
             }
            },
            "type": "bar"
           }
          ],
          "barpolar": [
           {
            "marker": {
             "line": {
              "color": "#E5ECF6",
              "width": 0.5
             }
            },
            "type": "barpolar"
           }
          ],
          "carpet": [
           {
            "aaxis": {
             "endlinecolor": "#2a3f5f",
             "gridcolor": "white",
             "linecolor": "white",
             "minorgridcolor": "white",
             "startlinecolor": "#2a3f5f"
            },
            "baxis": {
             "endlinecolor": "#2a3f5f",
             "gridcolor": "white",
             "linecolor": "white",
             "minorgridcolor": "white",
             "startlinecolor": "#2a3f5f"
            },
            "type": "carpet"
           }
          ],
          "choropleth": [
           {
            "colorbar": {
             "outlinewidth": 0,
             "ticks": ""
            },
            "type": "choropleth"
           }
          ],
          "contour": [
           {
            "colorbar": {
             "outlinewidth": 0,
             "ticks": ""
            },
            "colorscale": [
             [
              0,
              "#0d0887"
             ],
             [
              0.1111111111111111,
              "#46039f"
             ],
             [
              0.2222222222222222,
              "#7201a8"
             ],
             [
              0.3333333333333333,
              "#9c179e"
             ],
             [
              0.4444444444444444,
              "#bd3786"
             ],
             [
              0.5555555555555556,
              "#d8576b"
             ],
             [
              0.6666666666666666,
              "#ed7953"
             ],
             [
              0.7777777777777778,
              "#fb9f3a"
             ],
             [
              0.8888888888888888,
              "#fdca26"
             ],
             [
              1,
              "#f0f921"
             ]
            ],
            "type": "contour"
           }
          ],
          "contourcarpet": [
           {
            "colorbar": {
             "outlinewidth": 0,
             "ticks": ""
            },
            "type": "contourcarpet"
           }
          ],
          "heatmap": [
           {
            "colorbar": {
             "outlinewidth": 0,
             "ticks": ""
            },
            "colorscale": [
             [
              0,
              "#0d0887"
             ],
             [
              0.1111111111111111,
              "#46039f"
             ],
             [
              0.2222222222222222,
              "#7201a8"
             ],
             [
              0.3333333333333333,
              "#9c179e"
             ],
             [
              0.4444444444444444,
              "#bd3786"
             ],
             [
              0.5555555555555556,
              "#d8576b"
             ],
             [
              0.6666666666666666,
              "#ed7953"
             ],
             [
              0.7777777777777778,
              "#fb9f3a"
             ],
             [
              0.8888888888888888,
              "#fdca26"
             ],
             [
              1,
              "#f0f921"
             ]
            ],
            "type": "heatmap"
           }
          ],
          "heatmapgl": [
           {
            "colorbar": {
             "outlinewidth": 0,
             "ticks": ""
            },
            "colorscale": [
             [
              0,
              "#0d0887"
             ],
             [
              0.1111111111111111,
              "#46039f"
             ],
             [
              0.2222222222222222,
              "#7201a8"
             ],
             [
              0.3333333333333333,
              "#9c179e"
             ],
             [
              0.4444444444444444,
              "#bd3786"
             ],
             [
              0.5555555555555556,
              "#d8576b"
             ],
             [
              0.6666666666666666,
              "#ed7953"
             ],
             [
              0.7777777777777778,
              "#fb9f3a"
             ],
             [
              0.8888888888888888,
              "#fdca26"
             ],
             [
              1,
              "#f0f921"
             ]
            ],
            "type": "heatmapgl"
           }
          ],
          "histogram": [
           {
            "marker": {
             "colorbar": {
              "outlinewidth": 0,
              "ticks": ""
             }
            },
            "type": "histogram"
           }
          ],
          "histogram2d": [
           {
            "colorbar": {
             "outlinewidth": 0,
             "ticks": ""
            },
            "colorscale": [
             [
              0,
              "#0d0887"
             ],
             [
              0.1111111111111111,
              "#46039f"
             ],
             [
              0.2222222222222222,
              "#7201a8"
             ],
             [
              0.3333333333333333,
              "#9c179e"
             ],
             [
              0.4444444444444444,
              "#bd3786"
             ],
             [
              0.5555555555555556,
              "#d8576b"
             ],
             [
              0.6666666666666666,
              "#ed7953"
             ],
             [
              0.7777777777777778,
              "#fb9f3a"
             ],
             [
              0.8888888888888888,
              "#fdca26"
             ],
             [
              1,
              "#f0f921"
             ]
            ],
            "type": "histogram2d"
           }
          ],
          "histogram2dcontour": [
           {
            "colorbar": {
             "outlinewidth": 0,
             "ticks": ""
            },
            "colorscale": [
             [
              0,
              "#0d0887"
             ],
             [
              0.1111111111111111,
              "#46039f"
             ],
             [
              0.2222222222222222,
              "#7201a8"
             ],
             [
              0.3333333333333333,
              "#9c179e"
             ],
             [
              0.4444444444444444,
              "#bd3786"
             ],
             [
              0.5555555555555556,
              "#d8576b"
             ],
             [
              0.6666666666666666,
              "#ed7953"
             ],
             [
              0.7777777777777778,
              "#fb9f3a"
             ],
             [
              0.8888888888888888,
              "#fdca26"
             ],
             [
              1,
              "#f0f921"
             ]
            ],
            "type": "histogram2dcontour"
           }
          ],
          "mesh3d": [
           {
            "colorbar": {
             "outlinewidth": 0,
             "ticks": ""
            },
            "type": "mesh3d"
           }
          ],
          "parcoords": [
           {
            "line": {
             "colorbar": {
              "outlinewidth": 0,
              "ticks": ""
             }
            },
            "type": "parcoords"
           }
          ],
          "pie": [
           {
            "automargin": true,
            "type": "pie"
           }
          ],
          "scatter": [
           {
            "marker": {
             "colorbar": {
              "outlinewidth": 0,
              "ticks": ""
             }
            },
            "type": "scatter"
           }
          ],
          "scatter3d": [
           {
            "line": {
             "colorbar": {
              "outlinewidth": 0,
              "ticks": ""
             }
            },
            "marker": {
             "colorbar": {
              "outlinewidth": 0,
              "ticks": ""
             }
            },
            "type": "scatter3d"
           }
          ],
          "scattercarpet": [
           {
            "marker": {
             "colorbar": {
              "outlinewidth": 0,
              "ticks": ""
             }
            },
            "type": "scattercarpet"
           }
          ],
          "scattergeo": [
           {
            "marker": {
             "colorbar": {
              "outlinewidth": 0,
              "ticks": ""
             }
            },
            "type": "scattergeo"
           }
          ],
          "scattergl": [
           {
            "marker": {
             "colorbar": {
              "outlinewidth": 0,
              "ticks": ""
             }
            },
            "type": "scattergl"
           }
          ],
          "scattermapbox": [
           {
            "marker": {
             "colorbar": {
              "outlinewidth": 0,
              "ticks": ""
             }
            },
            "type": "scattermapbox"
           }
          ],
          "scatterpolar": [
           {
            "marker": {
             "colorbar": {
              "outlinewidth": 0,
              "ticks": ""
             }
            },
            "type": "scatterpolar"
           }
          ],
          "scatterpolargl": [
           {
            "marker": {
             "colorbar": {
              "outlinewidth": 0,
              "ticks": ""
             }
            },
            "type": "scatterpolargl"
           }
          ],
          "scatterternary": [
           {
            "marker": {
             "colorbar": {
              "outlinewidth": 0,
              "ticks": ""
             }
            },
            "type": "scatterternary"
           }
          ],
          "surface": [
           {
            "colorbar": {
             "outlinewidth": 0,
             "ticks": ""
            },
            "colorscale": [
             [
              0,
              "#0d0887"
             ],
             [
              0.1111111111111111,
              "#46039f"
             ],
             [
              0.2222222222222222,
              "#7201a8"
             ],
             [
              0.3333333333333333,
              "#9c179e"
             ],
             [
              0.4444444444444444,
              "#bd3786"
             ],
             [
              0.5555555555555556,
              "#d8576b"
             ],
             [
              0.6666666666666666,
              "#ed7953"
             ],
             [
              0.7777777777777778,
              "#fb9f3a"
             ],
             [
              0.8888888888888888,
              "#fdca26"
             ],
             [
              1,
              "#f0f921"
             ]
            ],
            "type": "surface"
           }
          ],
          "table": [
           {
            "cells": {
             "fill": {
              "color": "#EBF0F8"
             },
             "line": {
              "color": "white"
             }
            },
            "header": {
             "fill": {
              "color": "#C8D4E3"
             },
             "line": {
              "color": "white"
             }
            },
            "type": "table"
           }
          ]
         },
         "layout": {
          "annotationdefaults": {
           "arrowcolor": "#2a3f5f",
           "arrowhead": 0,
           "arrowwidth": 1
          },
          "coloraxis": {
           "colorbar": {
            "outlinewidth": 0,
            "ticks": ""
           }
          },
          "colorscale": {
           "diverging": [
            [
             0,
             "#8e0152"
            ],
            [
             0.1,
             "#c51b7d"
            ],
            [
             0.2,
             "#de77ae"
            ],
            [
             0.3,
             "#f1b6da"
            ],
            [
             0.4,
             "#fde0ef"
            ],
            [
             0.5,
             "#f7f7f7"
            ],
            [
             0.6,
             "#e6f5d0"
            ],
            [
             0.7,
             "#b8e186"
            ],
            [
             0.8,
             "#7fbc41"
            ],
            [
             0.9,
             "#4d9221"
            ],
            [
             1,
             "#276419"
            ]
           ],
           "sequential": [
            [
             0,
             "#0d0887"
            ],
            [
             0.1111111111111111,
             "#46039f"
            ],
            [
             0.2222222222222222,
             "#7201a8"
            ],
            [
             0.3333333333333333,
             "#9c179e"
            ],
            [
             0.4444444444444444,
             "#bd3786"
            ],
            [
             0.5555555555555556,
             "#d8576b"
            ],
            [
             0.6666666666666666,
             "#ed7953"
            ],
            [
             0.7777777777777778,
             "#fb9f3a"
            ],
            [
             0.8888888888888888,
             "#fdca26"
            ],
            [
             1,
             "#f0f921"
            ]
           ],
           "sequentialminus": [
            [
             0,
             "#0d0887"
            ],
            [
             0.1111111111111111,
             "#46039f"
            ],
            [
             0.2222222222222222,
             "#7201a8"
            ],
            [
             0.3333333333333333,
             "#9c179e"
            ],
            [
             0.4444444444444444,
             "#bd3786"
            ],
            [
             0.5555555555555556,
             "#d8576b"
            ],
            [
             0.6666666666666666,
             "#ed7953"
            ],
            [
             0.7777777777777778,
             "#fb9f3a"
            ],
            [
             0.8888888888888888,
             "#fdca26"
            ],
            [
             1,
             "#f0f921"
            ]
           ]
          },
          "colorway": [
           "#636efa",
           "#EF553B",
           "#00cc96",
           "#ab63fa",
           "#FFA15A",
           "#19d3f3",
           "#FF6692",
           "#B6E880",
           "#FF97FF",
           "#FECB52"
          ],
          "font": {
           "color": "#2a3f5f"
          },
          "geo": {
           "bgcolor": "white",
           "lakecolor": "white",
           "landcolor": "#E5ECF6",
           "showlakes": true,
           "showland": true,
           "subunitcolor": "white"
          },
          "hoverlabel": {
           "align": "left"
          },
          "hovermode": "closest",
          "mapbox": {
           "style": "light"
          },
          "paper_bgcolor": "white",
          "plot_bgcolor": "#E5ECF6",
          "polar": {
           "angularaxis": {
            "gridcolor": "white",
            "linecolor": "white",
            "ticks": ""
           },
           "bgcolor": "#E5ECF6",
           "radialaxis": {
            "gridcolor": "white",
            "linecolor": "white",
            "ticks": ""
           }
          },
          "scene": {
           "xaxis": {
            "backgroundcolor": "#E5ECF6",
            "gridcolor": "white",
            "gridwidth": 2,
            "linecolor": "white",
            "showbackground": true,
            "ticks": "",
            "zerolinecolor": "white"
           },
           "yaxis": {
            "backgroundcolor": "#E5ECF6",
            "gridcolor": "white",
            "gridwidth": 2,
            "linecolor": "white",
            "showbackground": true,
            "ticks": "",
            "zerolinecolor": "white"
           },
           "zaxis": {
            "backgroundcolor": "#E5ECF6",
            "gridcolor": "white",
            "gridwidth": 2,
            "linecolor": "white",
            "showbackground": true,
            "ticks": "",
            "zerolinecolor": "white"
           }
          },
          "shapedefaults": {
           "line": {
            "color": "#2a3f5f"
           }
          },
          "ternary": {
           "aaxis": {
            "gridcolor": "white",
            "linecolor": "white",
            "ticks": ""
           },
           "baxis": {
            "gridcolor": "white",
            "linecolor": "white",
            "ticks": ""
           },
           "bgcolor": "#E5ECF6",
           "caxis": {
            "gridcolor": "white",
            "linecolor": "white",
            "ticks": ""
           }
          },
          "title": {
           "x": 0.05
          },
          "xaxis": {
           "automargin": true,
           "gridcolor": "white",
           "linecolor": "white",
           "ticks": "",
           "title": {
            "standoff": 15
           },
           "zerolinecolor": "white",
           "zerolinewidth": 2
          },
          "yaxis": {
           "automargin": true,
           "gridcolor": "white",
           "linecolor": "white",
           "ticks": "",
           "title": {
            "standoff": 15
           },
           "zerolinecolor": "white",
           "zerolinewidth": 2
          }
         }
        },
        "title": {
         "text": "Estados mais afetados de 1998 a 2017"
        }
       }
      },
      "text/html": [
       "<div>                            <div id=\"849548bd-88d6-4b58-9300-73891b39994a\" class=\"plotly-graph-div\" style=\"height:525px; width:100%;\"></div>            <script type=\"text/javascript\">                require([\"plotly\"], function(Plotly) {                    window.PLOTLYENV=window.PLOTLYENV || {};                                    if (document.getElementById(\"849548bd-88d6-4b58-9300-73891b39994a\")) {                    Plotly.newPlot(                        \"849548bd-88d6-4b58-9300-73891b39994a\",                        [{\"geo\": \"geo\", \"hovertemplate\": \"Estado=Mato Grosso<br>Volume=%{marker.size}<br>Lat=%{lat}<br>Long=%{lon}<extra></extra>\", \"lat\": [-16.35], \"legendgroup\": \"Mato Grosso\", \"lon\": [-56.666668], \"marker\": {\"color\": \"#636efa\", \"size\": [96245.0], \"sizemode\": \"area\", \"sizeref\": 240.6125}, \"name\": \"Mato Grosso\", \"showlegend\": true, \"type\": \"scattergeo\"}, {\"geo\": \"geo\", \"hovertemplate\": \"Estado=Paraiba<br>Volume=%{marker.size}<br>Lat=%{lat}<br>Long=%{lon}<extra></extra>\", \"lat\": [-22.15847], \"legendgroup\": \"Paraiba\", \"lon\": [-43.29321], \"marker\": {\"color\": \"#EF553B\", \"size\": [52437.0], \"sizemode\": \"area\", \"sizeref\": 240.6125}, \"name\": \"Paraiba\", \"showlegend\": true, \"type\": \"scattergeo\"}, {\"geo\": \"geo\", \"hovertemplate\": \"Estado=Sao Paulo<br>Volume=%{marker.size}<br>Lat=%{lat}<br>Long=%{lon}<extra></extra>\", \"lat\": [-23.533773], \"legendgroup\": \"Sao Paulo\", \"lon\": [-46.62529], \"marker\": {\"color\": \"#00cc96\", \"size\": [51120.0], \"sizemode\": \"area\", \"sizeref\": 240.6125}, \"name\": \"Sao Paulo\", \"showlegend\": true, \"type\": \"scattergeo\"}, {\"geo\": \"geo\", \"hovertemplate\": \"Estado=Rio<br>Volume=%{marker.size}<br>Lat=%{lat}<br>Long=%{lon}<extra></extra>\", \"lat\": [-22.908333], \"legendgroup\": \"Rio\", \"lon\": [-43.196388], \"marker\": {\"color\": \"#ab63fa\", \"size\": [45160.0], \"sizemode\": \"area\", \"sizeref\": 240.6125}, \"name\": \"Rio\", \"showlegend\": true, \"type\": \"scattergeo\"}, {\"geo\": \"geo\", \"hovertemplate\": \"Estado=Bahia<br>Volume=%{marker.size}<br>Lat=%{lat}<br>Long=%{lon}<extra></extra>\", \"lat\": [-11.409874], \"legendgroup\": \"Bahia\", \"lon\": [-41.280857], \"marker\": {\"color\": \"#FFA15A\", \"size\": [44747.0], \"sizemode\": \"area\", \"sizeref\": 240.6125}, \"name\": \"Bahia\", \"showlegend\": true, \"type\": \"scattergeo\"}, {\"geo\": \"geo\", \"hovertemplate\": \"Estado=Piau<br>Volume=%{marker.size}<br>Lat=%{lat}<br>Long=%{lon}<extra></extra>\", \"lat\": [-21.5089], \"legendgroup\": \"Piau\", \"lon\": [-43.3228], \"marker\": {\"color\": \"#19d3f3\", \"size\": [37805.0], \"sizemode\": \"area\", \"sizeref\": 240.6125}, \"name\": \"Piau\", \"showlegend\": true, \"type\": \"scattergeo\"}, {\"geo\": \"geo\", \"hovertemplate\": \"Estado=Goias<br>Volume=%{marker.size}<br>Lat=%{lat}<br>Long=%{lon}<extra></extra>\", \"lat\": [-16.328547], \"legendgroup\": \"Goias\", \"lon\": [-48.953403], \"marker\": {\"color\": \"#FF6692\", \"size\": [37694.0], \"sizemode\": \"area\", \"sizeref\": 240.6125}, \"name\": \"Goias\", \"showlegend\": true, \"type\": \"scattergeo\"}, {\"geo\": \"geo\", \"hovertemplate\": \"Estado=Minas Gerais<br>Volume=%{marker.size}<br>Lat=%{lat}<br>Long=%{lon}<extra></extra>\", \"lat\": [-19.841644], \"legendgroup\": \"Minas Gerais\", \"lon\": [-43.986511], \"marker\": {\"color\": \"#B6E880\", \"size\": [37475.0], \"sizemode\": \"area\", \"sizeref\": 240.6125}, \"name\": \"Minas Gerais\", \"showlegend\": true, \"type\": \"scattergeo\"}, {\"geo\": \"geo\", \"hovertemplate\": \"Estado=Tocantins<br>Volume=%{marker.size}<br>Lat=%{lat}<br>Long=%{lon}<extra></extra>\", \"lat\": [-21.175], \"legendgroup\": \"Tocantins\", \"lon\": [-43.01778], \"marker\": {\"color\": \"#FF97FF\", \"size\": [33707.0], \"sizemode\": \"area\", \"sizeref\": 240.6125}, \"name\": \"Tocantins\", \"showlegend\": true, \"type\": \"scattergeo\"}, {\"geo\": \"geo\", \"hovertemplate\": \"Estado=Amazonas<br>Volume=%{marker.size}<br>Lat=%{lat}<br>Long=%{lon}<extra></extra>\", \"lat\": [-3.416843], \"legendgroup\": \"Amazonas\", \"lon\": [-65.856064], \"marker\": {\"color\": \"#FECB52\", \"size\": [30652.0], \"sizemode\": \"area\", \"sizeref\": 240.6125}, \"name\": \"Amazonas\", \"showlegend\": true, \"type\": \"scattergeo\"}],                        {\"geo\": {\"center\": {}, \"domain\": {\"x\": [0.0, 1.0], \"y\": [0.0, 1.0]}, \"projection\": {\"type\": \"hammer\"}, \"scope\": \"south america\"}, \"legend\": {\"itemsizing\": \"constant\", \"title\": {\"text\": \"Estado\"}, \"tracegroupgap\": 0}, \"margin\": {\"t\": 60}, \"template\": {\"data\": {\"bar\": [{\"error_x\": {\"color\": \"#2a3f5f\"}, \"error_y\": {\"color\": \"#2a3f5f\"}, \"marker\": {\"line\": {\"color\": \"#E5ECF6\", \"width\": 0.5}}, \"type\": \"bar\"}], \"barpolar\": [{\"marker\": {\"line\": {\"color\": \"#E5ECF6\", \"width\": 0.5}}, \"type\": \"barpolar\"}], \"carpet\": [{\"aaxis\": {\"endlinecolor\": \"#2a3f5f\", \"gridcolor\": \"white\", \"linecolor\": \"white\", \"minorgridcolor\": \"white\", \"startlinecolor\": \"#2a3f5f\"}, \"baxis\": {\"endlinecolor\": \"#2a3f5f\", \"gridcolor\": \"white\", \"linecolor\": \"white\", \"minorgridcolor\": \"white\", \"startlinecolor\": \"#2a3f5f\"}, \"type\": \"carpet\"}], \"choropleth\": [{\"colorbar\": {\"outlinewidth\": 0, \"ticks\": \"\"}, \"type\": \"choropleth\"}], \"contour\": [{\"colorbar\": {\"outlinewidth\": 0, \"ticks\": \"\"}, \"colorscale\": [[0.0, \"#0d0887\"], [0.1111111111111111, \"#46039f\"], [0.2222222222222222, \"#7201a8\"], [0.3333333333333333, \"#9c179e\"], [0.4444444444444444, \"#bd3786\"], [0.5555555555555556, \"#d8576b\"], [0.6666666666666666, \"#ed7953\"], [0.7777777777777778, \"#fb9f3a\"], [0.8888888888888888, \"#fdca26\"], [1.0, \"#f0f921\"]], \"type\": \"contour\"}], \"contourcarpet\": [{\"colorbar\": {\"outlinewidth\": 0, \"ticks\": \"\"}, \"type\": \"contourcarpet\"}], \"heatmap\": [{\"colorbar\": {\"outlinewidth\": 0, \"ticks\": \"\"}, \"colorscale\": [[0.0, \"#0d0887\"], [0.1111111111111111, \"#46039f\"], [0.2222222222222222, \"#7201a8\"], [0.3333333333333333, \"#9c179e\"], [0.4444444444444444, \"#bd3786\"], [0.5555555555555556, \"#d8576b\"], [0.6666666666666666, \"#ed7953\"], [0.7777777777777778, \"#fb9f3a\"], [0.8888888888888888, \"#fdca26\"], [1.0, \"#f0f921\"]], \"type\": \"heatmap\"}], \"heatmapgl\": [{\"colorbar\": {\"outlinewidth\": 0, \"ticks\": \"\"}, \"colorscale\": [[0.0, \"#0d0887\"], [0.1111111111111111, \"#46039f\"], [0.2222222222222222, \"#7201a8\"], [0.3333333333333333, \"#9c179e\"], [0.4444444444444444, \"#bd3786\"], [0.5555555555555556, \"#d8576b\"], [0.6666666666666666, \"#ed7953\"], [0.7777777777777778, \"#fb9f3a\"], [0.8888888888888888, \"#fdca26\"], [1.0, \"#f0f921\"]], \"type\": \"heatmapgl\"}], \"histogram\": [{\"marker\": {\"colorbar\": {\"outlinewidth\": 0, \"ticks\": \"\"}}, \"type\": \"histogram\"}], \"histogram2d\": [{\"colorbar\": {\"outlinewidth\": 0, \"ticks\": \"\"}, \"colorscale\": [[0.0, \"#0d0887\"], [0.1111111111111111, \"#46039f\"], [0.2222222222222222, \"#7201a8\"], [0.3333333333333333, \"#9c179e\"], [0.4444444444444444, \"#bd3786\"], [0.5555555555555556, \"#d8576b\"], [0.6666666666666666, \"#ed7953\"], [0.7777777777777778, \"#fb9f3a\"], [0.8888888888888888, \"#fdca26\"], [1.0, \"#f0f921\"]], \"type\": \"histogram2d\"}], \"histogram2dcontour\": [{\"colorbar\": {\"outlinewidth\": 0, \"ticks\": \"\"}, \"colorscale\": [[0.0, \"#0d0887\"], [0.1111111111111111, \"#46039f\"], [0.2222222222222222, \"#7201a8\"], [0.3333333333333333, \"#9c179e\"], [0.4444444444444444, \"#bd3786\"], [0.5555555555555556, \"#d8576b\"], [0.6666666666666666, \"#ed7953\"], [0.7777777777777778, \"#fb9f3a\"], [0.8888888888888888, \"#fdca26\"], [1.0, \"#f0f921\"]], \"type\": \"histogram2dcontour\"}], \"mesh3d\": [{\"colorbar\": {\"outlinewidth\": 0, \"ticks\": \"\"}, \"type\": \"mesh3d\"}], \"parcoords\": [{\"line\": {\"colorbar\": {\"outlinewidth\": 0, \"ticks\": \"\"}}, \"type\": \"parcoords\"}], \"pie\": [{\"automargin\": true, \"type\": \"pie\"}], \"scatter\": [{\"marker\": {\"colorbar\": {\"outlinewidth\": 0, \"ticks\": \"\"}}, \"type\": \"scatter\"}], \"scatter3d\": [{\"line\": {\"colorbar\": {\"outlinewidth\": 0, \"ticks\": \"\"}}, \"marker\": {\"colorbar\": {\"outlinewidth\": 0, \"ticks\": \"\"}}, \"type\": \"scatter3d\"}], \"scattercarpet\": [{\"marker\": {\"colorbar\": {\"outlinewidth\": 0, \"ticks\": \"\"}}, \"type\": \"scattercarpet\"}], \"scattergeo\": [{\"marker\": {\"colorbar\": {\"outlinewidth\": 0, \"ticks\": \"\"}}, \"type\": \"scattergeo\"}], \"scattergl\": [{\"marker\": {\"colorbar\": {\"outlinewidth\": 0, \"ticks\": \"\"}}, \"type\": \"scattergl\"}], \"scattermapbox\": [{\"marker\": {\"colorbar\": {\"outlinewidth\": 0, \"ticks\": \"\"}}, \"type\": \"scattermapbox\"}], \"scatterpolar\": [{\"marker\": {\"colorbar\": {\"outlinewidth\": 0, \"ticks\": \"\"}}, \"type\": \"scatterpolar\"}], \"scatterpolargl\": [{\"marker\": {\"colorbar\": {\"outlinewidth\": 0, \"ticks\": \"\"}}, \"type\": \"scatterpolargl\"}], \"scatterternary\": [{\"marker\": {\"colorbar\": {\"outlinewidth\": 0, \"ticks\": \"\"}}, \"type\": \"scatterternary\"}], \"surface\": [{\"colorbar\": {\"outlinewidth\": 0, \"ticks\": \"\"}, \"colorscale\": [[0.0, \"#0d0887\"], [0.1111111111111111, \"#46039f\"], [0.2222222222222222, \"#7201a8\"], [0.3333333333333333, \"#9c179e\"], [0.4444444444444444, \"#bd3786\"], [0.5555555555555556, \"#d8576b\"], [0.6666666666666666, \"#ed7953\"], [0.7777777777777778, \"#fb9f3a\"], [0.8888888888888888, \"#fdca26\"], [1.0, \"#f0f921\"]], \"type\": \"surface\"}], \"table\": [{\"cells\": {\"fill\": {\"color\": \"#EBF0F8\"}, \"line\": {\"color\": \"white\"}}, \"header\": {\"fill\": {\"color\": \"#C8D4E3\"}, \"line\": {\"color\": \"white\"}}, \"type\": \"table\"}]}, \"layout\": {\"annotationdefaults\": {\"arrowcolor\": \"#2a3f5f\", \"arrowhead\": 0, \"arrowwidth\": 1}, \"coloraxis\": {\"colorbar\": {\"outlinewidth\": 0, \"ticks\": \"\"}}, \"colorscale\": {\"diverging\": [[0, \"#8e0152\"], [0.1, \"#c51b7d\"], [0.2, \"#de77ae\"], [0.3, \"#f1b6da\"], [0.4, \"#fde0ef\"], [0.5, \"#f7f7f7\"], [0.6, \"#e6f5d0\"], [0.7, \"#b8e186\"], [0.8, \"#7fbc41\"], [0.9, \"#4d9221\"], [1, \"#276419\"]], \"sequential\": [[0.0, \"#0d0887\"], [0.1111111111111111, \"#46039f\"], [0.2222222222222222, \"#7201a8\"], [0.3333333333333333, \"#9c179e\"], [0.4444444444444444, \"#bd3786\"], [0.5555555555555556, \"#d8576b\"], [0.6666666666666666, \"#ed7953\"], [0.7777777777777778, \"#fb9f3a\"], [0.8888888888888888, \"#fdca26\"], [1.0, \"#f0f921\"]], \"sequentialminus\": [[0.0, \"#0d0887\"], [0.1111111111111111, \"#46039f\"], [0.2222222222222222, \"#7201a8\"], [0.3333333333333333, \"#9c179e\"], [0.4444444444444444, \"#bd3786\"], [0.5555555555555556, \"#d8576b\"], [0.6666666666666666, \"#ed7953\"], [0.7777777777777778, \"#fb9f3a\"], [0.8888888888888888, \"#fdca26\"], [1.0, \"#f0f921\"]]}, \"colorway\": [\"#636efa\", \"#EF553B\", \"#00cc96\", \"#ab63fa\", \"#FFA15A\", \"#19d3f3\", \"#FF6692\", \"#B6E880\", \"#FF97FF\", \"#FECB52\"], \"font\": {\"color\": \"#2a3f5f\"}, \"geo\": {\"bgcolor\": \"white\", \"lakecolor\": \"white\", \"landcolor\": \"#E5ECF6\", \"showlakes\": true, \"showland\": true, \"subunitcolor\": \"white\"}, \"hoverlabel\": {\"align\": \"left\"}, \"hovermode\": \"closest\", \"mapbox\": {\"style\": \"light\"}, \"paper_bgcolor\": \"white\", \"plot_bgcolor\": \"#E5ECF6\", \"polar\": {\"angularaxis\": {\"gridcolor\": \"white\", \"linecolor\": \"white\", \"ticks\": \"\"}, \"bgcolor\": \"#E5ECF6\", \"radialaxis\": {\"gridcolor\": \"white\", \"linecolor\": \"white\", \"ticks\": \"\"}}, \"scene\": {\"xaxis\": {\"backgroundcolor\": \"#E5ECF6\", \"gridcolor\": \"white\", \"gridwidth\": 2, \"linecolor\": \"white\", \"showbackground\": true, \"ticks\": \"\", \"zerolinecolor\": \"white\"}, \"yaxis\": {\"backgroundcolor\": \"#E5ECF6\", \"gridcolor\": \"white\", \"gridwidth\": 2, \"linecolor\": \"white\", \"showbackground\": true, \"ticks\": \"\", \"zerolinecolor\": \"white\"}, \"zaxis\": {\"backgroundcolor\": \"#E5ECF6\", \"gridcolor\": \"white\", \"gridwidth\": 2, \"linecolor\": \"white\", \"showbackground\": true, \"ticks\": \"\", \"zerolinecolor\": \"white\"}}, \"shapedefaults\": {\"line\": {\"color\": \"#2a3f5f\"}}, \"ternary\": {\"aaxis\": {\"gridcolor\": \"white\", \"linecolor\": \"white\", \"ticks\": \"\"}, \"baxis\": {\"gridcolor\": \"white\", \"linecolor\": \"white\", \"ticks\": \"\"}, \"bgcolor\": \"#E5ECF6\", \"caxis\": {\"gridcolor\": \"white\", \"linecolor\": \"white\", \"ticks\": \"\"}}, \"title\": {\"x\": 0.05}, \"xaxis\": {\"automargin\": true, \"gridcolor\": \"white\", \"linecolor\": \"white\", \"ticks\": \"\", \"title\": {\"standoff\": 15}, \"zerolinecolor\": \"white\", \"zerolinewidth\": 2}, \"yaxis\": {\"automargin\": true, \"gridcolor\": \"white\", \"linecolor\": \"white\", \"ticks\": \"\", \"title\": {\"standoff\": 15}, \"zerolinecolor\": \"white\", \"zerolinewidth\": 2}}}, \"title\": {\"text\": \"Estados mais afetados de 1998 a 2017\"}},                        {\"responsive\": true}                    ).then(function(){\n",
       "                            \n",
       "var gd = document.getElementById('849548bd-88d6-4b58-9300-73891b39994a');\n",
       "var x = new MutationObserver(function (mutations, observer) {{\n",
       "        var display = window.getComputedStyle(gd).display;\n",
       "        if (!display || display === 'none') {{\n",
       "            console.log([gd, 'removed!']);\n",
       "            Plotly.purge(gd);\n",
       "            observer.disconnect();\n",
       "        }}\n",
       "}});\n",
       "\n",
       "// Listen for the removal of the full notebook cells\n",
       "var notebookContainer = gd.closest('#notebook-container');\n",
       "if (notebookContainer) {{\n",
       "    x.observe(notebookContainer, {childList: true});\n",
       "}}\n",
       "\n",
       "// Listen for the clearing of the current output cell\n",
       "var outputEl = gd.closest('.output');\n",
       "if (outputEl) {{\n",
       "    x.observe(outputEl, {childList: true});\n",
       "}}\n",
       "\n",
       "                        })                };                });            </script>        </div>"
      ]
     },
     "metadata": {},
     "output_type": "display_data"
    }
   ],
   "source": [
    "#using scatter geo with above created subdataframe\n",
    "fig = px.scatter_geo(data_frame=geo_plot_df, scope='south america',lat='Lat',lon='Long',\n",
    "                     size='Volume', color='Estado', projection='hammer')\n",
    "fig.update_layout(\n",
    "        title_text = 'Estados mais afetados de 1998 a 2017')\n",
    "fig.show()"
   ]
  },
  {
   "cell_type": "code",
   "execution_count": null,
   "metadata": {},
   "outputs": [],
   "source": []
  }
 ],
 "metadata": {
  "kernelspec": {
   "display_name": "Python 3",
   "language": "python",
   "name": "python3"
  },
  "language_info": {
   "codemirror_mode": {
    "name": "ipython",
    "version": 3
   },
   "file_extension": ".py",
   "mimetype": "text/x-python",
   "name": "python",
   "nbconvert_exporter": "python",
   "pygments_lexer": "ipython3",
   "version": "3.7.6"
  }
 },
 "nbformat": 4,
 "nbformat_minor": 2
}
